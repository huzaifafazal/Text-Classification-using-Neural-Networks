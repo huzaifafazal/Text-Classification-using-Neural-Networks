{
  "cells": [
    {
      "cell_type": "markdown",
      "metadata": {
        "id": "QUc9frYnVBI_"
      },
      "source": [
        "In this project, we will explore how to develop a simple Deep Neural Network for a classification problem. We will explore two common libraries: TensorFlow and Keras.\n",
        "Then we will explore how to face a well known problem that is common to encounter during the training phase: the Overfitting.\n",
        "Finally, we will study how to perform a fair model selection.\n",
        "Hint: Before starting the exercise take a look at how Tensorflow and Keras are designed.  https://keras.io/"
      ]
    },
    {
      "cell_type": "markdown",
      "metadata": {
        "id": "e-Nc7mFSVEiU"
      },
      "source": [
        "##2.1: Text Classficiation with Tensorflow and Keras\n",
        "\n",
        "In this first exercise we will develop a 3 layers Neural Network to perfrom classification.\n",
        "\n",
        "Let's start importing the libraries we will need and setting a couple of environmental variables.\n"
      ]
    },
    {
      "cell_type": "code",
      "execution_count": null,
      "metadata": {
        "id": "bWn9FzneVqJo"
      },
      "outputs": [],
      "source": [
        "import matplotlib as mpl\n",
        "import matplotlib.pyplot as plt\n",
        "import numpy as np\n",
        "import os\n",
        "import pandas as pd\n",
        "import sklearn\n",
        "import sys\n",
        "import tensorflow as tf\n",
        "from tensorflow import keras  # tf.keras\n",
        "import tensorflow_datasets as tfds\n",
        "import time\n",
        "\n",
        "import logging\n",
        "logging.disable(logging.WARNING)\n",
        "os.environ[\"TF_CPP_MIN_LOG_LEVEL\"] = \"3\" \n",
        "\n",
        "tf.random.set_seed(42)\n",
        "# os.environ['TF_DETERMINISTIC_OPS']='1'"
      ]
    },
    {
      "cell_type": "markdown",
      "metadata": {
        "id": "LT2HMYDEXcx0"
      },
      "source": [
        "### Load Data: AG News Subset\n",
        "\n",
        "In this HW, we use the AG News Subset that is available in Tensorflow Dataset. The AG's news topic classification dataset is constructed by choosing the 4 largest topic classes from a larger news corups. The total number of training samples is 120,000 and testing 7,600. Each class contains 30,000 training samples and 1,900 testing samples. Each sample contains both the title and an excerpt of the article, but in this exercise we will use only the excerpt as input.\n",
        "\n",
        "We will split the training set into two 90%-10% splits in order to have a validation set."
      ]
    },
    {
      "cell_type": "code",
      "execution_count": null,
      "metadata": {
        "colab": {
          "base_uri": "https://localhost:8080/",
          "height": 322,
          "referenced_widgets": [
            "149763f39f2f46b085140fc824d66207",
            "2af5f3759a6746aa9929e5e1bdda99c9",
            "4dcacbfe79d84216b4179b1ee55ea745",
            "dec5461f9ba54822b8e3dabc8d5dedf5",
            "1ae758230f7840e183569ad03209acb8",
            "969d52c1cb7d46d2bc9153e1af691557",
            "d8ab0586d14b4aac9ac1a86e591793fb",
            "ae0a38df6a14498988ed0a69f2cbf284",
            "c2790a5ffb6b406e8e994e655be7ac4b",
            "ee1580c758794d87836b771037065c0b",
            "ac0edf3eb8c641b5990e7d564e56f735",
            "176afa3af2cf49d0b3ceae33d0d4ce64",
            "953c43e08dc84f61878bfe09c3e3d7f2",
            "16e9ff0abeae4fa1a6a7577b88ebb525",
            "3a682b9c740a4ce3aef4fa25b294264a",
            "ac99abc409b84fe499e1b972f5376ea4",
            "1fb12ef5a5914a7c9b6d19dbae91f25f",
            "7cff77cb63e045308adb102a60191a7a",
            "f5f3066b3d3f4ae795bf87a3b3e801dc",
            "3eb91aafbcc94575b582b7e2ac2323d0",
            "b38de047a5c54a9b99ec3106b12e72b6",
            "bc08b75066dc4c55b6ab02262f9b0d82",
            "b52bc2a0357a439fbc6e52ceee65fb6c",
            "dd9b985be52949f78cda62f54070ef84",
            "2133a6178a624c9694434400ed66fc19",
            "29f404eed656464fb31dcc878f558de5",
            "17975eb14d184b08823046ecc93e5f06",
            "61691436b21c421dad739ca181004ec7",
            "36b38db449904c72b769fc35d1f1997c",
            "bed24c0038c44ad5804b263f3194b5e5",
            "15512c5671d14cd4bc7120908488ded9",
            "1118e25fa0304853b5e7c01f0aeab6f9",
            "524693fa0e00451b8d41ad266585c61e",
            "4c3a180fdf1f4cc495beb7c3dddf52c1",
            "c7345eb00ad14e2d9d220a1ca77e3e3d",
            "06b0142c51204d8dba93cb0a277409ef",
            "8d273f7d2fa849ab924956d1edd858aa",
            "acbb40856f204e6faf6b75c5f224c5be",
            "186e080096d04212adc43b2da85d939d",
            "36051b764c334f24bd2d54ae5fead97d",
            "1e3e25671e2b4eccb240357c083a5747",
            "17a6490910f44be795d6d74811cf19bb",
            "5f5606e02d9b4d5583e14e26fbd345d1",
            "5cdb35089cb7466eaeeb4ef91a8ba46b",
            "428ef05e4ad546acbb89d120fa5afb2f",
            "2eec9d922f964ff68f4dec7ad115519a",
            "edd8f2666d3347ff8960b4e5e84b66be",
            "d03ac40ebd13441083247d6e0d4d36e1",
            "07e276cf6aa34db19257c82cde4528d8",
            "1c79c25e446844e99c7e39f10c4213bf",
            "7dcd0686416b4c20b1855b1c9836dfa1",
            "0c337f5335d248efa277723d42f1c36b",
            "4d1d8327afd2400787dca645be6ca78a",
            "f5e27c74dc4b4939ab8a5daab6d70cd1",
            "c23a8765a6564adda2d2c2aa19f1d7bf",
            "397f3f4862d840feaf6aa1633f239871",
            "e884e0478bf640008cd15880040aacb5",
            "eb534bc62ba24f18b4033051b625fa4f",
            "af7b7f889924473ebfd3356138c2dfdd",
            "8d61a644b8a74e8a8b9f27fc546a11f5",
            "c43bd923f063435ea7db79c3ca7af398",
            "bef12a871a2c4a488ef7ccafc1166903",
            "cf33fd093d5a43768d9316ece3ee91a4",
            "d283e4f1e65742c1a7d3f8812f72ab6e",
            "9123849b2f5b4aa6afbd164d08e74fdc",
            "f9fa57e792af480b9609e0856b5fd8a8",
            "30a4359f40044d82bc22e3df8c3e4b58",
            "8920990b7f4d45baaf641b5e317a87f7",
            "e7bc6c858bcf4c2b8da786fdbab5e564",
            "7bcb3ef5b8f64b9581f5b79c5b870164",
            "9dd7b109dcd44f6ca62649c939d51421",
            "ac798f4b079940fc882c579def34b32a",
            "e9add222bf4e4b5c831bebda6749ae67",
            "6b15f9e0d5aa4764875f6d18b7649194",
            "6186f0cb53ed4bf9bb7215a8d26c96f8",
            "1a6fd41085e04304bf42ea562c3a9ebd",
            "ec34a295eedd4ceb85e0bf05c9fba60e"
          ]
        },
        "id": "d8xZASzs26zD",
        "outputId": "4ad86186-6882-46b5-f7c4-19ac0c870aec"
      },
      "outputs": [
        {
          "name": "stdout",
          "output_type": "stream",
          "text": [
            "\u001b[1mDownloading and preparing dataset ag_news_subset/1.0.0 (download: 11.24 MiB, generated: 35.79 MiB, total: 47.03 MiB) to /root/tensorflow_datasets/ag_news_subset/1.0.0...\u001b[0m\n"
          ]
        },
        {
          "data": {
            "application/vnd.jupyter.widget-view+json": {
              "model_id": "149763f39f2f46b085140fc824d66207",
              "version_major": 2,
              "version_minor": 0
            },
            "text/plain": [
              "Dl Completed...: 0 url [00:00, ? url/s]"
            ]
          },
          "metadata": {},
          "output_type": "display_data"
        },
        {
          "data": {
            "application/vnd.jupyter.widget-view+json": {
              "model_id": "176afa3af2cf49d0b3ceae33d0d4ce64",
              "version_major": 2,
              "version_minor": 0
            },
            "text/plain": [
              "Dl Size...: 0 MiB [00:00, ? MiB/s]"
            ]
          },
          "metadata": {},
          "output_type": "display_data"
        },
        {
          "data": {
            "application/vnd.jupyter.widget-view+json": {
              "model_id": "b52bc2a0357a439fbc6e52ceee65fb6c",
              "version_major": 2,
              "version_minor": 0
            },
            "text/plain": [
              "Extraction completed...: 0 file [00:00, ? file/s]"
            ]
          },
          "metadata": {},
          "output_type": "display_data"
        },
        {
          "name": "stdout",
          "output_type": "stream",
          "text": [
            "\n",
            "\n",
            "\n"
          ]
        },
        {
          "data": {
            "application/vnd.jupyter.widget-view+json": {
              "model_id": "4c3a180fdf1f4cc495beb7c3dddf52c1",
              "version_major": 2,
              "version_minor": 0
            },
            "text/plain": [
              "0 examples [00:00, ? examples/s]"
            ]
          },
          "metadata": {},
          "output_type": "display_data"
        },
        {
          "name": "stdout",
          "output_type": "stream",
          "text": [
            "Shuffling and writing examples to /root/tensorflow_datasets/ag_news_subset/1.0.0.incomplete36IZYD/ag_news_subset-train.tfrecord\n"
          ]
        },
        {
          "data": {
            "application/vnd.jupyter.widget-view+json": {
              "model_id": "428ef05e4ad546acbb89d120fa5afb2f",
              "version_major": 2,
              "version_minor": 0
            },
            "text/plain": [
              "  0%|          | 0/120000 [00:00<?, ? examples/s]"
            ]
          },
          "metadata": {},
          "output_type": "display_data"
        },
        {
          "data": {
            "application/vnd.jupyter.widget-view+json": {
              "model_id": "397f3f4862d840feaf6aa1633f239871",
              "version_major": 2,
              "version_minor": 0
            },
            "text/plain": [
              "0 examples [00:00, ? examples/s]"
            ]
          },
          "metadata": {},
          "output_type": "display_data"
        },
        {
          "name": "stdout",
          "output_type": "stream",
          "text": [
            "Shuffling and writing examples to /root/tensorflow_datasets/ag_news_subset/1.0.0.incomplete36IZYD/ag_news_subset-test.tfrecord\n"
          ]
        },
        {
          "data": {
            "application/vnd.jupyter.widget-view+json": {
              "model_id": "30a4359f40044d82bc22e3df8c3e4b58",
              "version_major": 2,
              "version_minor": 0
            },
            "text/plain": [
              "  0%|          | 0/7600 [00:00<?, ? examples/s]"
            ]
          },
          "metadata": {},
          "output_type": "display_data"
        },
        {
          "name": "stdout",
          "output_type": "stream",
          "text": [
            "\u001b[1mDataset ag_news_subset downloaded and prepared to /root/tensorflow_datasets/ag_news_subset/1.0.0. Subsequent calls will reuse this data.\u001b[0m\n"
          ]
        }
      ],
      "source": [
        "### NOTE ### \n",
        "# running this cell might yield download-related errors.\n",
        "# just repeating the execution a couple of times should solve the error.\n",
        "\n",
        "train_ds, valid_ds, test_ds = tfds.load('ag_news_subset',\n",
        "                                        as_supervised=True, # return a set of (text, label) tuples \n",
        "                                        split=['train[:90%]', 'train[-10%:]', 'test'],\n",
        "                                        batch_size=-1)  \n",
        "                                        # ^ using batch_size=-1 returns Tensors instead of Dataset objects"
      ]
    },
    {
      "cell_type": "code",
      "execution_count": null,
      "metadata": {
        "id": "BYkXCTv3NrvC"
      },
      "outputs": [],
      "source": [
        "# Tensors have two elements, data and labels; let's split them\n",
        "# so we can transform the data\n",
        "X_train, y_train = train_ds\n",
        "X_valid, y_valid = valid_ds\n",
        "X_test, y_test = test_ds"
      ]
    },
    {
      "cell_type": "markdown",
      "metadata": {
        "id": "8prUBtqq8JW7"
      },
      "source": [
        "The AG News Subset dataset consists in news articles, each one composed by a sequence of words. In order to encode each article in a single tensor with a fixed number of elements, we will use multi-hot encoding. For testing purposes, we will only consider the first 10,000  most common words. Multi-hot-encoding our lists means turning them into vectors of 0s and 1s. Concretely, this would mean for instance turning the sequence [3, 5] into a 10,000-dimensional vector that would be all-zeros except for indices 3 and 5, which would be ones. The obtained input representation indicates which words are present (at least one time) in the sentence."
      ]
    },
    {
      "cell_type": "code",
      "execution_count": null,
      "metadata": {
        "id": "Brt087tDIDpe"
      },
      "outputs": [],
      "source": [
        "num_words = 1000\n",
        "vectorize_layer = tf.keras.layers.TextVectorization(\n",
        " max_tokens=num_words,\n",
        " standardize=\"lower_and_strip_punctuation\",\n",
        " split=\"whitespace\",\n",
        " output_mode='multi_hot',\n",
        " pad_to_max_tokens=True)\n",
        "\n",
        "vectorize_layer.adapt(X_train)"
      ]
    },
    {
      "cell_type": "code",
      "execution_count": null,
      "metadata": {
        "id": "seuFLH2lNiDT"
      },
      "outputs": [],
      "source": [
        "X_train = vectorize_layer(X_train)\n",
        "X_valid = vectorize_layer(X_valid)\n",
        "X_test  = vectorize_layer(X_test)"
      ]
    },
    {
      "cell_type": "markdown",
      "metadata": {
        "id": "jGUg8TexZMNf"
      },
      "source": [
        "### Define the model:\n",
        "\n",
        "Let's build a Sequential model (`keras.models.Sequential`) and add four layers to it by calling its `add()` method:\n",
        "\n",
        "\n",
        "*   a input layer (`tf.keras.Input`) that is the first layer in your model. With this layer you should specify the `input_shape` argument, leaving out the batch size: `(num_words,)`;\n",
        "*  a Dense layer (`keras.layers.Dense`) with 16 neurons, and the \"relu\" activation function;\n",
        "* another Dense layer with 16 neurons, also with the \"relu\" activation function;\n",
        "* a final Dense layer with 4 output neurons, and with the \"softmax\" activation (since we considering a classification task with four classes)."
      ]
    },
    {
      "cell_type": "code",
      "execution_count": null,
      "metadata": {
        "id": "OaoEISyaZL56"
      },
      "outputs": [],
      "source": [
        "model = keras.models.Sequential()\n",
        "model.add(tf.keras.Input(shape=(num_words,)))\n",
        "model.add(keras.layers.Dense(16, activation=\"relu\"))\n",
        "model.add(keras.layers.Dense(16, activation=\"relu\"))\n",
        "model.add(keras.layers.Dense(4, activation=\"softmax\"))"
      ]
    },
    {
      "cell_type": "markdown",
      "metadata": {
        "id": "fYfxUOQVZljh"
      },
      "source": [
        "Call the model's `summary()` method to check if the model has been built correctly. Also, try using `keras.utils.plot_model()` to save an image of your model's architecture."
      ]
    },
    {
      "cell_type": "code",
      "execution_count": null,
      "metadata": {
        "colab": {
          "base_uri": "https://localhost:8080/"
        },
        "id": "IpGkQl5dZoWq",
        "outputId": "a11eda64-862f-4256-92e5-d9ba6c05e7ba"
      },
      "outputs": [
        {
          "name": "stdout",
          "output_type": "stream",
          "text": [
            "Model: \"sequential\"\n",
            "_________________________________________________________________\n",
            " Layer (type)                Output Shape              Param #   \n",
            "=================================================================\n",
            " dense (Dense)               (None, 16)                16016     \n",
            "                                                                 \n",
            " dense_1 (Dense)             (None, 16)                272       \n",
            "                                                                 \n",
            " dense_2 (Dense)             (None, 4)                 68        \n",
            "                                                                 \n",
            "=================================================================\n",
            "Total params: 16,356\n",
            "Trainable params: 16,356\n",
            "Non-trainable params: 0\n",
            "_________________________________________________________________\n"
          ]
        }
      ],
      "source": [
        "model.summary()"
      ]
    },
    {
      "cell_type": "code",
      "execution_count": null,
      "metadata": {
        "colab": {
          "base_uri": "https://localhost:8080/",
          "height": 422
        },
        "id": "b1NbkrXRZwOA",
        "outputId": "18fd3655-f615-4081-f045-21d4fdf45d51"
      },
      "outputs": [
        {
          "data": {
            "image/png": "[encoded data removed]",
            "text/plain": [
              "<IPython.core.display.Image object>"
            ]
          },
          "execution_count": 9,
          "metadata": {},
          "output_type": "execute_result"
        }
      ],
      "source": [
        "keras.utils.plot_model(model, \"my_model.png\", show_shapes=True)"
      ]
    },
    {
      "cell_type": "markdown",
      "metadata": {
        "id": "Mc3xzuA-33WH"
      },
      "source": [
        "As you can see, the first dimension of each layer is not defined (`None`), indeed this dimension in each layer is variable and depends on the batch size."
      ]
    },
    {
      "cell_type": "markdown",
      "metadata": {
        "id": "6FAjFixuHSA_"
      },
      "source": [
        "Instaed of using `add()` method it is also possibile to define the model using the following syntax"
      ]
    },
    {
      "cell_type": "code",
      "execution_count": null,
      "metadata": {
        "colab": {
          "base_uri": "https://localhost:8080/",
          "height": 690
        },
        "id": "yOhr57M9GPHy",
        "outputId": "af66860a-3895-4ca6-89d6-9b8f5e5c0f08"
      },
      "outputs": [
        {
          "name": "stdout",
          "output_type": "stream",
          "text": [
            "Model: \"sequential_1\"\n",
            "_________________________________________________________________\n",
            " Layer (type)                Output Shape              Param #   \n",
            "=================================================================\n",
            " dense_3 (Dense)             (None, 16)                16016     \n",
            "                                                                 \n",
            " dense_4 (Dense)             (None, 16)                272       \n",
            "                                                                 \n",
            " dense_5 (Dense)             (None, 4)                 68        \n",
            "                                                                 \n",
            "=================================================================\n",
            "Total params: 16,356\n",
            "Trainable params: 16,356\n",
            "Non-trainable params: 0\n",
            "_________________________________________________________________\n"
          ]
        },
        {
          "data": {
            "image/png": "[encoded data removed]",
            "text/plain": [
              "<IPython.core.display.Image object>"
            ]
          },
          "execution_count": 10,
          "metadata": {},
          "output_type": "execute_result"
        }
      ],
      "source": [
        "model = keras.models.Sequential([\n",
        "    tf.keras.Input(shape=(num_words,)),\n",
        "    keras.layers.Dense(16, activation=\"relu\"),\n",
        "    keras.layers.Dense(16, activation=\"relu\"),\n",
        "    keras.layers.Dense(4, activation=\"softmax\")\n",
        "])\n",
        "model.summary()\n",
        "keras.utils.plot_model(model, \"my_model.png\", show_shapes=True)"
      ]
    },
    {
      "cell_type": "markdown",
      "metadata": {
        "id": "2ySdJmzxaSuz"
      },
      "source": [
        "### Optimize the model:\n",
        "\n",
        "After the model has been created, you must call its `compile()` method to specify the loss function and the optimizer to use.\n",
        "\n",
        "Since the model performs a classification task, and we have labels encoded as integers, we use the sparse categorical cross-entropy loss. As optimizer we use Adam.\n",
        "\n",
        "Moreover, you can optionally specify a list of additional metrics that should be measured during training. In this case we specify `metrics=[\"accuracy\"]`."
      ]
    },
    {
      "cell_type": "code",
      "execution_count": null,
      "metadata": {
        "id": "x3bbsY3uaeh5"
      },
      "outputs": [],
      "source": [
        "model.compile(loss=\"sparse_categorical_crossentropy\",\n",
        "              optimizer=keras.optimizers.Adam(learning_rate=1e-4),\n",
        "              metrics=[\"accuracy\"])"
      ]
    },
    {
      "cell_type": "markdown",
      "metadata": {
        "id": "NB9SV0MpaeTg"
      },
      "source": [
        "Now our model is ready to be trained. Call its `fit()` method, passing to it the input features (`X_train`) and the target classes (`y_train`). Set the number of epochs to 20. \n",
        "In order to validate our model we will also pass the validation data by setting `validation_data=(X_valid, y_valid)`. Keras will compute the loss and the additional metrics (the accuracy in this case) on the validation set at the end of each epoch. If the loss on the training set is much lower than the one on the validation set, your model is probably overfitting the training set. Note: the `fit()` method will return a `History` object containing training stats."
      ]
    },
    {
      "cell_type": "code",
      "execution_count": null,
      "metadata": {
        "colab": {
          "base_uri": "https://localhost:8080/"
        },
        "id": "5whx-LU3aoKn",
        "outputId": "b1b26ec0-363c-4b06-946d-f6c8f1678a51"
      },
      "outputs": [
        {
          "name": "stdout",
          "output_type": "stream",
          "text": [
            "Epoch 1/20\n",
            "3375/3375 [==============================] - 17s 4ms/step - loss: 0.8503 - accuracy: 0.6761 - val_loss: 0.5107 - val_accuracy: 0.8314\n",
            "Epoch 2/20\n",
            "3375/3375 [==============================] - 10s 3ms/step - loss: 0.4583 - accuracy: 0.8449 - val_loss: 0.4452 - val_accuracy: 0.8475\n",
            "Epoch 3/20\n",
            "3375/3375 [==============================] - 9s 3ms/step - loss: 0.4222 - accuracy: 0.8546 - val_loss: 0.4318 - val_accuracy: 0.8507\n",
            "Epoch 4/20\n",
            "3375/3375 [==============================] - 9s 3ms/step - loss: 0.4089 - accuracy: 0.8573 - val_loss: 0.4241 - val_accuracy: 0.8509\n",
            "Epoch 5/20\n",
            "3375/3375 [==============================] - 10s 3ms/step - loss: 0.4012 - accuracy: 0.8590 - val_loss: 0.4210 - val_accuracy: 0.8525\n",
            "Epoch 6/20\n",
            "3375/3375 [==============================] - 9s 3ms/step - loss: 0.3959 - accuracy: 0.8601 - val_loss: 0.4175 - val_accuracy: 0.8531\n",
            "Epoch 7/20\n",
            "3375/3375 [==============================] - 9s 3ms/step - loss: 0.3917 - accuracy: 0.8615 - val_loss: 0.4149 - val_accuracy: 0.8535\n",
            "Epoch 8/20\n",
            "3375/3375 [==============================] - 10s 3ms/step - loss: 0.3882 - accuracy: 0.8617 - val_loss: 0.4132 - val_accuracy: 0.8550\n",
            "Epoch 9/20\n",
            "3375/3375 [==============================] - 9s 3ms/step - loss: 0.3851 - accuracy: 0.8627 - val_loss: 0.4109 - val_accuracy: 0.8540\n",
            "Epoch 10/20\n",
            "3375/3375 [==============================] - 9s 3ms/step - loss: 0.3825 - accuracy: 0.8629 - val_loss: 0.4096 - val_accuracy: 0.8534\n",
            "Epoch 11/20\n",
            "3375/3375 [==============================] - 10s 3ms/step - loss: 0.3799 - accuracy: 0.8637 - val_loss: 0.4081 - val_accuracy: 0.8539\n",
            "Epoch 12/20\n",
            "3375/3375 [==============================] - 10s 3ms/step - loss: 0.3775 - accuracy: 0.8638 - val_loss: 0.4064 - val_accuracy: 0.8543\n",
            "Epoch 13/20\n",
            "3375/3375 [==============================] - 11s 3ms/step - loss: 0.3753 - accuracy: 0.8645 - val_loss: 0.4051 - val_accuracy: 0.8538\n",
            "Epoch 14/20\n",
            "3375/3375 [==============================] - 9s 3ms/step - loss: 0.3731 - accuracy: 0.8649 - val_loss: 0.4053 - val_accuracy: 0.8543\n",
            "Epoch 15/20\n",
            "3375/3375 [==============================] - 9s 3ms/step - loss: 0.3709 - accuracy: 0.8660 - val_loss: 0.4035 - val_accuracy: 0.8553\n",
            "Epoch 16/20\n",
            "3375/3375 [==============================] - 9s 3ms/step - loss: 0.3689 - accuracy: 0.8661 - val_loss: 0.4027 - val_accuracy: 0.8553\n",
            "Epoch 17/20\n",
            "3375/3375 [==============================] - 9s 3ms/step - loss: 0.3669 - accuracy: 0.8668 - val_loss: 0.4011 - val_accuracy: 0.8565\n",
            "Epoch 18/20\n",
            "3375/3375 [==============================] - 9s 3ms/step - loss: 0.3649 - accuracy: 0.8672 - val_loss: 0.4003 - val_accuracy: 0.8554\n",
            "Epoch 19/20\n",
            "3375/3375 [==============================] - 9s 3ms/step - loss: 0.3630 - accuracy: 0.8679 - val_loss: 0.3992 - val_accuracy: 0.8559\n",
            "Epoch 20/20\n",
            "3375/3375 [==============================] - 9s 3ms/step - loss: 0.3612 - accuracy: 0.8684 - val_loss: 0.3993 - val_accuracy: 0.8564\n"
          ]
        }
      ],
      "source": [
        "history = model.fit(X_train, y_train, epochs=20,\n",
        "                    validation_data=(X_valid, y_valid))"
      ]
    },
    {
      "cell_type": "markdown",
      "metadata": {
        "id": "EPxiw8iCADr-"
      },
      "source": [
        "Let's plot the loss and the accuracy trends on both training and validation sets. We define the `plot_learning_acc_and_loss` function because we will reuse it in the next steps."
      ]
    },
    {
      "cell_type": "code",
      "execution_count": null,
      "metadata": {
        "colab": {
          "base_uri": "https://localhost:8080/",
          "height": 320
        },
        "id": "AJg-F7mUa7st",
        "outputId": "a3a1770c-310a-4556-b28c-300ef3d046c6"
      },
      "outputs": [
        {
          "data": {
            "image/png": "[encoded data removed]",
            "text/plain": [
              "<Figure size 576x360 with 1 Axes>"
            ]
          },
          "metadata": {},
          "output_type": "display_data"
        }
      ],
      "source": [
        "def plot_learning_acc_and_loss(history):\n",
        "    pd.DataFrame(history.history).plot(figsize=(8, 5))\n",
        "    plt.grid(True)\n",
        "    plt.show()\n",
        "plot_learning_acc_and_loss(history)"
      ]
    },
    {
      "cell_type": "markdown",
      "metadata": {
        "id": "9O3-sLmxansJ"
      },
      "source": [
        "### [TO COMPLETE] Evaluate the model:\n",
        "\n",
        "Now, our model has been optimized on the training set, and as you can see the performance on the validation set in quite similar (so it does not overfit the training data). Let's now evaluate the performance of our model using the test set."
      ]
    },
    {
      "cell_type": "code",
      "execution_count": null,
      "metadata": {
        "colab": {
          "base_uri": "https://localhost:8080/"
        },
        "id": "q-ZvJEcObdyB",
        "outputId": "88aa6c45-df91-4275-d05e-e766a796728b"
      },
      "outputs": [
        {
          "name": "stdout",
          "output_type": "stream",
          "text": [
            "238/238 [==============================] - 1s 3ms/step - loss: 0.4093 - accuracy: 0.8521\n"
          ]
        },
        {
          "data": {
            "text/plain": [
              "[0.40926671028137207, 0.8521052598953247]"
            ]
          },
          "execution_count": 14,
          "metadata": {},
          "output_type": "execute_result"
        }
      ],
      "source": [
        "model.evaluate(X_test, y_test)"
      ]
    },
    {
      "cell_type": "markdown",
      "metadata": {
        "id": "KTSxlnwrII-n"
      },
      "source": [
        "[TO COMPLETE] Explain why it is important to use test and validation, and why it is important to evaluate the model on the test set instead of the validation set. Finally, explain what is the usefulness of the validation set. Insert the discussion in this cell.\n",
        "\n",
        "**Discussion**: First, we need a test set to obviously test how our model performs on unseen data. Otherwise, if test our model on the training set, then the model would seem to be a perfect model as it has already seen all data in the training set and therefore will \"predict\" correctly, giving an impression that the model is 100% accurate. The reason why we need a validation set is to validate the performance of our model during training. This is neccesary to determine the optimal parameters of the model. \n",
        "\n",
        "The model is evaluated on the test set because we need unseen data (new data) to test the performance and evaluate the model. Additionally, the validation set is usually much smaller than the test set and therefore would not be able to evaluate the model in a more comprehensive manner.\n",
        "\n",
        "As stated before, the validation set is very important in tuning the hyperparameters of the model. Otherwise, the model wouldnt know which hyperparameters perform better. In a way, it is like a guide that ensures the training happens in the right direction."
      ]
    },
    {
      "cell_type": "markdown",
      "metadata": {
        "id": "aeGlzKe864Gq"
      },
      "source": [
        "## [TO COMPLETE] Exercise 2.2: Overfiting\n",
        "\n",
        "A common problem that occurs when you train a deep neural network is overfittig. Overfitting occurs when you achieve a good fit of your model on the training data, while it does not generalize well on new, unseen data. In other words, the model learned patterns specific to the training data, which are irrelevant in other data.\n",
        "As we have seen in the previous exercise, our model does not overfit the training data. In this exercise, we try to modify the training parameters in order to have a model that overfits.\n",
        "Overfitting can have many causes and usually is a combination of some of them, for instance: too many parameters/ layers, too few training samples, wrong learning rate (usualy too high), etc..\n",
        "\n",
        "[TO COMPLETE] In the next cell define a new model (similar to the previuos one) that overfits the training data; then plot the trend of the loss in training and validation set."
      ]
    },
    {
      "cell_type": "code",
      "execution_count": null,
      "metadata": {
        "colab": {
          "base_uri": "https://localhost:8080/"
        },
        "id": "T2B2DFEC8f88",
        "outputId": "13d6d404-f059-42af-d2ed-7551e88518e6"
      },
      "outputs": [
        {
          "name": "stdout",
          "output_type": "stream",
          "text": [
            "Epoch 1/24\n",
            "3375/3375 [==============================] - 10s 3ms/step - loss: 0.4643 - accuracy: 0.8320 - val_loss: 0.4258 - val_accuracy: 0.8480\n",
            "Epoch 2/24\n",
            "3375/3375 [==============================] - 9s 3ms/step - loss: 0.4101 - accuracy: 0.8502 - val_loss: 0.4180 - val_accuracy: 0.8505\n",
            "Epoch 3/24\n",
            "3375/3375 [==============================] - 9s 3ms/step - loss: 0.3887 - accuracy: 0.8585 - val_loss: 0.4224 - val_accuracy: 0.8477\n",
            "Epoch 4/24\n",
            "3375/3375 [==============================] - 10s 3ms/step - loss: 0.3722 - accuracy: 0.8644 - val_loss: 0.4160 - val_accuracy: 0.8537\n",
            "Epoch 5/24\n",
            "3375/3375 [==============================] - 10s 3ms/step - loss: 0.3619 - accuracy: 0.8689 - val_loss: 0.4357 - val_accuracy: 0.8457\n",
            "Epoch 6/24\n",
            "3375/3375 [==============================] - 9s 3ms/step - loss: 0.3513 - accuracy: 0.8721 - val_loss: 0.4233 - val_accuracy: 0.8515\n",
            "Epoch 7/24\n",
            "3375/3375 [==============================] - 9s 3ms/step - loss: 0.3446 - accuracy: 0.8750 - val_loss: 0.4375 - val_accuracy: 0.8457\n",
            "Epoch 8/24\n",
            "3375/3375 [==============================] - 9s 3ms/step - loss: 0.3378 - accuracy: 0.8780 - val_loss: 0.4310 - val_accuracy: 0.8458\n",
            "Epoch 9/24\n",
            "3375/3375 [==============================] - 9s 3ms/step - loss: 0.3329 - accuracy: 0.8795 - val_loss: 0.4503 - val_accuracy: 0.8445\n",
            "Epoch 10/24\n",
            "3375/3375 [==============================] - 9s 3ms/step - loss: 0.3280 - accuracy: 0.8815 - val_loss: 0.4741 - val_accuracy: 0.8451\n",
            "Epoch 11/24\n",
            "3375/3375 [==============================] - 9s 3ms/step - loss: 0.3237 - accuracy: 0.8828 - val_loss: 0.4584 - val_accuracy: 0.8418\n",
            "Epoch 12/24\n",
            "3375/3375 [==============================] - 9s 3ms/step - loss: 0.3188 - accuracy: 0.8841 - val_loss: 0.4730 - val_accuracy: 0.8445\n",
            "Epoch 13/24\n",
            "3375/3375 [==============================] - 9s 3ms/step - loss: 0.3166 - accuracy: 0.8856 - val_loss: 0.4677 - val_accuracy: 0.8453\n",
            "Epoch 14/24\n",
            "3375/3375 [==============================] - 9s 3ms/step - loss: 0.3130 - accuracy: 0.8869 - val_loss: 0.4851 - val_accuracy: 0.8448\n",
            "Epoch 15/24\n",
            "3375/3375 [==============================] - 9s 3ms/step - loss: 0.3094 - accuracy: 0.8877 - val_loss: 0.4905 - val_accuracy: 0.8449\n",
            "Epoch 16/24\n",
            "3375/3375 [==============================] - 9s 3ms/step - loss: 0.3082 - accuracy: 0.8886 - val_loss: 0.4716 - val_accuracy: 0.8425\n",
            "Epoch 17/24\n",
            "3375/3375 [==============================] - 9s 3ms/step - loss: 0.3051 - accuracy: 0.8899 - val_loss: 0.5115 - val_accuracy: 0.8437\n",
            "Epoch 18/24\n",
            "3375/3375 [==============================] - 9s 3ms/step - loss: 0.3020 - accuracy: 0.8913 - val_loss: 0.4867 - val_accuracy: 0.8428\n",
            "Epoch 19/24\n",
            "3375/3375 [==============================] - 9s 3ms/step - loss: 0.3000 - accuracy: 0.8917 - val_loss: 0.5054 - val_accuracy: 0.8377\n",
            "Epoch 20/24\n",
            "3375/3375 [==============================] - 9s 3ms/step - loss: 0.2979 - accuracy: 0.8926 - val_loss: 0.5226 - val_accuracy: 0.8318\n",
            "Epoch 21/24\n",
            "3375/3375 [==============================] - 9s 3ms/step - loss: 0.2965 - accuracy: 0.8930 - val_loss: 0.5287 - val_accuracy: 0.8372\n",
            "Epoch 22/24\n",
            "3375/3375 [==============================] - 8s 2ms/step - loss: 0.2947 - accuracy: 0.8940 - val_loss: 0.5425 - val_accuracy: 0.8316\n",
            "Epoch 23/24\n",
            "3375/3375 [==============================] - 9s 3ms/step - loss: 0.2933 - accuracy: 0.8944 - val_loss: 0.5324 - val_accuracy: 0.8358\n",
            "Epoch 24/24\n",
            "3375/3375 [==============================] - 9s 3ms/step - loss: 0.2918 - accuracy: 0.8954 - val_loss: 0.5381 - val_accuracy: 0.8372\n",
            "Model Evaluation\n",
            "238/238 [==============================] - 1s 3ms/step - loss: 0.5138 - accuracy: 0.8447\n"
          ]
        },
        {
          "data": {
            "text/plain": [
              "[0.5138357281684875, 0.8447368144989014]"
            ]
          },
          "execution_count": 15,
          "metadata": {},
          "output_type": "execute_result"
        }
      ],
      "source": [
        "model = keras.models.Sequential()\n",
        "#[TO COMPLETE] modify the previuos model in order to obtain a new model that overfits the training data\n",
        "model.add(tf.keras.Input(shape=(num_words,)))\n",
        "model.add(keras.layers.Dense(16, activation=\"relu\"))\n",
        "model.add(keras.layers.Dense(16, activation=\"relu\"))\n",
        "model.add(keras.layers.Dense(4, activation=\"softmax\"))\n",
        "\n",
        "model.compile(loss=\"sparse_categorical_crossentropy\",\n",
        "              optimizer=keras.optimizers.Adam(learning_rate=0.01),#[TO COMPLETE] learning rate\n",
        "              metrics=[\"accuracy\"])\n",
        "\n",
        "\n",
        "history = model.fit(X_train, y_train, epochs=24,#[TO COMPLETE] epochs\n",
        "                    validation_data=(X_valid, y_valid))\n",
        "\n",
        "print(\"Model Evaluation\")\n",
        "model.evaluate(X_test, y_test)"
      ]
    },
    {
      "cell_type": "markdown",
      "metadata": {
        "id": "MS0fujEqh_m3"
      },
      "source": [
        "Define the `plot_learning_curves` function that plots only the losses (not the accuracy)."
      ]
    },
    {
      "cell_type": "code",
      "execution_count": null,
      "metadata": {
        "colab": {
          "base_uri": "https://localhost:8080/",
          "height": 336
        },
        "id": "q5EsklC0DZYH",
        "outputId": "4bef6bf9-7ea3-4ad2-fee1-45d4d0d0ed2a"
      },
      "outputs": [
        {
          "data": {
            "image/png": "[encoded data removed]",
            "text/plain": [
              "<Figure size 576x360 with 1 Axes>"
            ]
          },
          "metadata": {},
          "output_type": "display_data"
        }
      ],
      "source": [
        "def plot_learning_curves(history):\n",
        "    plt.figure(figsize=(8, 5))\n",
        "    plt.plot(history.epoch,history.history['loss'], label='train loss')\n",
        "    plt.plot(history.epoch,history.history['val_loss'], label='valid loss')\n",
        "    plt.legend()\n",
        "    plt.title('loss')\n",
        "    plt.grid(True)\n",
        "    plt.show()\n",
        "plot_learning_curves(history)"
      ]
    },
    {
      "cell_type": "markdown",
      "metadata": {
        "id": "OW4Kf4fgDfOs"
      },
      "source": [
        "### [TO COMPLETE] L1 norm\n",
        "\n",
        "One possible way to solve the overitting issue is by using regularization methods. The two most common regularization methods in Deep Learning are the L1-norm regularization and the L2-norm regularization. Both These techniques are based on limiting the capacity of models, by adding a parameter norm penalty to the objective function $\\mathcal{J}$:\n",
        "$$\n",
        "\\hat{\\mathcal{J}}(\\theta,\\mathbf{X},\\mathbf{y}) = \\mathcal{J}(\\theta,\\mathbf{X},\\mathbf{y}) + \\alpha \\Omega(\\theta)\n",
        "$$\n",
        "where $\\alpha$ is a hyperparameter that weighs the relative contribution of the norm penalty $\\Omega$.\n",
        "Lets start by considering the L1-norm regularization where the regularization term is defined as:\n",
        "$$\n",
        " \\Omega(\\theta)=||\\mathbf{W}||_1=\\sum_i |\\mathbf{w}|\n",
        "$$\n",
        "Let's find the values for the $\\alpha$ parameters that allow to remove the overfitting effect."
      ]
    },
    {
      "cell_type": "code",
      "execution_count": null,
      "metadata": {
        "colab": {
          "background_save": true,
          "base_uri": "https://localhost:8080/",
          "height": 1000
        },
        "id": "QzD8520dDgw3",
        "outputId": "f0f4e8b3-e6b3-4883-f897-c10e898d903b"
      },
      "outputs": [
        {
          "name": "stdout",
          "output_type": "stream",
          "text": [
            "Epoch 1/24\n",
            "3375/3375 [==============================] - 9s 3ms/step - loss: 0.7956 - accuracy: 0.8119 - val_loss: 0.7103 - val_accuracy: 0.8359\n",
            "Epoch 2/24\n",
            "3375/3375 [==============================] - 8s 2ms/step - loss: 0.6828 - accuracy: 0.8403 - val_loss: 0.6722 - val_accuracy: 0.8443\n",
            "Epoch 3/24\n",
            "3375/3375 [==============================] - 8s 2ms/step - loss: 0.6586 - accuracy: 0.8422 - val_loss: 0.6569 - val_accuracy: 0.8417\n",
            "Epoch 4/24\n",
            "3375/3375 [==============================] - 8s 2ms/step - loss: 0.6441 - accuracy: 0.8427 - val_loss: 0.6548 - val_accuracy: 0.8349\n",
            "Epoch 5/24\n",
            "3375/3375 [==============================] - 8s 2ms/step - loss: 0.6360 - accuracy: 0.8426 - val_loss: 0.6405 - val_accuracy: 0.8395\n",
            "Epoch 6/24\n",
            "3375/3375 [==============================] - 8s 2ms/step - loss: 0.6308 - accuracy: 0.8434 - val_loss: 0.6366 - val_accuracy: 0.8390\n",
            "Epoch 7/24\n",
            "3375/3375 [==============================] - 8s 2ms/step - loss: 0.6273 - accuracy: 0.8431 - val_loss: 0.6443 - val_accuracy: 0.8363\n",
            "Epoch 8/24\n",
            "3375/3375 [==============================] - 8s 2ms/step - loss: 0.6247 - accuracy: 0.8423 - val_loss: 0.6303 - val_accuracy: 0.8428\n",
            "Epoch 9/24\n",
            "3375/3375 [==============================] - 9s 3ms/step - loss: 0.6203 - accuracy: 0.8434 - val_loss: 0.6344 - val_accuracy: 0.8366\n",
            "Epoch 10/24\n",
            "3375/3375 [==============================] - 8s 2ms/step - loss: 0.6151 - accuracy: 0.8431 - val_loss: 0.6262 - val_accuracy: 0.8383\n",
            "Epoch 11/24\n",
            "3375/3375 [==============================] - 8s 2ms/step - loss: 0.6056 - accuracy: 0.8441 - val_loss: 0.6088 - val_accuracy: 0.8401\n",
            "Epoch 12/24\n",
            "3375/3375 [==============================] - 8s 2ms/step - loss: 0.5937 - accuracy: 0.8450 - val_loss: 0.5977 - val_accuracy: 0.8421\n",
            "Epoch 13/24\n",
            "3375/3375 [==============================] - 9s 3ms/step - loss: 0.5893 - accuracy: 0.8445 - val_loss: 0.5908 - val_accuracy: 0.8431\n",
            "Epoch 14/24\n",
            "3375/3375 [==============================] - 8s 3ms/step - loss: 0.5860 - accuracy: 0.8454 - val_loss: 0.5994 - val_accuracy: 0.8382\n",
            "Epoch 15/24\n",
            "3375/3375 [==============================] - 8s 2ms/step - loss: 0.5837 - accuracy: 0.8441 - val_loss: 0.5871 - val_accuracy: 0.8413\n",
            "Epoch 16/24\n",
            "3375/3375 [==============================] - 8s 2ms/step - loss: 0.5807 - accuracy: 0.8443 - val_loss: 0.5878 - val_accuracy: 0.8392\n",
            "Epoch 17/24\n",
            "3375/3375 [==============================] - 8s 2ms/step - loss: 0.5778 - accuracy: 0.8452 - val_loss: 0.5827 - val_accuracy: 0.8432\n",
            "Epoch 18/24\n",
            "3375/3375 [==============================] - 8s 2ms/step - loss: 0.5766 - accuracy: 0.8446 - val_loss: 0.5833 - val_accuracy: 0.8392\n",
            "Epoch 19/24\n",
            "3375/3375 [==============================] - 8s 2ms/step - loss: 0.5749 - accuracy: 0.8439 - val_loss: 0.5801 - val_accuracy: 0.8418\n",
            "Epoch 20/24\n",
            "3375/3375 [==============================] - 8s 2ms/step - loss: 0.5735 - accuracy: 0.8444 - val_loss: 0.5870 - val_accuracy: 0.8393\n",
            "Epoch 21/24\n",
            "3375/3375 [==============================] - 8s 2ms/step - loss: 0.5732 - accuracy: 0.8445 - val_loss: 0.5816 - val_accuracy: 0.8431\n",
            "Epoch 22/24\n",
            "3375/3375 [==============================] - 8s 2ms/step - loss: 0.5720 - accuracy: 0.8442 - val_loss: 0.5831 - val_accuracy: 0.8373\n",
            "Epoch 23/24\n",
            "3375/3375 [==============================] - 8s 2ms/step - loss: 0.5703 - accuracy: 0.8441 - val_loss: 0.5784 - val_accuracy: 0.8418\n",
            "Epoch 24/24\n",
            "3375/3375 [==============================] - 8s 2ms/step - loss: 0.5703 - accuracy: 0.8439 - val_loss: 0.5773 - val_accuracy: 0.8400\n",
            "Model Evaluation\n",
            "238/238 [==============================] - 1s 3ms/step - loss: 0.5847 - accuracy: 0.8403\n"
          ]
        },
        {
          "data": {
            "image/png": "[encoded data removed]",
            "text/plain": [
              "<Figure size 576x360 with 1 Axes>"
            ]
          },
          "metadata": {},
          "output_type": "display_data"
        }
      ],
      "source": [
        "#In Keras is neccesary to add the regularizer by using the attribute kernel_regularizer\n",
        "#to each layer whose weights will be considered in the Omega function.\n",
        "#is it also possibile to consider the bias by using the attribute bias_regularizer \n",
        "#tf.keras.regularizers.l1(alpha) perfroms the L1-norm regularization\n",
        "\n",
        "#[TO COMPLETE] copy the model that you previously defined that overfits the \n",
        "#training data, and add the L1-norm regularization. Use a proper value for the\n",
        "#alpha hyper-parameter, that prevents the model from overfitting. The results  \n",
        "#reached by the model in terms of loss and accuracy (in all data sets) should be\n",
        "#comparable with the ones obtained by the initial model defined in Exercise 2.1 \n",
        "\n",
        "#In general, a layer that exploits L1-norm regularization is defined as follows:\n",
        "\n",
        "#model.add(keras.layers.Dense(units=[TO COMPLETE], activation=[TO COMPLETE], kernel_regularizer=tf.keras.regularizers.l1([TO COMPLETE]))) \n",
        "\n",
        "model = keras.models.Sequential()\n",
        "#[TO COMPLETE]\n",
        "model = keras.models.Sequential()\n",
        "model.add(tf.keras.Input(shape=(num_words,)))\n",
        "model.add(keras.layers.Dense(16, activation=\"relu\", kernel_regularizer=tf.keras.regularizers.l1(0.001)))\n",
        "model.add(keras.layers.Dense(16, activation=\"relu\", kernel_regularizer=tf.keras.regularizers.l1(0.001)))\n",
        "model.add(keras.layers.Dense(4, activation=\"softmax\", kernel_regularizer=tf.keras.regularizers.l1(0.001)))\n",
        "\n",
        "\n",
        "model.compile(loss=\"sparse_categorical_crossentropy\",\n",
        "              optimizer=keras.optimizers.Adam(learning_rate=0.001),#[TO COMPLETE] learning rate\n",
        "              metrics=[\"accuracy\"])\n",
        "\n",
        "history = model.fit(X_train, y_train, epochs=24,#[TO COMPLETE] epochs\n",
        "                    validation_data=(X_valid, y_valid))\n",
        "\n",
        "print(\"Model Evaluation\")\n",
        "model.evaluate(X_test, y_test)\n",
        "plot_learning_curves(history)"
      ]
    },
    {
      "cell_type": "markdown",
      "metadata": {
        "id": "CgnCGYUvDqbC"
      },
      "source": [
        "### [TO COMPLETE] L2-norm\n",
        "\n",
        "L2-norm regularization is also known as weight decay. This strategy drives the weights closer to the origin by adding the regularization term omega which is defined as:\n",
        "$$\n",
        " \\Omega(\\theta)=\\frac{1}{2}||\\mathbf{W}||_2^2\n",
        "$$\n",
        "\n",
        "Let's find the values for the $\\alpha$ parameters that allow removing remove the overfitting effect with L2-norm."
      ]
    },
    {
      "cell_type": "code",
      "execution_count": null,
      "metadata": {
        "colab": {
          "background_save": true,
          "base_uri": "https://localhost:8080/",
          "height": 1000
        },
        "id": "qqNhu350DtJo",
        "outputId": "5bf1a11a-acb9-4c99-d632-ef8cb4987b90"
      },
      "outputs": [
        {
          "name": "stdout",
          "output_type": "stream",
          "text": [
            "Epoch 1/24\n",
            "3375/3375 [==============================] - 9s 2ms/step - loss: 0.6116 - accuracy: 0.8193 - val_loss: 0.5877 - val_accuracy: 0.8282\n",
            "Epoch 2/24\n",
            "3375/3375 [==============================] - 8s 2ms/step - loss: 0.5752 - accuracy: 0.8292 - val_loss: 0.5672 - val_accuracy: 0.8308\n",
            "Epoch 3/24\n",
            "3375/3375 [==============================] - 8s 2ms/step - loss: 0.5639 - accuracy: 0.8318 - val_loss: 0.5711 - val_accuracy: 0.8297\n",
            "Epoch 4/24\n",
            "3375/3375 [==============================] - 8s 2ms/step - loss: 0.5618 - accuracy: 0.8320 - val_loss: 0.5696 - val_accuracy: 0.8269\n",
            "Epoch 5/24\n",
            "3375/3375 [==============================] - 8s 2ms/step - loss: 0.5610 - accuracy: 0.8319 - val_loss: 0.5697 - val_accuracy: 0.8259\n",
            "Epoch 6/24\n",
            "3375/3375 [==============================] - 8s 2ms/step - loss: 0.5586 - accuracy: 0.8323 - val_loss: 0.5612 - val_accuracy: 0.8343\n",
            "Epoch 7/24\n",
            "3375/3375 [==============================] - 8s 2ms/step - loss: 0.5559 - accuracy: 0.8336 - val_loss: 0.5643 - val_accuracy: 0.8321\n",
            "Epoch 8/24\n",
            "3375/3375 [==============================] - 8s 2ms/step - loss: 0.5548 - accuracy: 0.8335 - val_loss: 0.5561 - val_accuracy: 0.8343\n",
            "Epoch 9/24\n",
            "3375/3375 [==============================] - 8s 2ms/step - loss: 0.5527 - accuracy: 0.8342 - val_loss: 0.5593 - val_accuracy: 0.8311\n",
            "Epoch 10/24\n",
            "3375/3375 [==============================] - 8s 2ms/step - loss: 0.5520 - accuracy: 0.8338 - val_loss: 0.5635 - val_accuracy: 0.8315\n",
            "Epoch 11/24\n",
            "3375/3375 [==============================] - 8s 2ms/step - loss: 0.5479 - accuracy: 0.8344 - val_loss: 0.5510 - val_accuracy: 0.8341\n",
            "Epoch 12/24\n",
            "3375/3375 [==============================] - 8s 2ms/step - loss: 0.5471 - accuracy: 0.8345 - val_loss: 0.5479 - val_accuracy: 0.8380\n",
            "Epoch 13/24\n",
            "3375/3375 [==============================] - 8s 2ms/step - loss: 0.5483 - accuracy: 0.8348 - val_loss: 0.5400 - val_accuracy: 0.8388\n",
            "Epoch 14/24\n",
            "3375/3375 [==============================] - 8s 2ms/step - loss: 0.5462 - accuracy: 0.8350 - val_loss: 0.5609 - val_accuracy: 0.8292\n",
            "Epoch 15/24\n",
            "3375/3375 [==============================] - 8s 2ms/step - loss: 0.5466 - accuracy: 0.8340 - val_loss: 0.5455 - val_accuracy: 0.8370\n",
            "Epoch 16/24\n",
            "3375/3375 [==============================] - 8s 2ms/step - loss: 0.5458 - accuracy: 0.8354 - val_loss: 0.5525 - val_accuracy: 0.8318\n",
            "Epoch 17/24\n",
            "3375/3375 [==============================] - 8s 2ms/step - loss: 0.5457 - accuracy: 0.8355 - val_loss: 0.5446 - val_accuracy: 0.8391\n",
            "Epoch 18/24\n",
            "3375/3375 [==============================] - 8s 2ms/step - loss: 0.5455 - accuracy: 0.8355 - val_loss: 0.5444 - val_accuracy: 0.8349\n",
            "Epoch 19/24\n",
            "3375/3375 [==============================] - 8s 2ms/step - loss: 0.5454 - accuracy: 0.8347 - val_loss: 0.5447 - val_accuracy: 0.8372\n",
            "Epoch 20/24\n",
            "3375/3375 [==============================] - 8s 2ms/step - loss: 0.5452 - accuracy: 0.8344 - val_loss: 0.5586 - val_accuracy: 0.8298\n",
            "Epoch 21/24\n",
            "3375/3375 [==============================] - 8s 2ms/step - loss: 0.5453 - accuracy: 0.8351 - val_loss: 0.5547 - val_accuracy: 0.8339\n",
            "Epoch 22/24\n",
            "3375/3375 [==============================] - 8s 2ms/step - loss: 0.5459 - accuracy: 0.8352 - val_loss: 0.5526 - val_accuracy: 0.8322\n",
            "Epoch 23/24\n",
            "3375/3375 [==============================] - 8s 2ms/step - loss: 0.5441 - accuracy: 0.8350 - val_loss: 0.5546 - val_accuracy: 0.8324\n",
            "Epoch 24/24\n",
            "3375/3375 [==============================] - 8s 2ms/step - loss: 0.5442 - accuracy: 0.8352 - val_loss: 0.5530 - val_accuracy: 0.8313\n",
            "Model Evaluation\n",
            "238/238 [==============================] - 1s 2ms/step - loss: 0.5654 - accuracy: 0.8304\n"
          ]
        },
        {
          "data": {
            "image/png": "[encoded data removed]",
            "text/plain": [
              "<Figure size 576x360 with 1 Axes>"
            ]
          },
          "metadata": {},
          "output_type": "display_data"
        }
      ],
      "source": [
        "#[TO COMPLETE] insert the model that you previously defined that overfit the \n",
        "#trainig data, and add the L2-norm regularization. Use proper values for the\n",
        "#alpha hyper-parameters, that prevents the model from overfitting. The results  \n",
        "#reached by the model in terms of loss and accuracy (in all data sets) should be\n",
        "#comparable with the ones obtained by the initial model defined in Exercise 2.1\n",
        "\n",
        "#In general, a layer that exploits L2-norm regularization is defined as follow:\n",
        "\n",
        "#model.add(keras.layers.Dense(units=[TO COMPLETE], activation=[TO COMPLETE],kernel_regularizer=tf.keras.regularizers.l2([TO COMPLETE]))) \n",
        "\n",
        "model = keras.models.Sequential()\n",
        "#[TO COMPLETE]\n",
        "model = keras.models.Sequential()\n",
        "model.add(tf.keras.Input(shape=(num_words,)))\n",
        "model.add(keras.layers.Dense(16, activation=\"relu\", kernel_regularizer=tf.keras.regularizers.l2(0.001)))\n",
        "model.add(keras.layers.Dense(16, activation=\"relu\", kernel_regularizer=tf.keras.regularizers.l2(0.001)))\n",
        "model.add(keras.layers.Dense(4, activation=\"softmax\", kernel_regularizer=tf.keras.regularizers.l2(0.001)))\n",
        "\n",
        "\n",
        "model.compile(loss=\"sparse_categorical_crossentropy\",\n",
        "              optimizer=keras.optimizers.Adam(learning_rate=0.005),#[TO COMPLETE] learning rate\n",
        "              metrics=[\"accuracy\"])\n",
        "\n",
        "history = model.fit(X_train, y_train, epochs=24,#[TO COMPLETE] epochs\n",
        "                    validation_data=(X_valid, y_valid))\n",
        "\n",
        "print(\"Model Evaluation\")\n",
        "model.evaluate(X_test, y_test)\n",
        "plot_learning_curves(history)"
      ]
    },
    {
      "cell_type": "markdown",
      "metadata": {
        "id": "xvyKPb4DD25G"
      },
      "source": [
        "###[TO COMPLETE] Early stopping\n",
        "\n",
        "Early Stopping is a form of regularization used to avoid overfitting. It is designed to monitor the generalization error of one model and stop training when generalization error begins to degrade. In order to evaluate the generalization error, early stopping requires that a validation dataset is evaluated during training. Then, when the validation error does not improve for a specific number of epochs (`patience` hyper-parameter), it stops the training phase."
      ]
    },
    {
      "cell_type": "code",
      "execution_count": null,
      "metadata": {
        "colab": {
          "background_save": true,
          "base_uri": "https://localhost:8080/",
          "height": 677
        },
        "id": "MqNOOZ11D7cq",
        "outputId": "a2ab4cc9-16b4-40ce-ac2c-c95ea79f7872"
      },
      "outputs": [
        {
          "name": "stdout",
          "output_type": "stream",
          "text": [
            "Epoch 1/24\n",
            "3375/3375 [==============================] - 8s 2ms/step - loss: 0.4751 - accuracy: 0.8298 - val_loss: 0.4167 - val_accuracy: 0.8508\n",
            "Epoch 2/24\n",
            "3375/3375 [==============================] - 8s 2ms/step - loss: 0.3985 - accuracy: 0.8549 - val_loss: 0.4075 - val_accuracy: 0.8517\n",
            "Epoch 3/24\n",
            "3375/3375 [==============================] - 8s 2ms/step - loss: 0.3803 - accuracy: 0.8607 - val_loss: 0.4007 - val_accuracy: 0.8543\n",
            "Epoch 4/24\n",
            "3375/3375 [==============================] - 8s 2ms/step - loss: 0.3664 - accuracy: 0.8646 - val_loss: 0.3962 - val_accuracy: 0.8567\n",
            "Epoch 5/24\n",
            "3375/3375 [==============================] - 8s 2ms/step - loss: 0.3548 - accuracy: 0.8689 - val_loss: 0.3954 - val_accuracy: 0.8568\n",
            "Epoch 6/24\n",
            "3375/3375 [==============================] - 8s 2ms/step - loss: 0.3441 - accuracy: 0.8728 - val_loss: 0.3958 - val_accuracy: 0.8582\n",
            "Epoch 7/24\n",
            "3375/3375 [==============================] - 8s 2ms/step - loss: 0.3348 - accuracy: 0.8765 - val_loss: 0.4042 - val_accuracy: 0.8547\n",
            "Epoch 8/24\n",
            "3375/3375 [==============================] - 8s 2ms/step - loss: 0.3271 - accuracy: 0.8790 - val_loss: 0.3966 - val_accuracy: 0.8573\n",
            "Model Evaluation\n",
            "238/238 [==============================] - 1s 2ms/step - loss: 0.4037 - accuracy: 0.8516\n"
          ]
        },
        {
          "data": {
            "image/png": "[encoded data removed]",
            "text/plain": [
              "<Figure size 576x360 with 1 Axes>"
            ]
          },
          "metadata": {},
          "output_type": "display_data"
        }
      ],
      "source": [
        "#[TO COMPLETE] insert the model that you previously defined that overfit the \n",
        "#trainnig data\n",
        "model = keras.models.Sequential()\n",
        "\n",
        "model = keras.models.Sequential()\n",
        "model.add(tf.keras.Input(shape=(num_words,)))\n",
        "model.add(keras.layers.Dense(16, activation=\"relu\"))\n",
        "model.add(keras.layers.Dense(16, activation=\"relu\"))\n",
        "model.add(keras.layers.Dense(4, activation=\"softmax\"))\n",
        "\n",
        "\n",
        "model.compile(loss=\"sparse_categorical_crossentropy\",\n",
        "              optimizer=keras.optimizers.Adam(learning_rate=0.001),#[TO COMPLETE] learning rate\n",
        "\n",
        "              metrics=[\"accuracy\"])\n",
        "\n",
        "#Let's define a log dir in order to save the checkpoint file\n",
        "logdir = os.path.join(os.curdir, \"my_logs\", \"run_{}\".format(time.time()))\n",
        "\n",
        "#In Keras the early stopping is manage by using the callbacks argument.\n",
        "callbacks = [\n",
        "    keras.callbacks.TensorBoard(logdir),\n",
        "    keras.callbacks.EarlyStopping(patience=3),#[TO COMPLETE] play with patience and find the value that prevents the model from overfitting.\n",
        "\n",
        "\n",
        "    #Saving the checkpoints file allows to load the \"best\" model when the Early \n",
        "    #stopping detect that the generalization error degrade (after 'patience' epochs)\n",
        "    keras.callbacks.ModelCheckpoint(\"my_mnist_model.h5\", save_best_only=True),\n",
        "]\n",
        "\n",
        "history = model.fit(X_train, y_train, epochs=24,#[TO COMPLETE] epochs\n",
        "                    validation_data=(X_valid, y_valid),\n",
        "                    callbacks=callbacks)\n",
        "\n",
        "print(\"Model Evaluation\")\n",
        "#The early stopping stopped training after few epochs without progress, so your\n",
        "#model may already have started to overfit the training set. Since the \n",
        "#ModelCheckpoint callback only saved the best models (on the validation set) the\n",
        "#last saved model is the best on the validation set.\n",
        "model = keras.models.load_model(\"my_mnist_model.h5\")\n",
        "model.evaluate(X_test, y_test)\n",
        "plot_learning_curves(history)"
      ]
    },
    {
      "cell_type": "markdown",
      "metadata": {
        "id": "DCV8pwVzl9GK"
      },
      "source": [
        "\n",
        "## Exercise 2.3: Model Selection\n",
        "\n",
        "Hyperparameters are the parameters of the learning method itself which we have to specify a priori, i.e., before model fitting. In contrast, model parameters are parameters which arise as a result of the fit (the network weights). The aim of model selection is selecting the best hyperparameters for our deep network. Finding the right hyperparameters for a model can be crucial for the model performance on given data. For istance lets consider our model trained by using different values for the learning rate: "
      ]
    },
    {
      "cell_type": "code",
      "execution_count": null,
      "metadata": {
        "colab": {
          "background_save": true
        },
        "id": "Fw8Hs-AEmLKh"
      },
      "outputs": [],
      "source": [
        "learning_rates = [1e-4, 1e-2, 1e-1]"
      ]
    },
    {
      "cell_type": "code",
      "execution_count": null,
      "metadata": {
        "colab": {
          "background_save": true,
          "base_uri": "https://localhost:8080/"
        },
        "id": "mym4GOgUmWqD",
        "outputId": "f7eb445a-9f22-4cd6-c40f-a24e0c45c318"
      },
      "outputs": [
        {
          "name": "stdout",
          "output_type": "stream",
          "text": [
            "Epoch 1/10\n",
            "3375/3375 [==============================] - 8s 2ms/step - loss: 0.8468 - accuracy: 0.6873 - val_loss: 0.5046 - val_accuracy: 0.8341\n",
            "Epoch 2/10\n",
            "3375/3375 [==============================] - 8s 2ms/step - loss: 0.4545 - accuracy: 0.8447 - val_loss: 0.4451 - val_accuracy: 0.8476\n",
            "Epoch 3/10\n",
            "3375/3375 [==============================] - 7s 2ms/step - loss: 0.4203 - accuracy: 0.8536 - val_loss: 0.4310 - val_accuracy: 0.8499\n",
            "Epoch 4/10\n",
            "3375/3375 [==============================] - 8s 2ms/step - loss: 0.4072 - accuracy: 0.8567 - val_loss: 0.4227 - val_accuracy: 0.8503\n",
            "Epoch 5/10\n",
            "3375/3375 [==============================] - 8s 2ms/step - loss: 0.3997 - accuracy: 0.8588 - val_loss: 0.4194 - val_accuracy: 0.8514\n",
            "Epoch 6/10\n",
            "3375/3375 [==============================] - 8s 2ms/step - loss: 0.3945 - accuracy: 0.8600 - val_loss: 0.4161 - val_accuracy: 0.8523\n",
            "Epoch 7/10\n",
            "3375/3375 [==============================] - 8s 2ms/step - loss: 0.3905 - accuracy: 0.8614 - val_loss: 0.4138 - val_accuracy: 0.8530\n",
            "Epoch 8/10\n",
            "3375/3375 [==============================] - 8s 2ms/step - loss: 0.3870 - accuracy: 0.8615 - val_loss: 0.4121 - val_accuracy: 0.8545\n",
            "Epoch 9/10\n",
            "3375/3375 [==============================] - 8s 2ms/step - loss: 0.3839 - accuracy: 0.8622 - val_loss: 0.4095 - val_accuracy: 0.8543\n",
            "Epoch 10/10\n",
            "3375/3375 [==============================] - 8s 2ms/step - loss: 0.3813 - accuracy: 0.8624 - val_loss: 0.4085 - val_accuracy: 0.8548\n",
            "evaluation on test set\n",
            "238/238 [==============================] - 1s 2ms/step - loss: 0.4192 - accuracy: 0.8486\n",
            "Epoch 1/10\n",
            "3375/3375 [==============================] - 8s 2ms/step - loss: 0.4642 - accuracy: 0.8305 - val_loss: 0.4323 - val_accuracy: 0.8473\n",
            "Epoch 2/10\n",
            "3375/3375 [==============================] - 8s 2ms/step - loss: 0.4082 - accuracy: 0.8511 - val_loss: 0.4134 - val_accuracy: 0.8523\n",
            "Epoch 3/10\n",
            "3375/3375 [==============================] - 8s 2ms/step - loss: 0.3882 - accuracy: 0.8586 - val_loss: 0.4090 - val_accuracy: 0.8545\n",
            "Epoch 4/10\n",
            "3375/3375 [==============================] - 8s 2ms/step - loss: 0.3726 - accuracy: 0.8646 - val_loss: 0.4175 - val_accuracy: 0.8518\n",
            "Epoch 5/10\n",
            "3375/3375 [==============================] - 8s 2ms/step - loss: 0.3607 - accuracy: 0.8692 - val_loss: 0.4437 - val_accuracy: 0.8428\n",
            "evaluation on test set\n",
            "238/238 [==============================] - 1s 2ms/step - loss: 0.4474 - accuracy: 0.8401\n",
            "Epoch 1/10\n",
            "3375/3375 [==============================] - 8s 2ms/step - loss: 0.6958 - accuracy: 0.7655 - val_loss: 0.6323 - val_accuracy: 0.7897\n",
            "Epoch 2/10\n",
            "3375/3375 [==============================] - 8s 2ms/step - loss: 0.6766 - accuracy: 0.7844 - val_loss: 1.0935 - val_accuracy: 0.6174\n",
            "Epoch 3/10\n",
            "3375/3375 [==============================] - 8s 2ms/step - loss: 0.8929 - accuracy: 0.6202 - val_loss: 0.9087 - val_accuracy: 0.6152\n",
            "evaluation on test set\n",
            "238/238 [==============================] - 1s 2ms/step - loss: 0.9010 - accuracy: 0.6218\n"
          ]
        }
      ],
      "source": [
        "histories = []\n",
        "for learning_rate in learning_rates:\n",
        "    model = keras.models.Sequential([\n",
        "                                    tf.keras.Input(shape=(num_words,)),\n",
        "                                    keras.layers.Dense(16, activation=\"relu\"),\n",
        "                                    keras.layers.Dense(16, activation=\"relu\"),\n",
        "                                    keras.layers.Dense(4, activation=\"softmax\")\n",
        "                                     ])\n",
        "    model.compile(loss=\"sparse_categorical_crossentropy\",\n",
        "              optimizer=keras.optimizers.Adam(learning_rate=learning_rate),\n",
        "              metrics=[\"accuracy\"])\n",
        "              \n",
        "    callbacks = [keras.callbacks.EarlyStopping(patience=2)]\n",
        "\n",
        "    history = model.fit(X_train, y_train,\n",
        "                        validation_data=(X_valid, y_valid), epochs=10,\n",
        "                        callbacks=callbacks)\n",
        "    histories.append(history)\n",
        "    print(\"evaluation on test set\")\n",
        "    model.evaluate(X_test, y_test)"
      ]
    },
    {
      "cell_type": "markdown",
      "metadata": {
        "id": "RzTSjfwptkHJ"
      },
      "source": [
        "Let's plot the results"
      ]
    },
    {
      "cell_type": "code",
      "execution_count": null,
      "metadata": {
        "colab": {
          "background_save": true,
          "base_uri": "https://localhost:8080/",
          "height": 980
        },
        "id": "cIlN1vlioIYh",
        "outputId": "3c6eefd7-2803-46a7-a413-26183bd1c115"
      },
      "outputs": [
        {
          "name": "stdout",
          "output_type": "stream",
          "text": [
            "Learning rate: 0.0001\n"
          ]
        },
        {
          "data": {
            "image/png": "[encoded data removed]",
            "text/plain": [
              "<Figure size 576x360 with 1 Axes>"
            ]
          },
          "metadata": {},
          "output_type": "display_data"
        },
        {
          "name": "stdout",
          "output_type": "stream",
          "text": [
            "Learning rate: 0.01\n"
          ]
        },
        {
          "data": {
            "image/png": "[encoded data removed]",
            "text/plain": [
              "<Figure size 576x360 with 1 Axes>"
            ]
          },
          "metadata": {},
          "output_type": "display_data"
        },
        {
          "name": "stdout",
          "output_type": "stream",
          "text": [
            "Learning rate: 0.1\n"
          ]
        },
        {
          "data": {
            "image/png": "[encoded data removed]",
            "text/plain": [
              "<Figure size 576x360 with 1 Axes>"
            ]
          },
          "metadata": {},
          "output_type": "display_data"
        }
      ],
      "source": [
        "for learning_rate, history in zip(learning_rates, histories):\n",
        "    print(\"Learning rate:\", learning_rate)\n",
        "    plot_learning_acc_and_loss(history)"
      ]
    },
    {
      "cell_type": "markdown",
      "metadata": {
        "id": "_JntujSWq3e5"
      },
      "source": [
        "### [TO COMPLETE] GRID Search:\n",
        "\n",
        "Since a deep net has many hyperparameters, in order to find the best ones, we have to consider all the possible combinations of all of the possible values. One common method to perform this complex task is Grid-Search.\n",
        "Given a set of values for each hyper-parameter, Grid-Search will build a model on each parameter combination possible. It iterates through every parameter combination and stores a model for each combination. Finally, the model that obtained the best result on the validation set will be select.\n",
        "\n",
        "In order to perfrom Grid-Search we will use the `GridSearchCV` class from `scikit-learn`."
      ]
    },
    {
      "cell_type": "markdown",
      "metadata": {
        "id": "CPz629YSrDhN"
      },
      "source": [
        "Let's Create a `build_model()` function that takes two arguments, `n_neurons` and `learning_rate`, and builds, compiles and returns a model with the given number of of neurons and the given learning rate.\n",
        "In order to limit the time requirements of the process we will consider only these two hyper-paramters.\n",
        "\n",
        "[TO COMPLETE] in the following code cell define the `build_model` function."
      ]
    },
    {
      "cell_type": "code",
      "execution_count": null,
      "metadata": {
        "colab": {
          "background_save": true,
          "base_uri": "https://localhost:8080/"
        },
        "id": "oGSKWTTtqxZ4",
        "outputId": "31fbc56f-2dd5-402b-ef0a-838452f4fa78"
      },
      "outputs": [
        {
          "name": "stderr",
          "output_type": "stream",
          "text": [
            "/usr/local/lib/python3.7/dist-packages/ipykernel_launcher.py:28: DeprecationWarning: KerasRegressor is deprecated, use Sci-Keras (https://github.com/adriangb/scikeras) instead. See https://www.adriangb.com/scikeras/stable/migration.html for help migrating.\n"
          ]
        }
      ],
      "source": [
        "def build_model(n_units=30, learning_rate=1e-3):\n",
        "    # The function has to build a model similar to the ones we used in previuous execises:\n",
        "    #- a input layer \n",
        "    #- one or two Dense layers composed of n_units and that exploit Relu activation function \n",
        "    #- the output layer that uses the softmax activation function\n",
        "    # Then, the model has to be compiled.\n",
        "\n",
        "    model = keras.models.Sequential([\n",
        "                                    tf.keras.Input(shape=(num_words,)),\n",
        "                                    keras.layers.Dense(n_units, activation=\"relu\"),\n",
        "                                    keras.layers.Dense(n_units, activation=\"relu\"),\n",
        "                                    keras.layers.Dense(4, activation=\"softmax\")\n",
        "                                     ])\n",
        "    \n",
        "    # [TO COMPLETE] Then, the model has to be compiled.\n",
        "    model.compile(loss=\"sparse_categorical_crossentropy\",\n",
        "              optimizer=keras.optimizers.Adam(learning_rate=learning_rate),\n",
        "              metrics=[\"accuracy\"])\n",
        "    \n",
        "    \n",
        "\n",
        "    \n",
        "    return model\n",
        "\n",
        "    \n",
        "#Create a keras.wrappers.scikit_learn.KerasRegressor and pass the build_model \n",
        "#function to the constructor. This gives you a Scikit-Learn compatible predictor\n",
        "keras_reg = keras.wrappers.scikit_learn.KerasRegressor(build_model)"
      ]
    },
    {
      "cell_type": "markdown",
      "metadata": {
        "id": "PS6W3A2LxDg5"
      },
      "source": [
        "Let's define the lists of hyper-parameters' values. Also in this case, we use a very limited size lists, but in a real-world scenario a reasonable amount of possible values should be considered (try to add some values and check how much the time required to perform the Grid-Search increases)"
      ]
    },
    {
      "cell_type": "code",
      "execution_count": null,
      "metadata": {
        "colab": {
          "background_save": true
        },
        "id": "y-uldCW3ru24"
      },
      "outputs": [],
      "source": [
        "param_distribs = {\n",
        "    \"n_units\": [16,32, 64],# [TO COMPLETE] insert a list that contains few (2 or 3) reasonable value\n",
        "    \"learning_rate\": [1e-4, 1e-2, 1e-1] #[TO COMPLETE] insert a list that contains few (2 or 3) reasonable values\n",
        "    #Check how the time required to perform GRID search increases when increasing the number of values for each hyper-parameter.\n",
        "}"
      ]
    },
    {
      "cell_type": "markdown",
      "metadata": {
        "id": "bEiBxVYtx_sK"
      },
      "source": [
        "Use a `sklearn.model_selection.GridSearchCV` to search the hyperparameter space of your `KerasRegressor`"
      ]
    },
    {
      "cell_type": "code",
      "execution_count": null,
      "metadata": {
        "colab": {
          "background_save": true
        },
        "id": "iobF2Bvdr9ER"
      },
      "outputs": [],
      "source": [
        "from sklearn.model_selection import GridSearchCV\n",
        "\n",
        "grid_search = GridSearchCV(keras_reg, param_distribs)"
      ]
    },
    {
      "cell_type": "markdown",
      "metadata": {
        "id": "LVGMcZz_yKSX"
      },
      "source": [
        "Run the Grid-Search"
      ]
    },
    {
      "cell_type": "code",
      "execution_count": null,
      "metadata": {
        "colab": {
          "background_save": true,
          "base_uri": "https://localhost:8080/"
        },
        "id": "-BA3vgTjr-hw",
        "outputId": "cd6607e7-8a53-4025-d8c9-2105d859cf6e"
      },
      "outputs": [
        {
          "name": "stdout",
          "output_type": "stream",
          "text": [
            "Epoch 1/5\n",
            "2700/2700 [==============================] - 7s 2ms/step - loss: 0.8775 - accuracy: 0.6776 - val_loss: 0.5423 - val_accuracy: 0.8220\n",
            "Epoch 2/5\n",
            "2700/2700 [==============================] - 6s 2ms/step - loss: 0.4839 - accuracy: 0.8362 - val_loss: 0.4660 - val_accuracy: 0.8409\n",
            "Epoch 3/5\n",
            "2700/2700 [==============================] - 6s 2ms/step - loss: 0.4383 - accuracy: 0.8487 - val_loss: 0.4449 - val_accuracy: 0.8456\n",
            "Epoch 4/5\n",
            "2700/2700 [==============================] - 6s 2ms/step - loss: 0.4205 - accuracy: 0.8531 - val_loss: 0.4342 - val_accuracy: 0.8464\n",
            "Epoch 5/5\n",
            "2700/2700 [==============================] - 6s 2ms/step - loss: 0.4102 - accuracy: 0.8563 - val_loss: 0.4288 - val_accuracy: 0.8477\n",
            "675/675 [==============================] - 1s 2ms/step - loss: 0.4159 - accuracy: 0.8517\n",
            "Epoch 1/5\n",
            "2700/2700 [==============================] - 7s 2ms/step - loss: 0.8411 - accuracy: 0.7144 - val_loss: 0.5292 - val_accuracy: 0.8255\n",
            "Epoch 2/5\n",
            "2700/2700 [==============================] - 6s 2ms/step - loss: 0.4697 - accuracy: 0.8424 - val_loss: 0.4572 - val_accuracy: 0.8449\n",
            "Epoch 3/5\n",
            "2700/2700 [==============================] - 6s 2ms/step - loss: 0.4278 - accuracy: 0.8512 - val_loss: 0.4405 - val_accuracy: 0.8492\n",
            "Epoch 4/5\n",
            "2700/2700 [==============================] - 6s 2ms/step - loss: 0.4121 - accuracy: 0.8560 - val_loss: 0.4319 - val_accuracy: 0.8493\n",
            "Epoch 5/5\n",
            "2700/2700 [==============================] - 6s 2ms/step - loss: 0.4035 - accuracy: 0.8582 - val_loss: 0.4279 - val_accuracy: 0.8505\n",
            "675/675 [==============================] - 1s 2ms/step - loss: 0.4194 - accuracy: 0.8505\n",
            "Epoch 1/5\n",
            "2700/2700 [==============================] - 7s 2ms/step - loss: 0.8950 - accuracy: 0.6793 - val_loss: 0.5304 - val_accuracy: 0.8250\n",
            "Epoch 2/5\n",
            "2700/2700 [==============================] - 6s 2ms/step - loss: 0.4692 - accuracy: 0.8416 - val_loss: 0.4526 - val_accuracy: 0.8436\n",
            "Epoch 3/5\n",
            "2700/2700 [==============================] - 6s 2ms/step - loss: 0.4248 - accuracy: 0.8537 - val_loss: 0.4352 - val_accuracy: 0.8487\n",
            "Epoch 4/5\n",
            "2700/2700 [==============================] - 6s 2ms/step - loss: 0.4080 - accuracy: 0.8580 - val_loss: 0.4279 - val_accuracy: 0.8494\n",
            "Epoch 5/5\n",
            "2700/2700 [==============================] - 7s 2ms/step - loss: 0.3987 - accuracy: 0.8606 - val_loss: 0.4227 - val_accuracy: 0.8507\n",
            "675/675 [==============================] - 1s 2ms/step - loss: 0.4273 - accuracy: 0.8475\n",
            "Epoch 1/5\n",
            "2700/2700 [==============================] - 7s 2ms/step - loss: 0.8838 - accuracy: 0.6772 - val_loss: 0.5312 - val_accuracy: 0.8264\n",
            "Epoch 2/5\n",
            "2700/2700 [==============================] - 6s 2ms/step - loss: 0.4702 - accuracy: 0.8394 - val_loss: 0.4519 - val_accuracy: 0.8457\n",
            "Epoch 3/5\n",
            "2700/2700 [==============================] - 6s 2ms/step - loss: 0.4268 - accuracy: 0.8505 - val_loss: 0.4347 - val_accuracy: 0.8493\n",
            "Epoch 4/5\n",
            "2700/2700 [==============================] - 6s 2ms/step - loss: 0.4107 - accuracy: 0.8550 - val_loss: 0.4275 - val_accuracy: 0.8519\n",
            "Epoch 5/5\n",
            "2700/2700 [==============================] - 6s 2ms/step - loss: 0.4015 - accuracy: 0.8579 - val_loss: 0.4211 - val_accuracy: 0.8516\n",
            "675/675 [==============================] - 1s 2ms/step - loss: 0.4094 - accuracy: 0.8568\n",
            "Epoch 1/5\n",
            "2700/2700 [==============================] - 7s 2ms/step - loss: 0.8965 - accuracy: 0.6890 - val_loss: 0.5461 - val_accuracy: 0.8232\n",
            "Epoch 2/5\n",
            "2700/2700 [==============================] - 6s 2ms/step - loss: 0.4757 - accuracy: 0.8395 - val_loss: 0.4584 - val_accuracy: 0.8422\n",
            "Epoch 3/5\n",
            "2700/2700 [==============================] - 6s 2ms/step - loss: 0.4270 - accuracy: 0.8511 - val_loss: 0.4390 - val_accuracy: 0.8472\n",
            "Epoch 4/5\n",
            "2700/2700 [==============================] - 6s 2ms/step - loss: 0.4096 - accuracy: 0.8558 - val_loss: 0.4313 - val_accuracy: 0.8488\n",
            "Epoch 5/5\n",
            "2700/2700 [==============================] - 6s 2ms/step - loss: 0.4004 - accuracy: 0.8584 - val_loss: 0.4267 - val_accuracy: 0.8503\n",
            "675/675 [==============================] - 1s 2ms/step - loss: 0.4222 - accuracy: 0.8507\n",
            "Epoch 1/5\n",
            "2700/2700 [==============================] - 7s 2ms/step - loss: 0.7665 - accuracy: 0.7271 - val_loss: 0.4807 - val_accuracy: 0.8384\n",
            "Epoch 2/5\n",
            "2700/2700 [==============================] - 6s 2ms/step - loss: 0.4425 - accuracy: 0.8476 - val_loss: 0.4400 - val_accuracy: 0.8458\n",
            "Epoch 3/5\n",
            "2700/2700 [==============================] - 6s 2ms/step - loss: 0.4153 - accuracy: 0.8543 - val_loss: 0.4300 - val_accuracy: 0.8482\n",
            "Epoch 4/5\n",
            " 678/2700 [======>.......................] - ETA: 4s - loss: 0.3978 - accuracy: 0.8596"
          ]
        }
      ],
      "source": [
        "\n",
        "grid_search.fit(X_train.numpy(), y_train.numpy(), epochs=5,#The number of epochs can be modified (check what happens by increasing it)\n",
        "                validation_data=(X_valid.numpy(), y_valid.numpy()))"
      ]
    },
    {
      "cell_type": "markdown",
      "metadata": {
        "id": "aadmkiOoyM94"
      },
      "source": [
        "Print the best hyper-parameters, and evealuate the best model on the test set."
      ]
    },
    {
      "cell_type": "code",
      "execution_count": null,
      "metadata": {
        "colab": {
          "base_uri": "https://localhost:8080/"
        },
        "id": "b0nL5OZkylNX",
        "outputId": "06f40e10-0ffa-4072-dd19-626e51c3ea3f"
      },
      "outputs": [
        {
          "name": "stdout",
          "output_type": "stream",
          "text": [
            "{'learning_rate': 0.0001, 'n_units': 64}\n",
            "238/238 [==============================] - 1s 3ms/step - loss: 0.4154 - accuracy: 0.8512\n"
          ]
        },
        {
          "data": {
            "text/plain": [
              "[0.4154057502746582, 0.8511841893196106]"
            ]
          },
          "execution_count": 42,
          "metadata": {},
          "output_type": "execute_result"
        }
      ],
      "source": [
        "print(grid_search.best_params_)\n",
        "\n",
        "model = grid_search.best_estimator_.model\n",
        "model.evaluate(X_test, y_test)"
      ]
    },
    {
      "cell_type": "code",
      "execution_count": null,
      "metadata": {
        "id": "3UbfbEkdrkD1"
      },
      "outputs": [],
      "source": []
    }
  ],
  "metadata": {
    "colab": {
      "toc_visible": true,
      "provenance": []
    },
    "kernelspec": {
      "display_name": "Python 3",
      "name": "python3"
    },
    "widgets": {
      "application/vnd.jupyter.widget-state+json": {
        "06b0142c51204d8dba93cb0a277409ef": {
          "model_module": "@jupyter-widgets/controls",
          "model_module_version": "1.5.0",
          "model_name": "FloatProgressModel",
          "state": {
            "_dom_classes": [],
            "_model_module": "@jupyter-widgets/controls",
            "_model_module_version": "1.5.0",
            "_model_name": "FloatProgressModel",
            "_view_count": null,
            "_view_module": "@jupyter-widgets/controls",
            "_view_module_version": "1.5.0",
            "_view_name": "ProgressView",
            "bar_style": "info",
            "description": "",
            "description_tooltip": null,
            "layout": "IPY_MODEL_1e3e25671e2b4eccb240357c083a5747",
            "max": 1,
            "min": 0,
            "orientation": "horizontal",
            "style": "IPY_MODEL_17a6490910f44be795d6d74811cf19bb",
            "value": 1
          }
        },
        "07e276cf6aa34db19257c82cde4528d8": {
          "model_module": "@jupyter-widgets/base",
          "model_module_version": "1.2.0",
          "model_name": "LayoutModel",
          "state": {
            "_model_module": "@jupyter-widgets/base",
            "_model_module_version": "1.2.0",
            "_model_name": "LayoutModel",
            "_view_count": null,
            "_view_module": "@jupyter-widgets/base",
            "_view_module_version": "1.2.0",
            "_view_name": "LayoutView",
            "align_content": null,
            "align_items": null,
            "align_self": null,
            "border": null,
            "bottom": null,
            "display": null,
            "flex": null,
            "flex_flow": null,
            "grid_area": null,
            "grid_auto_columns": null,
            "grid_auto_flow": null,
            "grid_auto_rows": null,
            "grid_column": null,
            "grid_gap": null,
            "grid_row": null,
            "grid_template_areas": null,
            "grid_template_columns": null,
            "grid_template_rows": null,
            "height": null,
            "justify_content": null,
            "justify_items": null,
            "left": null,
            "margin": null,
            "max_height": null,
            "max_width": null,
            "min_height": null,
            "min_width": null,
            "object_fit": null,
            "object_position": null,
            "order": null,
            "overflow": null,
            "overflow_x": null,
            "overflow_y": null,
            "padding": null,
            "right": null,
            "top": null,
            "visibility": null,
            "width": null
          }
        },
        "0c337f5335d248efa277723d42f1c36b": {
          "model_module": "@jupyter-widgets/base",
          "model_module_version": "1.2.0",
          "model_name": "LayoutModel",
          "state": {
            "_model_module": "@jupyter-widgets/base",
            "_model_module_version": "1.2.0",
            "_model_name": "LayoutModel",
            "_view_count": null,
            "_view_module": "@jupyter-widgets/base",
            "_view_module_version": "1.2.0",
            "_view_name": "LayoutView",
            "align_content": null,
            "align_items": null,
            "align_self": null,
            "border": null,
            "bottom": null,
            "display": null,
            "flex": null,
            "flex_flow": null,
            "grid_area": null,
            "grid_auto_columns": null,
            "grid_auto_flow": null,
            "grid_auto_rows": null,
            "grid_column": null,
            "grid_gap": null,
            "grid_row": null,
            "grid_template_areas": null,
            "grid_template_columns": null,
            "grid_template_rows": null,
            "height": null,
            "justify_content": null,
            "justify_items": null,
            "left": null,
            "margin": null,
            "max_height": null,
            "max_width": null,
            "min_height": null,
            "min_width": null,
            "object_fit": null,
            "object_position": null,
            "order": null,
            "overflow": null,
            "overflow_x": null,
            "overflow_y": null,
            "padding": null,
            "right": null,
            "top": null,
            "visibility": null,
            "width": null
          }
        },
        "1118e25fa0304853b5e7c01f0aeab6f9": {
          "model_module": "@jupyter-widgets/base",
          "model_module_version": "1.2.0",
          "model_name": "LayoutModel",
          "state": {
            "_model_module": "@jupyter-widgets/base",
            "_model_module_version": "1.2.0",
            "_model_name": "LayoutModel",
            "_view_count": null,
            "_view_module": "@jupyter-widgets/base",
            "_view_module_version": "1.2.0",
            "_view_name": "LayoutView",
            "align_content": null,
            "align_items": null,
            "align_self": null,
            "border": null,
            "bottom": null,
            "display": null,
            "flex": null,
            "flex_flow": null,
            "grid_area": null,
            "grid_auto_columns": null,
            "grid_auto_flow": null,
            "grid_auto_rows": null,
            "grid_column": null,
            "grid_gap": null,
            "grid_row": null,
            "grid_template_areas": null,
            "grid_template_columns": null,
            "grid_template_rows": null,
            "height": null,
            "justify_content": null,
            "justify_items": null,
            "left": null,
            "margin": null,
            "max_height": null,
            "max_width": null,
            "min_height": null,
            "min_width": null,
            "object_fit": null,
            "object_position": null,
            "order": null,
            "overflow": null,
            "overflow_x": null,
            "overflow_y": null,
            "padding": null,
            "right": null,
            "top": null,
            "visibility": null,
            "width": null
          }
        },
        "149763f39f2f46b085140fc824d66207": {
          "model_module": "@jupyter-widgets/controls",
          "model_module_version": "1.5.0",
          "model_name": "HBoxModel",
          "state": {
            "_dom_classes": [],
            "_model_module": "@jupyter-widgets/controls",
            "_model_module_version": "1.5.0",
            "_model_name": "HBoxModel",
            "_view_count": null,
            "_view_module": "@jupyter-widgets/controls",
            "_view_module_version": "1.5.0",
            "_view_name": "HBoxView",
            "box_style": "",
            "children": [
              "IPY_MODEL_2af5f3759a6746aa9929e5e1bdda99c9",
              "IPY_MODEL_4dcacbfe79d84216b4179b1ee55ea745",
              "IPY_MODEL_dec5461f9ba54822b8e3dabc8d5dedf5"
            ],
            "layout": "IPY_MODEL_1ae758230f7840e183569ad03209acb8"
          }
        },
        "15512c5671d14cd4bc7120908488ded9": {
          "model_module": "@jupyter-widgets/controls",
          "model_module_version": "1.5.0",
          "model_name": "ProgressStyleModel",
          "state": {
            "_model_module": "@jupyter-widgets/controls",
            "_model_module_version": "1.5.0",
            "_model_name": "ProgressStyleModel",
            "_view_count": null,
            "_view_module": "@jupyter-widgets/base",
            "_view_module_version": "1.2.0",
            "_view_name": "StyleView",
            "bar_color": null,
            "description_width": ""
          }
        },
        "16e9ff0abeae4fa1a6a7577b88ebb525": {
          "model_module": "@jupyter-widgets/controls",
          "model_module_version": "1.5.0",
          "model_name": "FloatProgressModel",
          "state": {
            "_dom_classes": [],
            "_model_module": "@jupyter-widgets/controls",
            "_model_module_version": "1.5.0",
            "_model_name": "FloatProgressModel",
            "_view_count": null,
            "_view_module": "@jupyter-widgets/controls",
            "_view_module_version": "1.5.0",
            "_view_name": "ProgressView",
            "bar_style": "success",
            "description": "",
            "description_tooltip": null,
            "layout": "IPY_MODEL_f5f3066b3d3f4ae795bf87a3b3e801dc",
            "max": 1,
            "min": 0,
            "orientation": "horizontal",
            "style": "IPY_MODEL_3eb91aafbcc94575b582b7e2ac2323d0",
            "value": 0
          }
        },
        "176afa3af2cf49d0b3ceae33d0d4ce64": {
          "model_module": "@jupyter-widgets/controls",
          "model_module_version": "1.5.0",
          "model_name": "HBoxModel",
          "state": {
            "_dom_classes": [],
            "_model_module": "@jupyter-widgets/controls",
            "_model_module_version": "1.5.0",
            "_model_name": "HBoxModel",
            "_view_count": null,
            "_view_module": "@jupyter-widgets/controls",
            "_view_module_version": "1.5.0",
            "_view_name": "HBoxView",
            "box_style": "",
            "children": [
              "IPY_MODEL_953c43e08dc84f61878bfe09c3e3d7f2",
              "IPY_MODEL_16e9ff0abeae4fa1a6a7577b88ebb525",
              "IPY_MODEL_3a682b9c740a4ce3aef4fa25b294264a"
            ],
            "layout": "IPY_MODEL_ac99abc409b84fe499e1b972f5376ea4"
          }
        },
        "17975eb14d184b08823046ecc93e5f06": {
          "model_module": "@jupyter-widgets/base",
          "model_module_version": "1.2.0",
          "model_name": "LayoutModel",
          "state": {
            "_model_module": "@jupyter-widgets/base",
            "_model_module_version": "1.2.0",
            "_model_name": "LayoutModel",
            "_view_count": null,
            "_view_module": "@jupyter-widgets/base",
            "_view_module_version": "1.2.0",
            "_view_name": "LayoutView",
            "align_content": null,
            "align_items": null,
            "align_self": null,
            "border": null,
            "bottom": null,
            "display": null,
            "flex": null,
            "flex_flow": null,
            "grid_area": null,
            "grid_auto_columns": null,
            "grid_auto_flow": null,
            "grid_auto_rows": null,
            "grid_column": null,
            "grid_gap": null,
            "grid_row": null,
            "grid_template_areas": null,
            "grid_template_columns": null,
            "grid_template_rows": null,
            "height": null,
            "justify_content": null,
            "justify_items": null,
            "left": null,
            "margin": null,
            "max_height": null,
            "max_width": null,
            "min_height": null,
            "min_width": null,
            "object_fit": null,
            "object_position": null,
            "order": null,
            "overflow": null,
            "overflow_x": null,
            "overflow_y": null,
            "padding": null,
            "right": null,
            "top": null,
            "visibility": null,
            "width": null
          }
        },
        "17a6490910f44be795d6d74811cf19bb": {
          "model_module": "@jupyter-widgets/controls",
          "model_module_version": "1.5.0",
          "model_name": "ProgressStyleModel",
          "state": {
            "_model_module": "@jupyter-widgets/controls",
            "_model_module_version": "1.5.0",
            "_model_name": "ProgressStyleModel",
            "_view_count": null,
            "_view_module": "@jupyter-widgets/base",
            "_view_module_version": "1.2.0",
            "_view_name": "StyleView",
            "bar_color": null,
            "description_width": ""
          }
        },
        "186e080096d04212adc43b2da85d939d": {
          "model_module": "@jupyter-widgets/base",
          "model_module_version": "1.2.0",
          "model_name": "LayoutModel",
          "state": {
            "_model_module": "@jupyter-widgets/base",
            "_model_module_version": "1.2.0",
            "_model_name": "LayoutModel",
            "_view_count": null,
            "_view_module": "@jupyter-widgets/base",
            "_view_module_version": "1.2.0",
            "_view_name": "LayoutView",
            "align_content": null,
            "align_items": null,
            "align_self": null,
            "border": null,
            "bottom": null,
            "display": null,
            "flex": null,
            "flex_flow": null,
            "grid_area": null,
            "grid_auto_columns": null,
            "grid_auto_flow": null,
            "grid_auto_rows": null,
            "grid_column": null,
            "grid_gap": null,
            "grid_row": null,
            "grid_template_areas": null,
            "grid_template_columns": null,
            "grid_template_rows": null,
            "height": null,
            "justify_content": null,
            "justify_items": null,
            "left": null,
            "margin": null,
            "max_height": null,
            "max_width": null,
            "min_height": null,
            "min_width": null,
            "object_fit": null,
            "object_position": null,
            "order": null,
            "overflow": null,
            "overflow_x": null,
            "overflow_y": null,
            "padding": null,
            "right": null,
            "top": null,
            "visibility": null,
            "width": null
          }
        },
        "1a6fd41085e04304bf42ea562c3a9ebd": {
          "model_module": "@jupyter-widgets/base",
          "model_module_version": "1.2.0",
          "model_name": "LayoutModel",
          "state": {
            "_model_module": "@jupyter-widgets/base",
            "_model_module_version": "1.2.0",
            "_model_name": "LayoutModel",
            "_view_count": null,
            "_view_module": "@jupyter-widgets/base",
            "_view_module_version": "1.2.0",
            "_view_name": "LayoutView",
            "align_content": null,
            "align_items": null,
            "align_self": null,
            "border": null,
            "bottom": null,
            "display": null,
            "flex": null,
            "flex_flow": null,
            "grid_area": null,
            "grid_auto_columns": null,
            "grid_auto_flow": null,
            "grid_auto_rows": null,
            "grid_column": null,
            "grid_gap": null,
            "grid_row": null,
            "grid_template_areas": null,
            "grid_template_columns": null,
            "grid_template_rows": null,
            "height": null,
            "justify_content": null,
            "justify_items": null,
            "left": null,
            "margin": null,
            "max_height": null,
            "max_width": null,
            "min_height": null,
            "min_width": null,
            "object_fit": null,
            "object_position": null,
            "order": null,
            "overflow": null,
            "overflow_x": null,
            "overflow_y": null,
            "padding": null,
            "right": null,
            "top": null,
            "visibility": null,
            "width": null
          }
        },
        "1ae758230f7840e183569ad03209acb8": {
          "model_module": "@jupyter-widgets/base",
          "model_module_version": "1.2.0",
          "model_name": "LayoutModel",
          "state": {
            "_model_module": "@jupyter-widgets/base",
            "_model_module_version": "1.2.0",
            "_model_name": "LayoutModel",
            "_view_count": null,
            "_view_module": "@jupyter-widgets/base",
            "_view_module_version": "1.2.0",
            "_view_name": "LayoutView",
            "align_content": null,
            "align_items": null,
            "align_self": null,
            "border": null,
            "bottom": null,
            "display": null,
            "flex": null,
            "flex_flow": null,
            "grid_area": null,
            "grid_auto_columns": null,
            "grid_auto_flow": null,
            "grid_auto_rows": null,
            "grid_column": null,
            "grid_gap": null,
            "grid_row": null,
            "grid_template_areas": null,
            "grid_template_columns": null,
            "grid_template_rows": null,
            "height": null,
            "justify_content": null,
            "justify_items": null,
            "left": null,
            "margin": null,
            "max_height": null,
            "max_width": null,
            "min_height": null,
            "min_width": null,
            "object_fit": null,
            "object_position": null,
            "order": null,
            "overflow": null,
            "overflow_x": null,
            "overflow_y": null,
            "padding": null,
            "right": null,
            "top": null,
            "visibility": null,
            "width": null
          }
        },
        "1c79c25e446844e99c7e39f10c4213bf": {
          "model_module": "@jupyter-widgets/base",
          "model_module_version": "1.2.0",
          "model_name": "LayoutModel",
          "state": {
            "_model_module": "@jupyter-widgets/base",
            "_model_module_version": "1.2.0",
            "_model_name": "LayoutModel",
            "_view_count": null,
            "_view_module": "@jupyter-widgets/base",
            "_view_module_version": "1.2.0",
            "_view_name": "LayoutView",
            "align_content": null,
            "align_items": null,
            "align_self": null,
            "border": null,
            "bottom": null,
            "display": null,
            "flex": null,
            "flex_flow": null,
            "grid_area": null,
            "grid_auto_columns": null,
            "grid_auto_flow": null,
            "grid_auto_rows": null,
            "grid_column": null,
            "grid_gap": null,
            "grid_row": null,
            "grid_template_areas": null,
            "grid_template_columns": null,
            "grid_template_rows": null,
            "height": null,
            "justify_content": null,
            "justify_items": null,
            "left": null,
            "margin": null,
            "max_height": null,
            "max_width": null,
            "min_height": null,
            "min_width": null,
            "object_fit": null,
            "object_position": null,
            "order": null,
            "overflow": null,
            "overflow_x": null,
            "overflow_y": null,
            "padding": null,
            "right": null,
            "top": null,
            "visibility": null,
            "width": null
          }
        },
        "1e3e25671e2b4eccb240357c083a5747": {
          "model_module": "@jupyter-widgets/base",
          "model_module_version": "1.2.0",
          "model_name": "LayoutModel",
          "state": {
            "_model_module": "@jupyter-widgets/base",
            "_model_module_version": "1.2.0",
            "_model_name": "LayoutModel",
            "_view_count": null,
            "_view_module": "@jupyter-widgets/base",
            "_view_module_version": "1.2.0",
            "_view_name": "LayoutView",
            "align_content": null,
            "align_items": null,
            "align_self": null,
            "border": null,
            "bottom": null,
            "display": null,
            "flex": null,
            "flex_flow": null,
            "grid_area": null,
            "grid_auto_columns": null,
            "grid_auto_flow": null,
            "grid_auto_rows": null,
            "grid_column": null,
            "grid_gap": null,
            "grid_row": null,
            "grid_template_areas": null,
            "grid_template_columns": null,
            "grid_template_rows": null,
            "height": null,
            "justify_content": null,
            "justify_items": null,
            "left": null,
            "margin": null,
            "max_height": null,
            "max_width": null,
            "min_height": null,
            "min_width": null,
            "object_fit": null,
            "object_position": null,
            "order": null,
            "overflow": null,
            "overflow_x": null,
            "overflow_y": null,
            "padding": null,
            "right": null,
            "top": null,
            "visibility": null,
            "width": "20px"
          }
        },
        "1fb12ef5a5914a7c9b6d19dbae91f25f": {
          "model_module": "@jupyter-widgets/base",
          "model_module_version": "1.2.0",
          "model_name": "LayoutModel",
          "state": {
            "_model_module": "@jupyter-widgets/base",
            "_model_module_version": "1.2.0",
            "_model_name": "LayoutModel",
            "_view_count": null,
            "_view_module": "@jupyter-widgets/base",
            "_view_module_version": "1.2.0",
            "_view_name": "LayoutView",
            "align_content": null,
            "align_items": null,
            "align_self": null,
            "border": null,
            "bottom": null,
            "display": null,
            "flex": null,
            "flex_flow": null,
            "grid_area": null,
            "grid_auto_columns": null,
            "grid_auto_flow": null,
            "grid_auto_rows": null,
            "grid_column": null,
            "grid_gap": null,
            "grid_row": null,
            "grid_template_areas": null,
            "grid_template_columns": null,
            "grid_template_rows": null,
            "height": null,
            "justify_content": null,
            "justify_items": null,
            "left": null,
            "margin": null,
            "max_height": null,
            "max_width": null,
            "min_height": null,
            "min_width": null,
            "object_fit": null,
            "object_position": null,
            "order": null,
            "overflow": null,
            "overflow_x": null,
            "overflow_y": null,
            "padding": null,
            "right": null,
            "top": null,
            "visibility": null,
            "width": null
          }
        },
        "2133a6178a624c9694434400ed66fc19": {
          "model_module": "@jupyter-widgets/controls",
          "model_module_version": "1.5.0",
          "model_name": "FloatProgressModel",
          "state": {
            "_dom_classes": [],
            "_model_module": "@jupyter-widgets/controls",
            "_model_module_version": "1.5.0",
            "_model_name": "FloatProgressModel",
            "_view_count": null,
            "_view_module": "@jupyter-widgets/controls",
            "_view_module_version": "1.5.0",
            "_view_name": "ProgressView",
            "bar_style": "success",
            "description": "",
            "description_tooltip": null,
            "layout": "IPY_MODEL_bed24c0038c44ad5804b263f3194b5e5",
            "max": 1,
            "min": 0,
            "orientation": "horizontal",
            "style": "IPY_MODEL_15512c5671d14cd4bc7120908488ded9",
            "value": 1
          }
        },
        "29f404eed656464fb31dcc878f558de5": {
          "model_module": "@jupyter-widgets/controls",
          "model_module_version": "1.5.0",
          "model_name": "HTMLModel",
          "state": {
            "_dom_classes": [],
            "_model_module": "@jupyter-widgets/controls",
            "_model_module_version": "1.5.0",
            "_model_name": "HTMLModel",
            "_view_count": null,
            "_view_module": "@jupyter-widgets/controls",
            "_view_module_version": "1.5.0",
            "_view_name": "HTMLView",
            "description": "",
            "description_tooltip": null,
            "layout": "IPY_MODEL_1118e25fa0304853b5e7c01f0aeab6f9",
            "placeholder": "​",
            "style": "IPY_MODEL_524693fa0e00451b8d41ad266585c61e",
            "value": " 1/1 [00:00&lt;00:00,  1.53 file/s]"
          }
        },
        "2af5f3759a6746aa9929e5e1bdda99c9": {
          "model_module": "@jupyter-widgets/controls",
          "model_module_version": "1.5.0",
          "model_name": "HTMLModel",
          "state": {
            "_dom_classes": [],
            "_model_module": "@jupyter-widgets/controls",
            "_model_module_version": "1.5.0",
            "_model_name": "HTMLModel",
            "_view_count": null,
            "_view_module": "@jupyter-widgets/controls",
            "_view_module_version": "1.5.0",
            "_view_name": "HTMLView",
            "description": "",
            "description_tooltip": null,
            "layout": "IPY_MODEL_969d52c1cb7d46d2bc9153e1af691557",
            "placeholder": "​",
            "style": "IPY_MODEL_d8ab0586d14b4aac9ac1a86e591793fb",
            "value": "Dl Completed...: "
          }
        },
        "2eec9d922f964ff68f4dec7ad115519a": {
          "model_module": "@jupyter-widgets/controls",
          "model_module_version": "1.5.0",
          "model_name": "HTMLModel",
          "state": {
            "_dom_classes": [],
            "_model_module": "@jupyter-widgets/controls",
            "_model_module_version": "1.5.0",
            "_model_name": "HTMLModel",
            "_view_count": null,
            "_view_module": "@jupyter-widgets/controls",
            "_view_module_version": "1.5.0",
            "_view_name": "HTMLView",
            "description": "",
            "description_tooltip": null,
            "layout": "IPY_MODEL_1c79c25e446844e99c7e39f10c4213bf",
            "placeholder": "​",
            "style": "IPY_MODEL_7dcd0686416b4c20b1855b1c9836dfa1",
            "value": "100%"
          }
        },
        "30a4359f40044d82bc22e3df8c3e4b58": {
          "model_module": "@jupyter-widgets/controls",
          "model_module_version": "1.5.0",
          "model_name": "HBoxModel",
          "state": {
            "_dom_classes": [],
            "_model_module": "@jupyter-widgets/controls",
            "_model_module_version": "1.5.0",
            "_model_name": "HBoxModel",
            "_view_count": null,
            "_view_module": "@jupyter-widgets/controls",
            "_view_module_version": "1.5.0",
            "_view_name": "HBoxView",
            "box_style": "",
            "children": [
              "IPY_MODEL_8920990b7f4d45baaf641b5e317a87f7",
              "IPY_MODEL_e7bc6c858bcf4c2b8da786fdbab5e564",
              "IPY_MODEL_7bcb3ef5b8f64b9581f5b79c5b870164"
            ],
            "layout": "IPY_MODEL_9dd7b109dcd44f6ca62649c939d51421"
          }
        },
        "36051b764c334f24bd2d54ae5fead97d": {
          "model_module": "@jupyter-widgets/controls",
          "model_module_version": "1.5.0",
          "model_name": "DescriptionStyleModel",
          "state": {
            "_model_module": "@jupyter-widgets/controls",
            "_model_module_version": "1.5.0",
            "_model_name": "DescriptionStyleModel",
            "_view_count": null,
            "_view_module": "@jupyter-widgets/base",
            "_view_module_version": "1.2.0",
            "_view_name": "StyleView",
            "description_width": ""
          }
        },
        "36b38db449904c72b769fc35d1f1997c": {
          "model_module": "@jupyter-widgets/controls",
          "model_module_version": "1.5.0",
          "model_name": "DescriptionStyleModel",
          "state": {
            "_model_module": "@jupyter-widgets/controls",
            "_model_module_version": "1.5.0",
            "_model_name": "DescriptionStyleModel",
            "_view_count": null,
            "_view_module": "@jupyter-widgets/base",
            "_view_module_version": "1.2.0",
            "_view_name": "StyleView",
            "description_width": ""
          }
        },
        "397f3f4862d840feaf6aa1633f239871": {
          "model_module": "@jupyter-widgets/controls",
          "model_module_version": "1.5.0",
          "model_name": "HBoxModel",
          "state": {
            "_dom_classes": [],
            "_model_module": "@jupyter-widgets/controls",
            "_model_module_version": "1.5.0",
            "_model_name": "HBoxModel",
            "_view_count": null,
            "_view_module": "@jupyter-widgets/controls",
            "_view_module_version": "1.5.0",
            "_view_name": "HBoxView",
            "box_style": "",
            "children": [
              "IPY_MODEL_e884e0478bf640008cd15880040aacb5",
              "IPY_MODEL_eb534bc62ba24f18b4033051b625fa4f",
              "IPY_MODEL_af7b7f889924473ebfd3356138c2dfdd"
            ],
            "layout": "IPY_MODEL_8d61a644b8a74e8a8b9f27fc546a11f5"
          }
        },
        "3a682b9c740a4ce3aef4fa25b294264a": {
          "model_module": "@jupyter-widgets/controls",
          "model_module_version": "1.5.0",
          "model_name": "HTMLModel",
          "state": {
            "_dom_classes": [],
            "_model_module": "@jupyter-widgets/controls",
            "_model_module_version": "1.5.0",
            "_model_name": "HTMLModel",
            "_view_count": null,
            "_view_module": "@jupyter-widgets/controls",
            "_view_module_version": "1.5.0",
            "_view_name": "HTMLView",
            "description": "",
            "description_tooltip": null,
            "layout": "IPY_MODEL_b38de047a5c54a9b99ec3106b12e72b6",
            "placeholder": "​",
            "style": "IPY_MODEL_bc08b75066dc4c55b6ab02262f9b0d82",
            "value": " 0/0 [00:00&lt;?, ? MiB/s]"
          }
        },
        "3eb91aafbcc94575b582b7e2ac2323d0": {
          "model_module": "@jupyter-widgets/controls",
          "model_module_version": "1.5.0",
          "model_name": "ProgressStyleModel",
          "state": {
            "_model_module": "@jupyter-widgets/controls",
            "_model_module_version": "1.5.0",
            "_model_name": "ProgressStyleModel",
            "_view_count": null,
            "_view_module": "@jupyter-widgets/base",
            "_view_module_version": "1.2.0",
            "_view_name": "StyleView",
            "bar_color": null,
            "description_width": ""
          }
        },
        "428ef05e4ad546acbb89d120fa5afb2f": {
          "model_module": "@jupyter-widgets/controls",
          "model_module_version": "1.5.0",
          "model_name": "HBoxModel",
          "state": {
            "_dom_classes": [],
            "_model_module": "@jupyter-widgets/controls",
            "_model_module_version": "1.5.0",
            "_model_name": "HBoxModel",
            "_view_count": null,
            "_view_module": "@jupyter-widgets/controls",
            "_view_module_version": "1.5.0",
            "_view_name": "HBoxView",
            "box_style": "",
            "children": [
              "IPY_MODEL_2eec9d922f964ff68f4dec7ad115519a",
              "IPY_MODEL_edd8f2666d3347ff8960b4e5e84b66be",
              "IPY_MODEL_d03ac40ebd13441083247d6e0d4d36e1"
            ],
            "layout": "IPY_MODEL_07e276cf6aa34db19257c82cde4528d8"
          }
        },
        "4c3a180fdf1f4cc495beb7c3dddf52c1": {
          "model_module": "@jupyter-widgets/controls",
          "model_module_version": "1.5.0",
          "model_name": "HBoxModel",
          "state": {
            "_dom_classes": [],
            "_model_module": "@jupyter-widgets/controls",
            "_model_module_version": "1.5.0",
            "_model_name": "HBoxModel",
            "_view_count": null,
            "_view_module": "@jupyter-widgets/controls",
            "_view_module_version": "1.5.0",
            "_view_name": "HBoxView",
            "box_style": "",
            "children": [
              "IPY_MODEL_c7345eb00ad14e2d9d220a1ca77e3e3d",
              "IPY_MODEL_06b0142c51204d8dba93cb0a277409ef",
              "IPY_MODEL_8d273f7d2fa849ab924956d1edd858aa"
            ],
            "layout": "IPY_MODEL_acbb40856f204e6faf6b75c5f224c5be"
          }
        },
        "4d1d8327afd2400787dca645be6ca78a": {
          "model_module": "@jupyter-widgets/controls",
          "model_module_version": "1.5.0",
          "model_name": "ProgressStyleModel",
          "state": {
            "_model_module": "@jupyter-widgets/controls",
            "_model_module_version": "1.5.0",
            "_model_name": "ProgressStyleModel",
            "_view_count": null,
            "_view_module": "@jupyter-widgets/base",
            "_view_module_version": "1.2.0",
            "_view_name": "StyleView",
            "bar_color": null,
            "description_width": ""
          }
        },
        "4dcacbfe79d84216b4179b1ee55ea745": {
          "model_module": "@jupyter-widgets/controls",
          "model_module_version": "1.5.0",
          "model_name": "FloatProgressModel",
          "state": {
            "_dom_classes": [],
            "_model_module": "@jupyter-widgets/controls",
            "_model_module_version": "1.5.0",
            "_model_name": "FloatProgressModel",
            "_view_count": null,
            "_view_module": "@jupyter-widgets/controls",
            "_view_module_version": "1.5.0",
            "_view_name": "ProgressView",
            "bar_style": "success",
            "description": "",
            "description_tooltip": null,
            "layout": "IPY_MODEL_ae0a38df6a14498988ed0a69f2cbf284",
            "max": 1,
            "min": 0,
            "orientation": "horizontal",
            "style": "IPY_MODEL_c2790a5ffb6b406e8e994e655be7ac4b",
            "value": 0
          }
        },
        "524693fa0e00451b8d41ad266585c61e": {
          "model_module": "@jupyter-widgets/controls",
          "model_module_version": "1.5.0",
          "model_name": "DescriptionStyleModel",
          "state": {
            "_model_module": "@jupyter-widgets/controls",
            "_model_module_version": "1.5.0",
            "_model_name": "DescriptionStyleModel",
            "_view_count": null,
            "_view_module": "@jupyter-widgets/base",
            "_view_module_version": "1.2.0",
            "_view_name": "StyleView",
            "description_width": ""
          }
        },
        "5cdb35089cb7466eaeeb4ef91a8ba46b": {
          "model_module": "@jupyter-widgets/controls",
          "model_module_version": "1.5.0",
          "model_name": "DescriptionStyleModel",
          "state": {
            "_model_module": "@jupyter-widgets/controls",
            "_model_module_version": "1.5.0",
            "_model_name": "DescriptionStyleModel",
            "_view_count": null,
            "_view_module": "@jupyter-widgets/base",
            "_view_module_version": "1.2.0",
            "_view_name": "StyleView",
            "description_width": ""
          }
        },
        "5f5606e02d9b4d5583e14e26fbd345d1": {
          "model_module": "@jupyter-widgets/base",
          "model_module_version": "1.2.0",
          "model_name": "LayoutModel",
          "state": {
            "_model_module": "@jupyter-widgets/base",
            "_model_module_version": "1.2.0",
            "_model_name": "LayoutModel",
            "_view_count": null,
            "_view_module": "@jupyter-widgets/base",
            "_view_module_version": "1.2.0",
            "_view_name": "LayoutView",
            "align_content": null,
            "align_items": null,
            "align_self": null,
            "border": null,
            "bottom": null,
            "display": null,
            "flex": null,
            "flex_flow": null,
            "grid_area": null,
            "grid_auto_columns": null,
            "grid_auto_flow": null,
            "grid_auto_rows": null,
            "grid_column": null,
            "grid_gap": null,
            "grid_row": null,
            "grid_template_areas": null,
            "grid_template_columns": null,
            "grid_template_rows": null,
            "height": null,
            "justify_content": null,
            "justify_items": null,
            "left": null,
            "margin": null,
            "max_height": null,
            "max_width": null,
            "min_height": null,
            "min_width": null,
            "object_fit": null,
            "object_position": null,
            "order": null,
            "overflow": null,
            "overflow_x": null,
            "overflow_y": null,
            "padding": null,
            "right": null,
            "top": null,
            "visibility": null,
            "width": null
          }
        },
        "61691436b21c421dad739ca181004ec7": {
          "model_module": "@jupyter-widgets/base",
          "model_module_version": "1.2.0",
          "model_name": "LayoutModel",
          "state": {
            "_model_module": "@jupyter-widgets/base",
            "_model_module_version": "1.2.0",
            "_model_name": "LayoutModel",
            "_view_count": null,
            "_view_module": "@jupyter-widgets/base",
            "_view_module_version": "1.2.0",
            "_view_name": "LayoutView",
            "align_content": null,
            "align_items": null,
            "align_self": null,
            "border": null,
            "bottom": null,
            "display": null,
            "flex": null,
            "flex_flow": null,
            "grid_area": null,
            "grid_auto_columns": null,
            "grid_auto_flow": null,
            "grid_auto_rows": null,
            "grid_column": null,
            "grid_gap": null,
            "grid_row": null,
            "grid_template_areas": null,
            "grid_template_columns": null,
            "grid_template_rows": null,
            "height": null,
            "justify_content": null,
            "justify_items": null,
            "left": null,
            "margin": null,
            "max_height": null,
            "max_width": null,
            "min_height": null,
            "min_width": null,
            "object_fit": null,
            "object_position": null,
            "order": null,
            "overflow": null,
            "overflow_x": null,
            "overflow_y": null,
            "padding": null,
            "right": null,
            "top": null,
            "visibility": null,
            "width": null
          }
        },
        "6186f0cb53ed4bf9bb7215a8d26c96f8": {
          "model_module": "@jupyter-widgets/controls",
          "model_module_version": "1.5.0",
          "model_name": "ProgressStyleModel",
          "state": {
            "_model_module": "@jupyter-widgets/controls",
            "_model_module_version": "1.5.0",
            "_model_name": "ProgressStyleModel",
            "_view_count": null,
            "_view_module": "@jupyter-widgets/base",
            "_view_module_version": "1.2.0",
            "_view_name": "StyleView",
            "bar_color": null,
            "description_width": ""
          }
        },
        "6b15f9e0d5aa4764875f6d18b7649194": {
          "model_module": "@jupyter-widgets/base",
          "model_module_version": "1.2.0",
          "model_name": "LayoutModel",
          "state": {
            "_model_module": "@jupyter-widgets/base",
            "_model_module_version": "1.2.0",
            "_model_name": "LayoutModel",
            "_view_count": null,
            "_view_module": "@jupyter-widgets/base",
            "_view_module_version": "1.2.0",
            "_view_name": "LayoutView",
            "align_content": null,
            "align_items": null,
            "align_self": null,
            "border": null,
            "bottom": null,
            "display": null,
            "flex": null,
            "flex_flow": null,
            "grid_area": null,
            "grid_auto_columns": null,
            "grid_auto_flow": null,
            "grid_auto_rows": null,
            "grid_column": null,
            "grid_gap": null,
            "grid_row": null,
            "grid_template_areas": null,
            "grid_template_columns": null,
            "grid_template_rows": null,
            "height": null,
            "justify_content": null,
            "justify_items": null,
            "left": null,
            "margin": null,
            "max_height": null,
            "max_width": null,
            "min_height": null,
            "min_width": null,
            "object_fit": null,
            "object_position": null,
            "order": null,
            "overflow": null,
            "overflow_x": null,
            "overflow_y": null,
            "padding": null,
            "right": null,
            "top": null,
            "visibility": null,
            "width": null
          }
        },
        "7bcb3ef5b8f64b9581f5b79c5b870164": {
          "model_module": "@jupyter-widgets/controls",
          "model_module_version": "1.5.0",
          "model_name": "HTMLModel",
          "state": {
            "_dom_classes": [],
            "_model_module": "@jupyter-widgets/controls",
            "_model_module_version": "1.5.0",
            "_model_name": "HTMLModel",
            "_view_count": null,
            "_view_module": "@jupyter-widgets/controls",
            "_view_module_version": "1.5.0",
            "_view_name": "HTMLView",
            "description": "",
            "description_tooltip": null,
            "layout": "IPY_MODEL_1a6fd41085e04304bf42ea562c3a9ebd",
            "placeholder": "​",
            "style": "IPY_MODEL_ec34a295eedd4ceb85e0bf05c9fba60e",
            "value": " 7599/7600 [00:00&lt;00:00, 48631.00 examples/s]"
          }
        },
        "7cff77cb63e045308adb102a60191a7a": {
          "model_module": "@jupyter-widgets/controls",
          "model_module_version": "1.5.0",
          "model_name": "DescriptionStyleModel",
          "state": {
            "_model_module": "@jupyter-widgets/controls",
            "_model_module_version": "1.5.0",
            "_model_name": "DescriptionStyleModel",
            "_view_count": null,
            "_view_module": "@jupyter-widgets/base",
            "_view_module_version": "1.2.0",
            "_view_name": "StyleView",
            "description_width": ""
          }
        },
        "7dcd0686416b4c20b1855b1c9836dfa1": {
          "model_module": "@jupyter-widgets/controls",
          "model_module_version": "1.5.0",
          "model_name": "DescriptionStyleModel",
          "state": {
            "_model_module": "@jupyter-widgets/controls",
            "_model_module_version": "1.5.0",
            "_model_name": "DescriptionStyleModel",
            "_view_count": null,
            "_view_module": "@jupyter-widgets/base",
            "_view_module_version": "1.2.0",
            "_view_name": "StyleView",
            "description_width": ""
          }
        },
        "8920990b7f4d45baaf641b5e317a87f7": {
          "model_module": "@jupyter-widgets/controls",
          "model_module_version": "1.5.0",
          "model_name": "HTMLModel",
          "state": {
            "_dom_classes": [],
            "_model_module": "@jupyter-widgets/controls",
            "_model_module_version": "1.5.0",
            "_model_name": "HTMLModel",
            "_view_count": null,
            "_view_module": "@jupyter-widgets/controls",
            "_view_module_version": "1.5.0",
            "_view_name": "HTMLView",
            "description": "",
            "description_tooltip": null,
            "layout": "IPY_MODEL_ac798f4b079940fc882c579def34b32a",
            "placeholder": "​",
            "style": "IPY_MODEL_e9add222bf4e4b5c831bebda6749ae67",
            "value": "100%"
          }
        },
        "8d273f7d2fa849ab924956d1edd858aa": {
          "model_module": "@jupyter-widgets/controls",
          "model_module_version": "1.5.0",
          "model_name": "HTMLModel",
          "state": {
            "_dom_classes": [],
            "_model_module": "@jupyter-widgets/controls",
            "_model_module_version": "1.5.0",
            "_model_name": "HTMLModel",
            "_view_count": null,
            "_view_module": "@jupyter-widgets/controls",
            "_view_module_version": "1.5.0",
            "_view_name": "HTMLView",
            "description": "",
            "description_tooltip": null,
            "layout": "IPY_MODEL_5f5606e02d9b4d5583e14e26fbd345d1",
            "placeholder": "​",
            "style": "IPY_MODEL_5cdb35089cb7466eaeeb4ef91a8ba46b",
            "value": " 119989/0 [00:35&lt;00:00, 1887.78 examples/s]"
          }
        },
        "8d61a644b8a74e8a8b9f27fc546a11f5": {
          "model_module": "@jupyter-widgets/base",
          "model_module_version": "1.2.0",
          "model_name": "LayoutModel",
          "state": {
            "_model_module": "@jupyter-widgets/base",
            "_model_module_version": "1.2.0",
            "_model_name": "LayoutModel",
            "_view_count": null,
            "_view_module": "@jupyter-widgets/base",
            "_view_module_version": "1.2.0",
            "_view_name": "LayoutView",
            "align_content": null,
            "align_items": null,
            "align_self": null,
            "border": null,
            "bottom": null,
            "display": null,
            "flex": null,
            "flex_flow": null,
            "grid_area": null,
            "grid_auto_columns": null,
            "grid_auto_flow": null,
            "grid_auto_rows": null,
            "grid_column": null,
            "grid_gap": null,
            "grid_row": null,
            "grid_template_areas": null,
            "grid_template_columns": null,
            "grid_template_rows": null,
            "height": null,
            "justify_content": null,
            "justify_items": null,
            "left": null,
            "margin": null,
            "max_height": null,
            "max_width": null,
            "min_height": null,
            "min_width": null,
            "object_fit": null,
            "object_position": null,
            "order": null,
            "overflow": null,
            "overflow_x": null,
            "overflow_y": null,
            "padding": null,
            "right": null,
            "top": null,
            "visibility": null,
            "width": null
          }
        },
        "9123849b2f5b4aa6afbd164d08e74fdc": {
          "model_module": "@jupyter-widgets/base",
          "model_module_version": "1.2.0",
          "model_name": "LayoutModel",
          "state": {
            "_model_module": "@jupyter-widgets/base",
            "_model_module_version": "1.2.0",
            "_model_name": "LayoutModel",
            "_view_count": null,
            "_view_module": "@jupyter-widgets/base",
            "_view_module_version": "1.2.0",
            "_view_name": "LayoutView",
            "align_content": null,
            "align_items": null,
            "align_self": null,
            "border": null,
            "bottom": null,
            "display": null,
            "flex": null,
            "flex_flow": null,
            "grid_area": null,
            "grid_auto_columns": null,
            "grid_auto_flow": null,
            "grid_auto_rows": null,
            "grid_column": null,
            "grid_gap": null,
            "grid_row": null,
            "grid_template_areas": null,
            "grid_template_columns": null,
            "grid_template_rows": null,
            "height": null,
            "justify_content": null,
            "justify_items": null,
            "left": null,
            "margin": null,
            "max_height": null,
            "max_width": null,
            "min_height": null,
            "min_width": null,
            "object_fit": null,
            "object_position": null,
            "order": null,
            "overflow": null,
            "overflow_x": null,
            "overflow_y": null,
            "padding": null,
            "right": null,
            "top": null,
            "visibility": null,
            "width": null
          }
        },
        "953c43e08dc84f61878bfe09c3e3d7f2": {
          "model_module": "@jupyter-widgets/controls",
          "model_module_version": "1.5.0",
          "model_name": "HTMLModel",
          "state": {
            "_dom_classes": [],
            "_model_module": "@jupyter-widgets/controls",
            "_model_module_version": "1.5.0",
            "_model_name": "HTMLModel",
            "_view_count": null,
            "_view_module": "@jupyter-widgets/controls",
            "_view_module_version": "1.5.0",
            "_view_name": "HTMLView",
            "description": "",
            "description_tooltip": null,
            "layout": "IPY_MODEL_1fb12ef5a5914a7c9b6d19dbae91f25f",
            "placeholder": "​",
            "style": "IPY_MODEL_7cff77cb63e045308adb102a60191a7a",
            "value": "Dl Size...: "
          }
        },
        "969d52c1cb7d46d2bc9153e1af691557": {
          "model_module": "@jupyter-widgets/base",
          "model_module_version": "1.2.0",
          "model_name": "LayoutModel",
          "state": {
            "_model_module": "@jupyter-widgets/base",
            "_model_module_version": "1.2.0",
            "_model_name": "LayoutModel",
            "_view_count": null,
            "_view_module": "@jupyter-widgets/base",
            "_view_module_version": "1.2.0",
            "_view_name": "LayoutView",
            "align_content": null,
            "align_items": null,
            "align_self": null,
            "border": null,
            "bottom": null,
            "display": null,
            "flex": null,
            "flex_flow": null,
            "grid_area": null,
            "grid_auto_columns": null,
            "grid_auto_flow": null,
            "grid_auto_rows": null,
            "grid_column": null,
            "grid_gap": null,
            "grid_row": null,
            "grid_template_areas": null,
            "grid_template_columns": null,
            "grid_template_rows": null,
            "height": null,
            "justify_content": null,
            "justify_items": null,
            "left": null,
            "margin": null,
            "max_height": null,
            "max_width": null,
            "min_height": null,
            "min_width": null,
            "object_fit": null,
            "object_position": null,
            "order": null,
            "overflow": null,
            "overflow_x": null,
            "overflow_y": null,
            "padding": null,
            "right": null,
            "top": null,
            "visibility": null,
            "width": null
          }
        },
        "9dd7b109dcd44f6ca62649c939d51421": {
          "model_module": "@jupyter-widgets/base",
          "model_module_version": "1.2.0",
          "model_name": "LayoutModel",
          "state": {
            "_model_module": "@jupyter-widgets/base",
            "_model_module_version": "1.2.0",
            "_model_name": "LayoutModel",
            "_view_count": null,
            "_view_module": "@jupyter-widgets/base",
            "_view_module_version": "1.2.0",
            "_view_name": "LayoutView",
            "align_content": null,
            "align_items": null,
            "align_self": null,
            "border": null,
            "bottom": null,
            "display": null,
            "flex": null,
            "flex_flow": null,
            "grid_area": null,
            "grid_auto_columns": null,
            "grid_auto_flow": null,
            "grid_auto_rows": null,
            "grid_column": null,
            "grid_gap": null,
            "grid_row": null,
            "grid_template_areas": null,
            "grid_template_columns": null,
            "grid_template_rows": null,
            "height": null,
            "justify_content": null,
            "justify_items": null,
            "left": null,
            "margin": null,
            "max_height": null,
            "max_width": null,
            "min_height": null,
            "min_width": null,
            "object_fit": null,
            "object_position": null,
            "order": null,
            "overflow": null,
            "overflow_x": null,
            "overflow_y": null,
            "padding": null,
            "right": null,
            "top": null,
            "visibility": null,
            "width": null
          }
        },
        "ac0edf3eb8c641b5990e7d564e56f735": {
          "model_module": "@jupyter-widgets/controls",
          "model_module_version": "1.5.0",
          "model_name": "DescriptionStyleModel",
          "state": {
            "_model_module": "@jupyter-widgets/controls",
            "_model_module_version": "1.5.0",
            "_model_name": "DescriptionStyleModel",
            "_view_count": null,
            "_view_module": "@jupyter-widgets/base",
            "_view_module_version": "1.2.0",
            "_view_name": "StyleView",
            "description_width": ""
          }
        },
        "ac798f4b079940fc882c579def34b32a": {
          "model_module": "@jupyter-widgets/base",
          "model_module_version": "1.2.0",
          "model_name": "LayoutModel",
          "state": {
            "_model_module": "@jupyter-widgets/base",
            "_model_module_version": "1.2.0",
            "_model_name": "LayoutModel",
            "_view_count": null,
            "_view_module": "@jupyter-widgets/base",
            "_view_module_version": "1.2.0",
            "_view_name": "LayoutView",
            "align_content": null,
            "align_items": null,
            "align_self": null,
            "border": null,
            "bottom": null,
            "display": null,
            "flex": null,
            "flex_flow": null,
            "grid_area": null,
            "grid_auto_columns": null,
            "grid_auto_flow": null,
            "grid_auto_rows": null,
            "grid_column": null,
            "grid_gap": null,
            "grid_row": null,
            "grid_template_areas": null,
            "grid_template_columns": null,
            "grid_template_rows": null,
            "height": null,
            "justify_content": null,
            "justify_items": null,
            "left": null,
            "margin": null,
            "max_height": null,
            "max_width": null,
            "min_height": null,
            "min_width": null,
            "object_fit": null,
            "object_position": null,
            "order": null,
            "overflow": null,
            "overflow_x": null,
            "overflow_y": null,
            "padding": null,
            "right": null,
            "top": null,
            "visibility": null,
            "width": null
          }
        },
        "ac99abc409b84fe499e1b972f5376ea4": {
          "model_module": "@jupyter-widgets/base",
          "model_module_version": "1.2.0",
          "model_name": "LayoutModel",
          "state": {
            "_model_module": "@jupyter-widgets/base",
            "_model_module_version": "1.2.0",
            "_model_name": "LayoutModel",
            "_view_count": null,
            "_view_module": "@jupyter-widgets/base",
            "_view_module_version": "1.2.0",
            "_view_name": "LayoutView",
            "align_content": null,
            "align_items": null,
            "align_self": null,
            "border": null,
            "bottom": null,
            "display": null,
            "flex": null,
            "flex_flow": null,
            "grid_area": null,
            "grid_auto_columns": null,
            "grid_auto_flow": null,
            "grid_auto_rows": null,
            "grid_column": null,
            "grid_gap": null,
            "grid_row": null,
            "grid_template_areas": null,
            "grid_template_columns": null,
            "grid_template_rows": null,
            "height": null,
            "justify_content": null,
            "justify_items": null,
            "left": null,
            "margin": null,
            "max_height": null,
            "max_width": null,
            "min_height": null,
            "min_width": null,
            "object_fit": null,
            "object_position": null,
            "order": null,
            "overflow": null,
            "overflow_x": null,
            "overflow_y": null,
            "padding": null,
            "right": null,
            "top": null,
            "visibility": null,
            "width": null
          }
        },
        "acbb40856f204e6faf6b75c5f224c5be": {
          "model_module": "@jupyter-widgets/base",
          "model_module_version": "1.2.0",
          "model_name": "LayoutModel",
          "state": {
            "_model_module": "@jupyter-widgets/base",
            "_model_module_version": "1.2.0",
            "_model_name": "LayoutModel",
            "_view_count": null,
            "_view_module": "@jupyter-widgets/base",
            "_view_module_version": "1.2.0",
            "_view_name": "LayoutView",
            "align_content": null,
            "align_items": null,
            "align_self": null,
            "border": null,
            "bottom": null,
            "display": null,
            "flex": null,
            "flex_flow": null,
            "grid_area": null,
            "grid_auto_columns": null,
            "grid_auto_flow": null,
            "grid_auto_rows": null,
            "grid_column": null,
            "grid_gap": null,
            "grid_row": null,
            "grid_template_areas": null,
            "grid_template_columns": null,
            "grid_template_rows": null,
            "height": null,
            "justify_content": null,
            "justify_items": null,
            "left": null,
            "margin": null,
            "max_height": null,
            "max_width": null,
            "min_height": null,
            "min_width": null,
            "object_fit": null,
            "object_position": null,
            "order": null,
            "overflow": null,
            "overflow_x": null,
            "overflow_y": null,
            "padding": null,
            "right": null,
            "top": null,
            "visibility": null,
            "width": null
          }
        },
        "ae0a38df6a14498988ed0a69f2cbf284": {
          "model_module": "@jupyter-widgets/base",
          "model_module_version": "1.2.0",
          "model_name": "LayoutModel",
          "state": {
            "_model_module": "@jupyter-widgets/base",
            "_model_module_version": "1.2.0",
            "_model_name": "LayoutModel",
            "_view_count": null,
            "_view_module": "@jupyter-widgets/base",
            "_view_module_version": "1.2.0",
            "_view_name": "LayoutView",
            "align_content": null,
            "align_items": null,
            "align_self": null,
            "border": null,
            "bottom": null,
            "display": null,
            "flex": null,
            "flex_flow": null,
            "grid_area": null,
            "grid_auto_columns": null,
            "grid_auto_flow": null,
            "grid_auto_rows": null,
            "grid_column": null,
            "grid_gap": null,
            "grid_row": null,
            "grid_template_areas": null,
            "grid_template_columns": null,
            "grid_template_rows": null,
            "height": null,
            "justify_content": null,
            "justify_items": null,
            "left": null,
            "margin": null,
            "max_height": null,
            "max_width": null,
            "min_height": null,
            "min_width": null,
            "object_fit": null,
            "object_position": null,
            "order": null,
            "overflow": null,
            "overflow_x": null,
            "overflow_y": null,
            "padding": null,
            "right": null,
            "top": null,
            "visibility": null,
            "width": "20px"
          }
        },
        "af7b7f889924473ebfd3356138c2dfdd": {
          "model_module": "@jupyter-widgets/controls",
          "model_module_version": "1.5.0",
          "model_name": "HTMLModel",
          "state": {
            "_dom_classes": [],
            "_model_module": "@jupyter-widgets/controls",
            "_model_module_version": "1.5.0",
            "_model_name": "HTMLModel",
            "_view_count": null,
            "_view_module": "@jupyter-widgets/controls",
            "_view_module_version": "1.5.0",
            "_view_name": "HTMLView",
            "description": "",
            "description_tooltip": null,
            "layout": "IPY_MODEL_9123849b2f5b4aa6afbd164d08e74fdc",
            "placeholder": "​",
            "style": "IPY_MODEL_f9fa57e792af480b9609e0856b5fd8a8",
            "value": " 7272/0 [00:02&lt;00:00, 3830.13 examples/s]"
          }
        },
        "b38de047a5c54a9b99ec3106b12e72b6": {
          "model_module": "@jupyter-widgets/base",
          "model_module_version": "1.2.0",
          "model_name": "LayoutModel",
          "state": {
            "_model_module": "@jupyter-widgets/base",
            "_model_module_version": "1.2.0",
            "_model_name": "LayoutModel",
            "_view_count": null,
            "_view_module": "@jupyter-widgets/base",
            "_view_module_version": "1.2.0",
            "_view_name": "LayoutView",
            "align_content": null,
            "align_items": null,
            "align_self": null,
            "border": null,
            "bottom": null,
            "display": null,
            "flex": null,
            "flex_flow": null,
            "grid_area": null,
            "grid_auto_columns": null,
            "grid_auto_flow": null,
            "grid_auto_rows": null,
            "grid_column": null,
            "grid_gap": null,
            "grid_row": null,
            "grid_template_areas": null,
            "grid_template_columns": null,
            "grid_template_rows": null,
            "height": null,
            "justify_content": null,
            "justify_items": null,
            "left": null,
            "margin": null,
            "max_height": null,
            "max_width": null,
            "min_height": null,
            "min_width": null,
            "object_fit": null,
            "object_position": null,
            "order": null,
            "overflow": null,
            "overflow_x": null,
            "overflow_y": null,
            "padding": null,
            "right": null,
            "top": null,
            "visibility": null,
            "width": null
          }
        },
        "b52bc2a0357a439fbc6e52ceee65fb6c": {
          "model_module": "@jupyter-widgets/controls",
          "model_module_version": "1.5.0",
          "model_name": "HBoxModel",
          "state": {
            "_dom_classes": [],
            "_model_module": "@jupyter-widgets/controls",
            "_model_module_version": "1.5.0",
            "_model_name": "HBoxModel",
            "_view_count": null,
            "_view_module": "@jupyter-widgets/controls",
            "_view_module_version": "1.5.0",
            "_view_name": "HBoxView",
            "box_style": "",
            "children": [
              "IPY_MODEL_dd9b985be52949f78cda62f54070ef84",
              "IPY_MODEL_2133a6178a624c9694434400ed66fc19",
              "IPY_MODEL_29f404eed656464fb31dcc878f558de5"
            ],
            "layout": "IPY_MODEL_17975eb14d184b08823046ecc93e5f06"
          }
        },
        "bc08b75066dc4c55b6ab02262f9b0d82": {
          "model_module": "@jupyter-widgets/controls",
          "model_module_version": "1.5.0",
          "model_name": "DescriptionStyleModel",
          "state": {
            "_model_module": "@jupyter-widgets/controls",
            "_model_module_version": "1.5.0",
            "_model_name": "DescriptionStyleModel",
            "_view_count": null,
            "_view_module": "@jupyter-widgets/base",
            "_view_module_version": "1.2.0",
            "_view_name": "StyleView",
            "description_width": ""
          }
        },
        "bed24c0038c44ad5804b263f3194b5e5": {
          "model_module": "@jupyter-widgets/base",
          "model_module_version": "1.2.0",
          "model_name": "LayoutModel",
          "state": {
            "_model_module": "@jupyter-widgets/base",
            "_model_module_version": "1.2.0",
            "_model_name": "LayoutModel",
            "_view_count": null,
            "_view_module": "@jupyter-widgets/base",
            "_view_module_version": "1.2.0",
            "_view_name": "LayoutView",
            "align_content": null,
            "align_items": null,
            "align_self": null,
            "border": null,
            "bottom": null,
            "display": null,
            "flex": null,
            "flex_flow": null,
            "grid_area": null,
            "grid_auto_columns": null,
            "grid_auto_flow": null,
            "grid_auto_rows": null,
            "grid_column": null,
            "grid_gap": null,
            "grid_row": null,
            "grid_template_areas": null,
            "grid_template_columns": null,
            "grid_template_rows": null,
            "height": null,
            "justify_content": null,
            "justify_items": null,
            "left": null,
            "margin": null,
            "max_height": null,
            "max_width": null,
            "min_height": null,
            "min_width": null,
            "object_fit": null,
            "object_position": null,
            "order": null,
            "overflow": null,
            "overflow_x": null,
            "overflow_y": null,
            "padding": null,
            "right": null,
            "top": null,
            "visibility": null,
            "width": "20px"
          }
        },
        "bef12a871a2c4a488ef7ccafc1166903": {
          "model_module": "@jupyter-widgets/controls",
          "model_module_version": "1.5.0",
          "model_name": "DescriptionStyleModel",
          "state": {
            "_model_module": "@jupyter-widgets/controls",
            "_model_module_version": "1.5.0",
            "_model_name": "DescriptionStyleModel",
            "_view_count": null,
            "_view_module": "@jupyter-widgets/base",
            "_view_module_version": "1.2.0",
            "_view_name": "StyleView",
            "description_width": ""
          }
        },
        "c23a8765a6564adda2d2c2aa19f1d7bf": {
          "model_module": "@jupyter-widgets/controls",
          "model_module_version": "1.5.0",
          "model_name": "DescriptionStyleModel",
          "state": {
            "_model_module": "@jupyter-widgets/controls",
            "_model_module_version": "1.5.0",
            "_model_name": "DescriptionStyleModel",
            "_view_count": null,
            "_view_module": "@jupyter-widgets/base",
            "_view_module_version": "1.2.0",
            "_view_name": "StyleView",
            "description_width": ""
          }
        },
        "c2790a5ffb6b406e8e994e655be7ac4b": {
          "model_module": "@jupyter-widgets/controls",
          "model_module_version": "1.5.0",
          "model_name": "ProgressStyleModel",
          "state": {
            "_model_module": "@jupyter-widgets/controls",
            "_model_module_version": "1.5.0",
            "_model_name": "ProgressStyleModel",
            "_view_count": null,
            "_view_module": "@jupyter-widgets/base",
            "_view_module_version": "1.2.0",
            "_view_name": "StyleView",
            "bar_color": null,
            "description_width": ""
          }
        },
        "c43bd923f063435ea7db79c3ca7af398": {
          "model_module": "@jupyter-widgets/base",
          "model_module_version": "1.2.0",
          "model_name": "LayoutModel",
          "state": {
            "_model_module": "@jupyter-widgets/base",
            "_model_module_version": "1.2.0",
            "_model_name": "LayoutModel",
            "_view_count": null,
            "_view_module": "@jupyter-widgets/base",
            "_view_module_version": "1.2.0",
            "_view_name": "LayoutView",
            "align_content": null,
            "align_items": null,
            "align_self": null,
            "border": null,
            "bottom": null,
            "display": null,
            "flex": null,
            "flex_flow": null,
            "grid_area": null,
            "grid_auto_columns": null,
            "grid_auto_flow": null,
            "grid_auto_rows": null,
            "grid_column": null,
            "grid_gap": null,
            "grid_row": null,
            "grid_template_areas": null,
            "grid_template_columns": null,
            "grid_template_rows": null,
            "height": null,
            "justify_content": null,
            "justify_items": null,
            "left": null,
            "margin": null,
            "max_height": null,
            "max_width": null,
            "min_height": null,
            "min_width": null,
            "object_fit": null,
            "object_position": null,
            "order": null,
            "overflow": null,
            "overflow_x": null,
            "overflow_y": null,
            "padding": null,
            "right": null,
            "top": null,
            "visibility": null,
            "width": null
          }
        },
        "c7345eb00ad14e2d9d220a1ca77e3e3d": {
          "model_module": "@jupyter-widgets/controls",
          "model_module_version": "1.5.0",
          "model_name": "HTMLModel",
          "state": {
            "_dom_classes": [],
            "_model_module": "@jupyter-widgets/controls",
            "_model_module_version": "1.5.0",
            "_model_name": "HTMLModel",
            "_view_count": null,
            "_view_module": "@jupyter-widgets/controls",
            "_view_module_version": "1.5.0",
            "_view_name": "HTMLView",
            "description": "",
            "description_tooltip": null,
            "layout": "IPY_MODEL_186e080096d04212adc43b2da85d939d",
            "placeholder": "​",
            "style": "IPY_MODEL_36051b764c334f24bd2d54ae5fead97d",
            "value": ""
          }
        },
        "cf33fd093d5a43768d9316ece3ee91a4": {
          "model_module": "@jupyter-widgets/base",
          "model_module_version": "1.2.0",
          "model_name": "LayoutModel",
          "state": {
            "_model_module": "@jupyter-widgets/base",
            "_model_module_version": "1.2.0",
            "_model_name": "LayoutModel",
            "_view_count": null,
            "_view_module": "@jupyter-widgets/base",
            "_view_module_version": "1.2.0",
            "_view_name": "LayoutView",
            "align_content": null,
            "align_items": null,
            "align_self": null,
            "border": null,
            "bottom": null,
            "display": null,
            "flex": null,
            "flex_flow": null,
            "grid_area": null,
            "grid_auto_columns": null,
            "grid_auto_flow": null,
            "grid_auto_rows": null,
            "grid_column": null,
            "grid_gap": null,
            "grid_row": null,
            "grid_template_areas": null,
            "grid_template_columns": null,
            "grid_template_rows": null,
            "height": null,
            "justify_content": null,
            "justify_items": null,
            "left": null,
            "margin": null,
            "max_height": null,
            "max_width": null,
            "min_height": null,
            "min_width": null,
            "object_fit": null,
            "object_position": null,
            "order": null,
            "overflow": null,
            "overflow_x": null,
            "overflow_y": null,
            "padding": null,
            "right": null,
            "top": null,
            "visibility": null,
            "width": "20px"
          }
        },
        "d03ac40ebd13441083247d6e0d4d36e1": {
          "model_module": "@jupyter-widgets/controls",
          "model_module_version": "1.5.0",
          "model_name": "HTMLModel",
          "state": {
            "_dom_classes": [],
            "_model_module": "@jupyter-widgets/controls",
            "_model_module_version": "1.5.0",
            "_model_name": "HTMLModel",
            "_view_count": null,
            "_view_module": "@jupyter-widgets/controls",
            "_view_module_version": "1.5.0",
            "_view_name": "HTMLView",
            "description": "",
            "description_tooltip": null,
            "layout": "IPY_MODEL_f5e27c74dc4b4939ab8a5daab6d70cd1",
            "placeholder": "​",
            "style": "IPY_MODEL_c23a8765a6564adda2d2c2aa19f1d7bf",
            "value": " 119999/120000 [00:01&lt;00:00, 165471.84 examples/s]"
          }
        },
        "d283e4f1e65742c1a7d3f8812f72ab6e": {
          "model_module": "@jupyter-widgets/controls",
          "model_module_version": "1.5.0",
          "model_name": "ProgressStyleModel",
          "state": {
            "_model_module": "@jupyter-widgets/controls",
            "_model_module_version": "1.5.0",
            "_model_name": "ProgressStyleModel",
            "_view_count": null,
            "_view_module": "@jupyter-widgets/base",
            "_view_module_version": "1.2.0",
            "_view_name": "StyleView",
            "bar_color": null,
            "description_width": ""
          }
        },
        "d8ab0586d14b4aac9ac1a86e591793fb": {
          "model_module": "@jupyter-widgets/controls",
          "model_module_version": "1.5.0",
          "model_name": "DescriptionStyleModel",
          "state": {
            "_model_module": "@jupyter-widgets/controls",
            "_model_module_version": "1.5.0",
            "_model_name": "DescriptionStyleModel",
            "_view_count": null,
            "_view_module": "@jupyter-widgets/base",
            "_view_module_version": "1.2.0",
            "_view_name": "StyleView",
            "description_width": ""
          }
        },
        "dd9b985be52949f78cda62f54070ef84": {
          "model_module": "@jupyter-widgets/controls",
          "model_module_version": "1.5.0",
          "model_name": "HTMLModel",
          "state": {
            "_dom_classes": [],
            "_model_module": "@jupyter-widgets/controls",
            "_model_module_version": "1.5.0",
            "_model_name": "HTMLModel",
            "_view_count": null,
            "_view_module": "@jupyter-widgets/controls",
            "_view_module_version": "1.5.0",
            "_view_name": "HTMLView",
            "description": "",
            "description_tooltip": null,
            "layout": "IPY_MODEL_61691436b21c421dad739ca181004ec7",
            "placeholder": "​",
            "style": "IPY_MODEL_36b38db449904c72b769fc35d1f1997c",
            "value": "Extraction completed...: 100%"
          }
        },
        "dec5461f9ba54822b8e3dabc8d5dedf5": {
          "model_module": "@jupyter-widgets/controls",
          "model_module_version": "1.5.0",
          "model_name": "HTMLModel",
          "state": {
            "_dom_classes": [],
            "_model_module": "@jupyter-widgets/controls",
            "_model_module_version": "1.5.0",
            "_model_name": "HTMLModel",
            "_view_count": null,
            "_view_module": "@jupyter-widgets/controls",
            "_view_module_version": "1.5.0",
            "_view_name": "HTMLView",
            "description": "",
            "description_tooltip": null,
            "layout": "IPY_MODEL_ee1580c758794d87836b771037065c0b",
            "placeholder": "​",
            "style": "IPY_MODEL_ac0edf3eb8c641b5990e7d564e56f735",
            "value": " 0/0 [00:00&lt;?, ? url/s]"
          }
        },
        "e7bc6c858bcf4c2b8da786fdbab5e564": {
          "model_module": "@jupyter-widgets/controls",
          "model_module_version": "1.5.0",
          "model_name": "FloatProgressModel",
          "state": {
            "_dom_classes": [],
            "_model_module": "@jupyter-widgets/controls",
            "_model_module_version": "1.5.0",
            "_model_name": "FloatProgressModel",
            "_view_count": null,
            "_view_module": "@jupyter-widgets/controls",
            "_view_module_version": "1.5.0",
            "_view_name": "ProgressView",
            "bar_style": "danger",
            "description": "",
            "description_tooltip": null,
            "layout": "IPY_MODEL_6b15f9e0d5aa4764875f6d18b7649194",
            "max": 7600,
            "min": 0,
            "orientation": "horizontal",
            "style": "IPY_MODEL_6186f0cb53ed4bf9bb7215a8d26c96f8",
            "value": 7599
          }
        },
        "e884e0478bf640008cd15880040aacb5": {
          "model_module": "@jupyter-widgets/controls",
          "model_module_version": "1.5.0",
          "model_name": "HTMLModel",
          "state": {
            "_dom_classes": [],
            "_model_module": "@jupyter-widgets/controls",
            "_model_module_version": "1.5.0",
            "_model_name": "HTMLModel",
            "_view_count": null,
            "_view_module": "@jupyter-widgets/controls",
            "_view_module_version": "1.5.0",
            "_view_name": "HTMLView",
            "description": "",
            "description_tooltip": null,
            "layout": "IPY_MODEL_c43bd923f063435ea7db79c3ca7af398",
            "placeholder": "​",
            "style": "IPY_MODEL_bef12a871a2c4a488ef7ccafc1166903",
            "value": ""
          }
        },
        "e9add222bf4e4b5c831bebda6749ae67": {
          "model_module": "@jupyter-widgets/controls",
          "model_module_version": "1.5.0",
          "model_name": "DescriptionStyleModel",
          "state": {
            "_model_module": "@jupyter-widgets/controls",
            "_model_module_version": "1.5.0",
            "_model_name": "DescriptionStyleModel",
            "_view_count": null,
            "_view_module": "@jupyter-widgets/base",
            "_view_module_version": "1.2.0",
            "_view_name": "StyleView",
            "description_width": ""
          }
        },
        "eb534bc62ba24f18b4033051b625fa4f": {
          "model_module": "@jupyter-widgets/controls",
          "model_module_version": "1.5.0",
          "model_name": "FloatProgressModel",
          "state": {
            "_dom_classes": [],
            "_model_module": "@jupyter-widgets/controls",
            "_model_module_version": "1.5.0",
            "_model_name": "FloatProgressModel",
            "_view_count": null,
            "_view_module": "@jupyter-widgets/controls",
            "_view_module_version": "1.5.0",
            "_view_name": "ProgressView",
            "bar_style": "info",
            "description": "",
            "description_tooltip": null,
            "layout": "IPY_MODEL_cf33fd093d5a43768d9316ece3ee91a4",
            "max": 1,
            "min": 0,
            "orientation": "horizontal",
            "style": "IPY_MODEL_d283e4f1e65742c1a7d3f8812f72ab6e",
            "value": 1
          }
        },
        "ec34a295eedd4ceb85e0bf05c9fba60e": {
          "model_module": "@jupyter-widgets/controls",
          "model_module_version": "1.5.0",
          "model_name": "DescriptionStyleModel",
          "state": {
            "_model_module": "@jupyter-widgets/controls",
            "_model_module_version": "1.5.0",
            "_model_name": "DescriptionStyleModel",
            "_view_count": null,
            "_view_module": "@jupyter-widgets/base",
            "_view_module_version": "1.2.0",
            "_view_name": "StyleView",
            "description_width": ""
          }
        },
        "edd8f2666d3347ff8960b4e5e84b66be": {
          "model_module": "@jupyter-widgets/controls",
          "model_module_version": "1.5.0",
          "model_name": "FloatProgressModel",
          "state": {
            "_dom_classes": [],
            "_model_module": "@jupyter-widgets/controls",
            "_model_module_version": "1.5.0",
            "_model_name": "FloatProgressModel",
            "_view_count": null,
            "_view_module": "@jupyter-widgets/controls",
            "_view_module_version": "1.5.0",
            "_view_name": "ProgressView",
            "bar_style": "danger",
            "description": "",
            "description_tooltip": null,
            "layout": "IPY_MODEL_0c337f5335d248efa277723d42f1c36b",
            "max": 120000,
            "min": 0,
            "orientation": "horizontal",
            "style": "IPY_MODEL_4d1d8327afd2400787dca645be6ca78a",
            "value": 119999
          }
        },
        "ee1580c758794d87836b771037065c0b": {
          "model_module": "@jupyter-widgets/base",
          "model_module_version": "1.2.0",
          "model_name": "LayoutModel",
          "state": {
            "_model_module": "@jupyter-widgets/base",
            "_model_module_version": "1.2.0",
            "_model_name": "LayoutModel",
            "_view_count": null,
            "_view_module": "@jupyter-widgets/base",
            "_view_module_version": "1.2.0",
            "_view_name": "LayoutView",
            "align_content": null,
            "align_items": null,
            "align_self": null,
            "border": null,
            "bottom": null,
            "display": null,
            "flex": null,
            "flex_flow": null,
            "grid_area": null,
            "grid_auto_columns": null,
            "grid_auto_flow": null,
            "grid_auto_rows": null,
            "grid_column": null,
            "grid_gap": null,
            "grid_row": null,
            "grid_template_areas": null,
            "grid_template_columns": null,
            "grid_template_rows": null,
            "height": null,
            "justify_content": null,
            "justify_items": null,
            "left": null,
            "margin": null,
            "max_height": null,
            "max_width": null,
            "min_height": null,
            "min_width": null,
            "object_fit": null,
            "object_position": null,
            "order": null,
            "overflow": null,
            "overflow_x": null,
            "overflow_y": null,
            "padding": null,
            "right": null,
            "top": null,
            "visibility": null,
            "width": null
          }
        },
        "f5e27c74dc4b4939ab8a5daab6d70cd1": {
          "model_module": "@jupyter-widgets/base",
          "model_module_version": "1.2.0",
          "model_name": "LayoutModel",
          "state": {
            "_model_module": "@jupyter-widgets/base",
            "_model_module_version": "1.2.0",
            "_model_name": "LayoutModel",
            "_view_count": null,
            "_view_module": "@jupyter-widgets/base",
            "_view_module_version": "1.2.0",
            "_view_name": "LayoutView",
            "align_content": null,
            "align_items": null,
            "align_self": null,
            "border": null,
            "bottom": null,
            "display": null,
            "flex": null,
            "flex_flow": null,
            "grid_area": null,
            "grid_auto_columns": null,
            "grid_auto_flow": null,
            "grid_auto_rows": null,
            "grid_column": null,
            "grid_gap": null,
            "grid_row": null,
            "grid_template_areas": null,
            "grid_template_columns": null,
            "grid_template_rows": null,
            "height": null,
            "justify_content": null,
            "justify_items": null,
            "left": null,
            "margin": null,
            "max_height": null,
            "max_width": null,
            "min_height": null,
            "min_width": null,
            "object_fit": null,
            "object_position": null,
            "order": null,
            "overflow": null,
            "overflow_x": null,
            "overflow_y": null,
            "padding": null,
            "right": null,
            "top": null,
            "visibility": null,
            "width": null
          }
        },
        "f5f3066b3d3f4ae795bf87a3b3e801dc": {
          "model_module": "@jupyter-widgets/base",
          "model_module_version": "1.2.0",
          "model_name": "LayoutModel",
          "state": {
            "_model_module": "@jupyter-widgets/base",
            "_model_module_version": "1.2.0",
            "_model_name": "LayoutModel",
            "_view_count": null,
            "_view_module": "@jupyter-widgets/base",
            "_view_module_version": "1.2.0",
            "_view_name": "LayoutView",
            "align_content": null,
            "align_items": null,
            "align_self": null,
            "border": null,
            "bottom": null,
            "display": null,
            "flex": null,
            "flex_flow": null,
            "grid_area": null,
            "grid_auto_columns": null,
            "grid_auto_flow": null,
            "grid_auto_rows": null,
            "grid_column": null,
            "grid_gap": null,
            "grid_row": null,
            "grid_template_areas": null,
            "grid_template_columns": null,
            "grid_template_rows": null,
            "height": null,
            "justify_content": null,
            "justify_items": null,
            "left": null,
            "margin": null,
            "max_height": null,
            "max_width": null,
            "min_height": null,
            "min_width": null,
            "object_fit": null,
            "object_position": null,
            "order": null,
            "overflow": null,
            "overflow_x": null,
            "overflow_y": null,
            "padding": null,
            "right": null,
            "top": null,
            "visibility": null,
            "width": "20px"
          }
        },
        "f9fa57e792af480b9609e0856b5fd8a8": {
          "model_module": "@jupyter-widgets/controls",
          "model_module_version": "1.5.0",
          "model_name": "DescriptionStyleModel",
          "state": {
            "_model_module": "@jupyter-widgets/controls",
            "_model_module_version": "1.5.0",
            "_model_name": "DescriptionStyleModel",
            "_view_count": null,
            "_view_module": "@jupyter-widgets/base",
            "_view_module_version": "1.2.0",
            "_view_name": "StyleView",
            "description_width": ""
          }
        }
      }
    }
  },
  "nbformat": 4,
  "nbformat_minor": 0
}