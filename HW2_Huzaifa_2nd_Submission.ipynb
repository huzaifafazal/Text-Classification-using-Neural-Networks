{
  "nbformat": 4,
  "nbformat_minor": 0,
  "metadata": {
    "colab": {
      "name": "HW2_Huzaifa_2nd Submission.ipynb",
      "provenance": [],
      "collapsed_sections": [],
      "toc_visible": true
    },
    "kernelspec": {
      "display_name": "Python 3",
      "name": "python3"
    },
    "widgets": {
      "application/vnd.jupyter.widget-state+json": {
        "149763f39f2f46b085140fc824d66207": {
          "model_module": "@jupyter-widgets/controls",
          "model_name": "HBoxModel",
          "model_module_version": "1.5.0",
          "state": {
            "_dom_classes": [],
            "_model_module": "@jupyter-widgets/controls",
            "_model_module_version": "1.5.0",
            "_model_name": "HBoxModel",
            "_view_count": null,
            "_view_module": "@jupyter-widgets/controls",
            "_view_module_version": "1.5.0",
            "_view_name": "HBoxView",
            "box_style": "",
            "children": [
              "IPY_MODEL_2af5f3759a6746aa9929e5e1bdda99c9",
              "IPY_MODEL_4dcacbfe79d84216b4179b1ee55ea745",
              "IPY_MODEL_dec5461f9ba54822b8e3dabc8d5dedf5"
            ],
            "layout": "IPY_MODEL_1ae758230f7840e183569ad03209acb8"
          }
        },
        "2af5f3759a6746aa9929e5e1bdda99c9": {
          "model_module": "@jupyter-widgets/controls",
          "model_name": "HTMLModel",
          "model_module_version": "1.5.0",
          "state": {
            "_dom_classes": [],
            "_model_module": "@jupyter-widgets/controls",
            "_model_module_version": "1.5.0",
            "_model_name": "HTMLModel",
            "_view_count": null,
            "_view_module": "@jupyter-widgets/controls",
            "_view_module_version": "1.5.0",
            "_view_name": "HTMLView",
            "description": "",
            "description_tooltip": null,
            "layout": "IPY_MODEL_969d52c1cb7d46d2bc9153e1af691557",
            "placeholder": "​",
            "style": "IPY_MODEL_d8ab0586d14b4aac9ac1a86e591793fb",
            "value": "Dl Completed...: "
          }
        },
        "4dcacbfe79d84216b4179b1ee55ea745": {
          "model_module": "@jupyter-widgets/controls",
          "model_name": "FloatProgressModel",
          "model_module_version": "1.5.0",
          "state": {
            "_dom_classes": [],
            "_model_module": "@jupyter-widgets/controls",
            "_model_module_version": "1.5.0",
            "_model_name": "FloatProgressModel",
            "_view_count": null,
            "_view_module": "@jupyter-widgets/controls",
            "_view_module_version": "1.5.0",
            "_view_name": "ProgressView",
            "bar_style": "success",
            "description": "",
            "description_tooltip": null,
            "layout": "IPY_MODEL_ae0a38df6a14498988ed0a69f2cbf284",
            "max": 1,
            "min": 0,
            "orientation": "horizontal",
            "style": "IPY_MODEL_c2790a5ffb6b406e8e994e655be7ac4b",
            "value": 0
          }
        },
        "dec5461f9ba54822b8e3dabc8d5dedf5": {
          "model_module": "@jupyter-widgets/controls",
          "model_name": "HTMLModel",
          "model_module_version": "1.5.0",
          "state": {
            "_dom_classes": [],
            "_model_module": "@jupyter-widgets/controls",
            "_model_module_version": "1.5.0",
            "_model_name": "HTMLModel",
            "_view_count": null,
            "_view_module": "@jupyter-widgets/controls",
            "_view_module_version": "1.5.0",
            "_view_name": "HTMLView",
            "description": "",
            "description_tooltip": null,
            "layout": "IPY_MODEL_ee1580c758794d87836b771037065c0b",
            "placeholder": "​",
            "style": "IPY_MODEL_ac0edf3eb8c641b5990e7d564e56f735",
            "value": " 0/0 [00:00&lt;?, ? url/s]"
          }
        },
        "1ae758230f7840e183569ad03209acb8": {
          "model_module": "@jupyter-widgets/base",
          "model_name": "LayoutModel",
          "model_module_version": "1.2.0",
          "state": {
            "_model_module": "@jupyter-widgets/base",
            "_model_module_version": "1.2.0",
            "_model_name": "LayoutModel",
            "_view_count": null,
            "_view_module": "@jupyter-widgets/base",
            "_view_module_version": "1.2.0",
            "_view_name": "LayoutView",
            "align_content": null,
            "align_items": null,
            "align_self": null,
            "border": null,
            "bottom": null,
            "display": null,
            "flex": null,
            "flex_flow": null,
            "grid_area": null,
            "grid_auto_columns": null,
            "grid_auto_flow": null,
            "grid_auto_rows": null,
            "grid_column": null,
            "grid_gap": null,
            "grid_row": null,
            "grid_template_areas": null,
            "grid_template_columns": null,
            "grid_template_rows": null,
            "height": null,
            "justify_content": null,
            "justify_items": null,
            "left": null,
            "margin": null,
            "max_height": null,
            "max_width": null,
            "min_height": null,
            "min_width": null,
            "object_fit": null,
            "object_position": null,
            "order": null,
            "overflow": null,
            "overflow_x": null,
            "overflow_y": null,
            "padding": null,
            "right": null,
            "top": null,
            "visibility": null,
            "width": null
          }
        },
        "969d52c1cb7d46d2bc9153e1af691557": {
          "model_module": "@jupyter-widgets/base",
          "model_name": "LayoutModel",
          "model_module_version": "1.2.0",
          "state": {
            "_model_module": "@jupyter-widgets/base",
            "_model_module_version": "1.2.0",
            "_model_name": "LayoutModel",
            "_view_count": null,
            "_view_module": "@jupyter-widgets/base",
            "_view_module_version": "1.2.0",
            "_view_name": "LayoutView",
            "align_content": null,
            "align_items": null,
            "align_self": null,
            "border": null,
            "bottom": null,
            "display": null,
            "flex": null,
            "flex_flow": null,
            "grid_area": null,
            "grid_auto_columns": null,
            "grid_auto_flow": null,
            "grid_auto_rows": null,
            "grid_column": null,
            "grid_gap": null,
            "grid_row": null,
            "grid_template_areas": null,
            "grid_template_columns": null,
            "grid_template_rows": null,
            "height": null,
            "justify_content": null,
            "justify_items": null,
            "left": null,
            "margin": null,
            "max_height": null,
            "max_width": null,
            "min_height": null,
            "min_width": null,
            "object_fit": null,
            "object_position": null,
            "order": null,
            "overflow": null,
            "overflow_x": null,
            "overflow_y": null,
            "padding": null,
            "right": null,
            "top": null,
            "visibility": null,
            "width": null
          }
        },
        "d8ab0586d14b4aac9ac1a86e591793fb": {
          "model_module": "@jupyter-widgets/controls",
          "model_name": "DescriptionStyleModel",
          "model_module_version": "1.5.0",
          "state": {
            "_model_module": "@jupyter-widgets/controls",
            "_model_module_version": "1.5.0",
            "_model_name": "DescriptionStyleModel",
            "_view_count": null,
            "_view_module": "@jupyter-widgets/base",
            "_view_module_version": "1.2.0",
            "_view_name": "StyleView",
            "description_width": ""
          }
        },
        "ae0a38df6a14498988ed0a69f2cbf284": {
          "model_module": "@jupyter-widgets/base",
          "model_name": "LayoutModel",
          "model_module_version": "1.2.0",
          "state": {
            "_model_module": "@jupyter-widgets/base",
            "_model_module_version": "1.2.0",
            "_model_name": "LayoutModel",
            "_view_count": null,
            "_view_module": "@jupyter-widgets/base",
            "_view_module_version": "1.2.0",
            "_view_name": "LayoutView",
            "align_content": null,
            "align_items": null,
            "align_self": null,
            "border": null,
            "bottom": null,
            "display": null,
            "flex": null,
            "flex_flow": null,
            "grid_area": null,
            "grid_auto_columns": null,
            "grid_auto_flow": null,
            "grid_auto_rows": null,
            "grid_column": null,
            "grid_gap": null,
            "grid_row": null,
            "grid_template_areas": null,
            "grid_template_columns": null,
            "grid_template_rows": null,
            "height": null,
            "justify_content": null,
            "justify_items": null,
            "left": null,
            "margin": null,
            "max_height": null,
            "max_width": null,
            "min_height": null,
            "min_width": null,
            "object_fit": null,
            "object_position": null,
            "order": null,
            "overflow": null,
            "overflow_x": null,
            "overflow_y": null,
            "padding": null,
            "right": null,
            "top": null,
            "visibility": null,
            "width": "20px"
          }
        },
        "c2790a5ffb6b406e8e994e655be7ac4b": {
          "model_module": "@jupyter-widgets/controls",
          "model_name": "ProgressStyleModel",
          "model_module_version": "1.5.0",
          "state": {
            "_model_module": "@jupyter-widgets/controls",
            "_model_module_version": "1.5.0",
            "_model_name": "ProgressStyleModel",
            "_view_count": null,
            "_view_module": "@jupyter-widgets/base",
            "_view_module_version": "1.2.0",
            "_view_name": "StyleView",
            "bar_color": null,
            "description_width": ""
          }
        },
        "ee1580c758794d87836b771037065c0b": {
          "model_module": "@jupyter-widgets/base",
          "model_name": "LayoutModel",
          "model_module_version": "1.2.0",
          "state": {
            "_model_module": "@jupyter-widgets/base",
            "_model_module_version": "1.2.0",
            "_model_name": "LayoutModel",
            "_view_count": null,
            "_view_module": "@jupyter-widgets/base",
            "_view_module_version": "1.2.0",
            "_view_name": "LayoutView",
            "align_content": null,
            "align_items": null,
            "align_self": null,
            "border": null,
            "bottom": null,
            "display": null,
            "flex": null,
            "flex_flow": null,
            "grid_area": null,
            "grid_auto_columns": null,
            "grid_auto_flow": null,
            "grid_auto_rows": null,
            "grid_column": null,
            "grid_gap": null,
            "grid_row": null,
            "grid_template_areas": null,
            "grid_template_columns": null,
            "grid_template_rows": null,
            "height": null,
            "justify_content": null,
            "justify_items": null,
            "left": null,
            "margin": null,
            "max_height": null,
            "max_width": null,
            "min_height": null,
            "min_width": null,
            "object_fit": null,
            "object_position": null,
            "order": null,
            "overflow": null,
            "overflow_x": null,
            "overflow_y": null,
            "padding": null,
            "right": null,
            "top": null,
            "visibility": null,
            "width": null
          }
        },
        "ac0edf3eb8c641b5990e7d564e56f735": {
          "model_module": "@jupyter-widgets/controls",
          "model_name": "DescriptionStyleModel",
          "model_module_version": "1.5.0",
          "state": {
            "_model_module": "@jupyter-widgets/controls",
            "_model_module_version": "1.5.0",
            "_model_name": "DescriptionStyleModel",
            "_view_count": null,
            "_view_module": "@jupyter-widgets/base",
            "_view_module_version": "1.2.0",
            "_view_name": "StyleView",
            "description_width": ""
          }
        },
        "176afa3af2cf49d0b3ceae33d0d4ce64": {
          "model_module": "@jupyter-widgets/controls",
          "model_name": "HBoxModel",
          "model_module_version": "1.5.0",
          "state": {
            "_dom_classes": [],
            "_model_module": "@jupyter-widgets/controls",
            "_model_module_version": "1.5.0",
            "_model_name": "HBoxModel",
            "_view_count": null,
            "_view_module": "@jupyter-widgets/controls",
            "_view_module_version": "1.5.0",
            "_view_name": "HBoxView",
            "box_style": "",
            "children": [
              "IPY_MODEL_953c43e08dc84f61878bfe09c3e3d7f2",
              "IPY_MODEL_16e9ff0abeae4fa1a6a7577b88ebb525",
              "IPY_MODEL_3a682b9c740a4ce3aef4fa25b294264a"
            ],
            "layout": "IPY_MODEL_ac99abc409b84fe499e1b972f5376ea4"
          }
        },
        "953c43e08dc84f61878bfe09c3e3d7f2": {
          "model_module": "@jupyter-widgets/controls",
          "model_name": "HTMLModel",
          "model_module_version": "1.5.0",
          "state": {
            "_dom_classes": [],
            "_model_module": "@jupyter-widgets/controls",
            "_model_module_version": "1.5.0",
            "_model_name": "HTMLModel",
            "_view_count": null,
            "_view_module": "@jupyter-widgets/controls",
            "_view_module_version": "1.5.0",
            "_view_name": "HTMLView",
            "description": "",
            "description_tooltip": null,
            "layout": "IPY_MODEL_1fb12ef5a5914a7c9b6d19dbae91f25f",
            "placeholder": "​",
            "style": "IPY_MODEL_7cff77cb63e045308adb102a60191a7a",
            "value": "Dl Size...: "
          }
        },
        "16e9ff0abeae4fa1a6a7577b88ebb525": {
          "model_module": "@jupyter-widgets/controls",
          "model_name": "FloatProgressModel",
          "model_module_version": "1.5.0",
          "state": {
            "_dom_classes": [],
            "_model_module": "@jupyter-widgets/controls",
            "_model_module_version": "1.5.0",
            "_model_name": "FloatProgressModel",
            "_view_count": null,
            "_view_module": "@jupyter-widgets/controls",
            "_view_module_version": "1.5.0",
            "_view_name": "ProgressView",
            "bar_style": "success",
            "description": "",
            "description_tooltip": null,
            "layout": "IPY_MODEL_f5f3066b3d3f4ae795bf87a3b3e801dc",
            "max": 1,
            "min": 0,
            "orientation": "horizontal",
            "style": "IPY_MODEL_3eb91aafbcc94575b582b7e2ac2323d0",
            "value": 0
          }
        },
        "3a682b9c740a4ce3aef4fa25b294264a": {
          "model_module": "@jupyter-widgets/controls",
          "model_name": "HTMLModel",
          "model_module_version": "1.5.0",
          "state": {
            "_dom_classes": [],
            "_model_module": "@jupyter-widgets/controls",
            "_model_module_version": "1.5.0",
            "_model_name": "HTMLModel",
            "_view_count": null,
            "_view_module": "@jupyter-widgets/controls",
            "_view_module_version": "1.5.0",
            "_view_name": "HTMLView",
            "description": "",
            "description_tooltip": null,
            "layout": "IPY_MODEL_b38de047a5c54a9b99ec3106b12e72b6",
            "placeholder": "​",
            "style": "IPY_MODEL_bc08b75066dc4c55b6ab02262f9b0d82",
            "value": " 0/0 [00:00&lt;?, ? MiB/s]"
          }
        },
        "ac99abc409b84fe499e1b972f5376ea4": {
          "model_module": "@jupyter-widgets/base",
          "model_name": "LayoutModel",
          "model_module_version": "1.2.0",
          "state": {
            "_model_module": "@jupyter-widgets/base",
            "_model_module_version": "1.2.0",
            "_model_name": "LayoutModel",
            "_view_count": null,
            "_view_module": "@jupyter-widgets/base",
            "_view_module_version": "1.2.0",
            "_view_name": "LayoutView",
            "align_content": null,
            "align_items": null,
            "align_self": null,
            "border": null,
            "bottom": null,
            "display": null,
            "flex": null,
            "flex_flow": null,
            "grid_area": null,
            "grid_auto_columns": null,
            "grid_auto_flow": null,
            "grid_auto_rows": null,
            "grid_column": null,
            "grid_gap": null,
            "grid_row": null,
            "grid_template_areas": null,
            "grid_template_columns": null,
            "grid_template_rows": null,
            "height": null,
            "justify_content": null,
            "justify_items": null,
            "left": null,
            "margin": null,
            "max_height": null,
            "max_width": null,
            "min_height": null,
            "min_width": null,
            "object_fit": null,
            "object_position": null,
            "order": null,
            "overflow": null,
            "overflow_x": null,
            "overflow_y": null,
            "padding": null,
            "right": null,
            "top": null,
            "visibility": null,
            "width": null
          }
        },
        "1fb12ef5a5914a7c9b6d19dbae91f25f": {
          "model_module": "@jupyter-widgets/base",
          "model_name": "LayoutModel",
          "model_module_version": "1.2.0",
          "state": {
            "_model_module": "@jupyter-widgets/base",
            "_model_module_version": "1.2.0",
            "_model_name": "LayoutModel",
            "_view_count": null,
            "_view_module": "@jupyter-widgets/base",
            "_view_module_version": "1.2.0",
            "_view_name": "LayoutView",
            "align_content": null,
            "align_items": null,
            "align_self": null,
            "border": null,
            "bottom": null,
            "display": null,
            "flex": null,
            "flex_flow": null,
            "grid_area": null,
            "grid_auto_columns": null,
            "grid_auto_flow": null,
            "grid_auto_rows": null,
            "grid_column": null,
            "grid_gap": null,
            "grid_row": null,
            "grid_template_areas": null,
            "grid_template_columns": null,
            "grid_template_rows": null,
            "height": null,
            "justify_content": null,
            "justify_items": null,
            "left": null,
            "margin": null,
            "max_height": null,
            "max_width": null,
            "min_height": null,
            "min_width": null,
            "object_fit": null,
            "object_position": null,
            "order": null,
            "overflow": null,
            "overflow_x": null,
            "overflow_y": null,
            "padding": null,
            "right": null,
            "top": null,
            "visibility": null,
            "width": null
          }
        },
        "7cff77cb63e045308adb102a60191a7a": {
          "model_module": "@jupyter-widgets/controls",
          "model_name": "DescriptionStyleModel",
          "model_module_version": "1.5.0",
          "state": {
            "_model_module": "@jupyter-widgets/controls",
            "_model_module_version": "1.5.0",
            "_model_name": "DescriptionStyleModel",
            "_view_count": null,
            "_view_module": "@jupyter-widgets/base",
            "_view_module_version": "1.2.0",
            "_view_name": "StyleView",
            "description_width": ""
          }
        },
        "f5f3066b3d3f4ae795bf87a3b3e801dc": {
          "model_module": "@jupyter-widgets/base",
          "model_name": "LayoutModel",
          "model_module_version": "1.2.0",
          "state": {
            "_model_module": "@jupyter-widgets/base",
            "_model_module_version": "1.2.0",
            "_model_name": "LayoutModel",
            "_view_count": null,
            "_view_module": "@jupyter-widgets/base",
            "_view_module_version": "1.2.0",
            "_view_name": "LayoutView",
            "align_content": null,
            "align_items": null,
            "align_self": null,
            "border": null,
            "bottom": null,
            "display": null,
            "flex": null,
            "flex_flow": null,
            "grid_area": null,
            "grid_auto_columns": null,
            "grid_auto_flow": null,
            "grid_auto_rows": null,
            "grid_column": null,
            "grid_gap": null,
            "grid_row": null,
            "grid_template_areas": null,
            "grid_template_columns": null,
            "grid_template_rows": null,
            "height": null,
            "justify_content": null,
            "justify_items": null,
            "left": null,
            "margin": null,
            "max_height": null,
            "max_width": null,
            "min_height": null,
            "min_width": null,
            "object_fit": null,
            "object_position": null,
            "order": null,
            "overflow": null,
            "overflow_x": null,
            "overflow_y": null,
            "padding": null,
            "right": null,
            "top": null,
            "visibility": null,
            "width": "20px"
          }
        },
        "3eb91aafbcc94575b582b7e2ac2323d0": {
          "model_module": "@jupyter-widgets/controls",
          "model_name": "ProgressStyleModel",
          "model_module_version": "1.5.0",
          "state": {
            "_model_module": "@jupyter-widgets/controls",
            "_model_module_version": "1.5.0",
            "_model_name": "ProgressStyleModel",
            "_view_count": null,
            "_view_module": "@jupyter-widgets/base",
            "_view_module_version": "1.2.0",
            "_view_name": "StyleView",
            "bar_color": null,
            "description_width": ""
          }
        },
        "b38de047a5c54a9b99ec3106b12e72b6": {
          "model_module": "@jupyter-widgets/base",
          "model_name": "LayoutModel",
          "model_module_version": "1.2.0",
          "state": {
            "_model_module": "@jupyter-widgets/base",
            "_model_module_version": "1.2.0",
            "_model_name": "LayoutModel",
            "_view_count": null,
            "_view_module": "@jupyter-widgets/base",
            "_view_module_version": "1.2.0",
            "_view_name": "LayoutView",
            "align_content": null,
            "align_items": null,
            "align_self": null,
            "border": null,
            "bottom": null,
            "display": null,
            "flex": null,
            "flex_flow": null,
            "grid_area": null,
            "grid_auto_columns": null,
            "grid_auto_flow": null,
            "grid_auto_rows": null,
            "grid_column": null,
            "grid_gap": null,
            "grid_row": null,
            "grid_template_areas": null,
            "grid_template_columns": null,
            "grid_template_rows": null,
            "height": null,
            "justify_content": null,
            "justify_items": null,
            "left": null,
            "margin": null,
            "max_height": null,
            "max_width": null,
            "min_height": null,
            "min_width": null,
            "object_fit": null,
            "object_position": null,
            "order": null,
            "overflow": null,
            "overflow_x": null,
            "overflow_y": null,
            "padding": null,
            "right": null,
            "top": null,
            "visibility": null,
            "width": null
          }
        },
        "bc08b75066dc4c55b6ab02262f9b0d82": {
          "model_module": "@jupyter-widgets/controls",
          "model_name": "DescriptionStyleModel",
          "model_module_version": "1.5.0",
          "state": {
            "_model_module": "@jupyter-widgets/controls",
            "_model_module_version": "1.5.0",
            "_model_name": "DescriptionStyleModel",
            "_view_count": null,
            "_view_module": "@jupyter-widgets/base",
            "_view_module_version": "1.2.0",
            "_view_name": "StyleView",
            "description_width": ""
          }
        },
        "b52bc2a0357a439fbc6e52ceee65fb6c": {
          "model_module": "@jupyter-widgets/controls",
          "model_name": "HBoxModel",
          "model_module_version": "1.5.0",
          "state": {
            "_dom_classes": [],
            "_model_module": "@jupyter-widgets/controls",
            "_model_module_version": "1.5.0",
            "_model_name": "HBoxModel",
            "_view_count": null,
            "_view_module": "@jupyter-widgets/controls",
            "_view_module_version": "1.5.0",
            "_view_name": "HBoxView",
            "box_style": "",
            "children": [
              "IPY_MODEL_dd9b985be52949f78cda62f54070ef84",
              "IPY_MODEL_2133a6178a624c9694434400ed66fc19",
              "IPY_MODEL_29f404eed656464fb31dcc878f558de5"
            ],
            "layout": "IPY_MODEL_17975eb14d184b08823046ecc93e5f06"
          }
        },
        "dd9b985be52949f78cda62f54070ef84": {
          "model_module": "@jupyter-widgets/controls",
          "model_name": "HTMLModel",
          "model_module_version": "1.5.0",
          "state": {
            "_dom_classes": [],
            "_model_module": "@jupyter-widgets/controls",
            "_model_module_version": "1.5.0",
            "_model_name": "HTMLModel",
            "_view_count": null,
            "_view_module": "@jupyter-widgets/controls",
            "_view_module_version": "1.5.0",
            "_view_name": "HTMLView",
            "description": "",
            "description_tooltip": null,
            "layout": "IPY_MODEL_61691436b21c421dad739ca181004ec7",
            "placeholder": "​",
            "style": "IPY_MODEL_36b38db449904c72b769fc35d1f1997c",
            "value": "Extraction completed...: 100%"
          }
        },
        "2133a6178a624c9694434400ed66fc19": {
          "model_module": "@jupyter-widgets/controls",
          "model_name": "FloatProgressModel",
          "model_module_version": "1.5.0",
          "state": {
            "_dom_classes": [],
            "_model_module": "@jupyter-widgets/controls",
            "_model_module_version": "1.5.0",
            "_model_name": "FloatProgressModel",
            "_view_count": null,
            "_view_module": "@jupyter-widgets/controls",
            "_view_module_version": "1.5.0",
            "_view_name": "ProgressView",
            "bar_style": "success",
            "description": "",
            "description_tooltip": null,
            "layout": "IPY_MODEL_bed24c0038c44ad5804b263f3194b5e5",
            "max": 1,
            "min": 0,
            "orientation": "horizontal",
            "style": "IPY_MODEL_15512c5671d14cd4bc7120908488ded9",
            "value": 1
          }
        },
        "29f404eed656464fb31dcc878f558de5": {
          "model_module": "@jupyter-widgets/controls",
          "model_name": "HTMLModel",
          "model_module_version": "1.5.0",
          "state": {
            "_dom_classes": [],
            "_model_module": "@jupyter-widgets/controls",
            "_model_module_version": "1.5.0",
            "_model_name": "HTMLModel",
            "_view_count": null,
            "_view_module": "@jupyter-widgets/controls",
            "_view_module_version": "1.5.0",
            "_view_name": "HTMLView",
            "description": "",
            "description_tooltip": null,
            "layout": "IPY_MODEL_1118e25fa0304853b5e7c01f0aeab6f9",
            "placeholder": "​",
            "style": "IPY_MODEL_524693fa0e00451b8d41ad266585c61e",
            "value": " 1/1 [00:00&lt;00:00,  1.53 file/s]"
          }
        },
        "17975eb14d184b08823046ecc93e5f06": {
          "model_module": "@jupyter-widgets/base",
          "model_name": "LayoutModel",
          "model_module_version": "1.2.0",
          "state": {
            "_model_module": "@jupyter-widgets/base",
            "_model_module_version": "1.2.0",
            "_model_name": "LayoutModel",
            "_view_count": null,
            "_view_module": "@jupyter-widgets/base",
            "_view_module_version": "1.2.0",
            "_view_name": "LayoutView",
            "align_content": null,
            "align_items": null,
            "align_self": null,
            "border": null,
            "bottom": null,
            "display": null,
            "flex": null,
            "flex_flow": null,
            "grid_area": null,
            "grid_auto_columns": null,
            "grid_auto_flow": null,
            "grid_auto_rows": null,
            "grid_column": null,
            "grid_gap": null,
            "grid_row": null,
            "grid_template_areas": null,
            "grid_template_columns": null,
            "grid_template_rows": null,
            "height": null,
            "justify_content": null,
            "justify_items": null,
            "left": null,
            "margin": null,
            "max_height": null,
            "max_width": null,
            "min_height": null,
            "min_width": null,
            "object_fit": null,
            "object_position": null,
            "order": null,
            "overflow": null,
            "overflow_x": null,
            "overflow_y": null,
            "padding": null,
            "right": null,
            "top": null,
            "visibility": null,
            "width": null
          }
        },
        "61691436b21c421dad739ca181004ec7": {
          "model_module": "@jupyter-widgets/base",
          "model_name": "LayoutModel",
          "model_module_version": "1.2.0",
          "state": {
            "_model_module": "@jupyter-widgets/base",
            "_model_module_version": "1.2.0",
            "_model_name": "LayoutModel",
            "_view_count": null,
            "_view_module": "@jupyter-widgets/base",
            "_view_module_version": "1.2.0",
            "_view_name": "LayoutView",
            "align_content": null,
            "align_items": null,
            "align_self": null,
            "border": null,
            "bottom": null,
            "display": null,
            "flex": null,
            "flex_flow": null,
            "grid_area": null,
            "grid_auto_columns": null,
            "grid_auto_flow": null,
            "grid_auto_rows": null,
            "grid_column": null,
            "grid_gap": null,
            "grid_row": null,
            "grid_template_areas": null,
            "grid_template_columns": null,
            "grid_template_rows": null,
            "height": null,
            "justify_content": null,
            "justify_items": null,
            "left": null,
            "margin": null,
            "max_height": null,
            "max_width": null,
            "min_height": null,
            "min_width": null,
            "object_fit": null,
            "object_position": null,
            "order": null,
            "overflow": null,
            "overflow_x": null,
            "overflow_y": null,
            "padding": null,
            "right": null,
            "top": null,
            "visibility": null,
            "width": null
          }
        },
        "36b38db449904c72b769fc35d1f1997c": {
          "model_module": "@jupyter-widgets/controls",
          "model_name": "DescriptionStyleModel",
          "model_module_version": "1.5.0",
          "state": {
            "_model_module": "@jupyter-widgets/controls",
            "_model_module_version": "1.5.0",
            "_model_name": "DescriptionStyleModel",
            "_view_count": null,
            "_view_module": "@jupyter-widgets/base",
            "_view_module_version": "1.2.0",
            "_view_name": "StyleView",
            "description_width": ""
          }
        },
        "bed24c0038c44ad5804b263f3194b5e5": {
          "model_module": "@jupyter-widgets/base",
          "model_name": "LayoutModel",
          "model_module_version": "1.2.0",
          "state": {
            "_model_module": "@jupyter-widgets/base",
            "_model_module_version": "1.2.0",
            "_model_name": "LayoutModel",
            "_view_count": null,
            "_view_module": "@jupyter-widgets/base",
            "_view_module_version": "1.2.0",
            "_view_name": "LayoutView",
            "align_content": null,
            "align_items": null,
            "align_self": null,
            "border": null,
            "bottom": null,
            "display": null,
            "flex": null,
            "flex_flow": null,
            "grid_area": null,
            "grid_auto_columns": null,
            "grid_auto_flow": null,
            "grid_auto_rows": null,
            "grid_column": null,
            "grid_gap": null,
            "grid_row": null,
            "grid_template_areas": null,
            "grid_template_columns": null,
            "grid_template_rows": null,
            "height": null,
            "justify_content": null,
            "justify_items": null,
            "left": null,
            "margin": null,
            "max_height": null,
            "max_width": null,
            "min_height": null,
            "min_width": null,
            "object_fit": null,
            "object_position": null,
            "order": null,
            "overflow": null,
            "overflow_x": null,
            "overflow_y": null,
            "padding": null,
            "right": null,
            "top": null,
            "visibility": null,
            "width": "20px"
          }
        },
        "15512c5671d14cd4bc7120908488ded9": {
          "model_module": "@jupyter-widgets/controls",
          "model_name": "ProgressStyleModel",
          "model_module_version": "1.5.0",
          "state": {
            "_model_module": "@jupyter-widgets/controls",
            "_model_module_version": "1.5.0",
            "_model_name": "ProgressStyleModel",
            "_view_count": null,
            "_view_module": "@jupyter-widgets/base",
            "_view_module_version": "1.2.0",
            "_view_name": "StyleView",
            "bar_color": null,
            "description_width": ""
          }
        },
        "1118e25fa0304853b5e7c01f0aeab6f9": {
          "model_module": "@jupyter-widgets/base",
          "model_name": "LayoutModel",
          "model_module_version": "1.2.0",
          "state": {
            "_model_module": "@jupyter-widgets/base",
            "_model_module_version": "1.2.0",
            "_model_name": "LayoutModel",
            "_view_count": null,
            "_view_module": "@jupyter-widgets/base",
            "_view_module_version": "1.2.0",
            "_view_name": "LayoutView",
            "align_content": null,
            "align_items": null,
            "align_self": null,
            "border": null,
            "bottom": null,
            "display": null,
            "flex": null,
            "flex_flow": null,
            "grid_area": null,
            "grid_auto_columns": null,
            "grid_auto_flow": null,
            "grid_auto_rows": null,
            "grid_column": null,
            "grid_gap": null,
            "grid_row": null,
            "grid_template_areas": null,
            "grid_template_columns": null,
            "grid_template_rows": null,
            "height": null,
            "justify_content": null,
            "justify_items": null,
            "left": null,
            "margin": null,
            "max_height": null,
            "max_width": null,
            "min_height": null,
            "min_width": null,
            "object_fit": null,
            "object_position": null,
            "order": null,
            "overflow": null,
            "overflow_x": null,
            "overflow_y": null,
            "padding": null,
            "right": null,
            "top": null,
            "visibility": null,
            "width": null
          }
        },
        "524693fa0e00451b8d41ad266585c61e": {
          "model_module": "@jupyter-widgets/controls",
          "model_name": "DescriptionStyleModel",
          "model_module_version": "1.5.0",
          "state": {
            "_model_module": "@jupyter-widgets/controls",
            "_model_module_version": "1.5.0",
            "_model_name": "DescriptionStyleModel",
            "_view_count": null,
            "_view_module": "@jupyter-widgets/base",
            "_view_module_version": "1.2.0",
            "_view_name": "StyleView",
            "description_width": ""
          }
        },
        "4c3a180fdf1f4cc495beb7c3dddf52c1": {
          "model_module": "@jupyter-widgets/controls",
          "model_name": "HBoxModel",
          "model_module_version": "1.5.0",
          "state": {
            "_dom_classes": [],
            "_model_module": "@jupyter-widgets/controls",
            "_model_module_version": "1.5.0",
            "_model_name": "HBoxModel",
            "_view_count": null,
            "_view_module": "@jupyter-widgets/controls",
            "_view_module_version": "1.5.0",
            "_view_name": "HBoxView",
            "box_style": "",
            "children": [
              "IPY_MODEL_c7345eb00ad14e2d9d220a1ca77e3e3d",
              "IPY_MODEL_06b0142c51204d8dba93cb0a277409ef",
              "IPY_MODEL_8d273f7d2fa849ab924956d1edd858aa"
            ],
            "layout": "IPY_MODEL_acbb40856f204e6faf6b75c5f224c5be"
          }
        },
        "c7345eb00ad14e2d9d220a1ca77e3e3d": {
          "model_module": "@jupyter-widgets/controls",
          "model_name": "HTMLModel",
          "model_module_version": "1.5.0",
          "state": {
            "_dom_classes": [],
            "_model_module": "@jupyter-widgets/controls",
            "_model_module_version": "1.5.0",
            "_model_name": "HTMLModel",
            "_view_count": null,
            "_view_module": "@jupyter-widgets/controls",
            "_view_module_version": "1.5.0",
            "_view_name": "HTMLView",
            "description": "",
            "description_tooltip": null,
            "layout": "IPY_MODEL_186e080096d04212adc43b2da85d939d",
            "placeholder": "​",
            "style": "IPY_MODEL_36051b764c334f24bd2d54ae5fead97d",
            "value": ""
          }
        },
        "06b0142c51204d8dba93cb0a277409ef": {
          "model_module": "@jupyter-widgets/controls",
          "model_name": "FloatProgressModel",
          "model_module_version": "1.5.0",
          "state": {
            "_dom_classes": [],
            "_model_module": "@jupyter-widgets/controls",
            "_model_module_version": "1.5.0",
            "_model_name": "FloatProgressModel",
            "_view_count": null,
            "_view_module": "@jupyter-widgets/controls",
            "_view_module_version": "1.5.0",
            "_view_name": "ProgressView",
            "bar_style": "info",
            "description": "",
            "description_tooltip": null,
            "layout": "IPY_MODEL_1e3e25671e2b4eccb240357c083a5747",
            "max": 1,
            "min": 0,
            "orientation": "horizontal",
            "style": "IPY_MODEL_17a6490910f44be795d6d74811cf19bb",
            "value": 1
          }
        },
        "8d273f7d2fa849ab924956d1edd858aa": {
          "model_module": "@jupyter-widgets/controls",
          "model_name": "HTMLModel",
          "model_module_version": "1.5.0",
          "state": {
            "_dom_classes": [],
            "_model_module": "@jupyter-widgets/controls",
            "_model_module_version": "1.5.0",
            "_model_name": "HTMLModel",
            "_view_count": null,
            "_view_module": "@jupyter-widgets/controls",
            "_view_module_version": "1.5.0",
            "_view_name": "HTMLView",
            "description": "",
            "description_tooltip": null,
            "layout": "IPY_MODEL_5f5606e02d9b4d5583e14e26fbd345d1",
            "placeholder": "​",
            "style": "IPY_MODEL_5cdb35089cb7466eaeeb4ef91a8ba46b",
            "value": " 119989/0 [00:35&lt;00:00, 1887.78 examples/s]"
          }
        },
        "acbb40856f204e6faf6b75c5f224c5be": {
          "model_module": "@jupyter-widgets/base",
          "model_name": "LayoutModel",
          "model_module_version": "1.2.0",
          "state": {
            "_model_module": "@jupyter-widgets/base",
            "_model_module_version": "1.2.0",
            "_model_name": "LayoutModel",
            "_view_count": null,
            "_view_module": "@jupyter-widgets/base",
            "_view_module_version": "1.2.0",
            "_view_name": "LayoutView",
            "align_content": null,
            "align_items": null,
            "align_self": null,
            "border": null,
            "bottom": null,
            "display": null,
            "flex": null,
            "flex_flow": null,
            "grid_area": null,
            "grid_auto_columns": null,
            "grid_auto_flow": null,
            "grid_auto_rows": null,
            "grid_column": null,
            "grid_gap": null,
            "grid_row": null,
            "grid_template_areas": null,
            "grid_template_columns": null,
            "grid_template_rows": null,
            "height": null,
            "justify_content": null,
            "justify_items": null,
            "left": null,
            "margin": null,
            "max_height": null,
            "max_width": null,
            "min_height": null,
            "min_width": null,
            "object_fit": null,
            "object_position": null,
            "order": null,
            "overflow": null,
            "overflow_x": null,
            "overflow_y": null,
            "padding": null,
            "right": null,
            "top": null,
            "visibility": null,
            "width": null
          }
        },
        "186e080096d04212adc43b2da85d939d": {
          "model_module": "@jupyter-widgets/base",
          "model_name": "LayoutModel",
          "model_module_version": "1.2.0",
          "state": {
            "_model_module": "@jupyter-widgets/base",
            "_model_module_version": "1.2.0",
            "_model_name": "LayoutModel",
            "_view_count": null,
            "_view_module": "@jupyter-widgets/base",
            "_view_module_version": "1.2.0",
            "_view_name": "LayoutView",
            "align_content": null,
            "align_items": null,
            "align_self": null,
            "border": null,
            "bottom": null,
            "display": null,
            "flex": null,
            "flex_flow": null,
            "grid_area": null,
            "grid_auto_columns": null,
            "grid_auto_flow": null,
            "grid_auto_rows": null,
            "grid_column": null,
            "grid_gap": null,
            "grid_row": null,
            "grid_template_areas": null,
            "grid_template_columns": null,
            "grid_template_rows": null,
            "height": null,
            "justify_content": null,
            "justify_items": null,
            "left": null,
            "margin": null,
            "max_height": null,
            "max_width": null,
            "min_height": null,
            "min_width": null,
            "object_fit": null,
            "object_position": null,
            "order": null,
            "overflow": null,
            "overflow_x": null,
            "overflow_y": null,
            "padding": null,
            "right": null,
            "top": null,
            "visibility": null,
            "width": null
          }
        },
        "36051b764c334f24bd2d54ae5fead97d": {
          "model_module": "@jupyter-widgets/controls",
          "model_name": "DescriptionStyleModel",
          "model_module_version": "1.5.0",
          "state": {
            "_model_module": "@jupyter-widgets/controls",
            "_model_module_version": "1.5.0",
            "_model_name": "DescriptionStyleModel",
            "_view_count": null,
            "_view_module": "@jupyter-widgets/base",
            "_view_module_version": "1.2.0",
            "_view_name": "StyleView",
            "description_width": ""
          }
        },
        "1e3e25671e2b4eccb240357c083a5747": {
          "model_module": "@jupyter-widgets/base",
          "model_name": "LayoutModel",
          "model_module_version": "1.2.0",
          "state": {
            "_model_module": "@jupyter-widgets/base",
            "_model_module_version": "1.2.0",
            "_model_name": "LayoutModel",
            "_view_count": null,
            "_view_module": "@jupyter-widgets/base",
            "_view_module_version": "1.2.0",
            "_view_name": "LayoutView",
            "align_content": null,
            "align_items": null,
            "align_self": null,
            "border": null,
            "bottom": null,
            "display": null,
            "flex": null,
            "flex_flow": null,
            "grid_area": null,
            "grid_auto_columns": null,
            "grid_auto_flow": null,
            "grid_auto_rows": null,
            "grid_column": null,
            "grid_gap": null,
            "grid_row": null,
            "grid_template_areas": null,
            "grid_template_columns": null,
            "grid_template_rows": null,
            "height": null,
            "justify_content": null,
            "justify_items": null,
            "left": null,
            "margin": null,
            "max_height": null,
            "max_width": null,
            "min_height": null,
            "min_width": null,
            "object_fit": null,
            "object_position": null,
            "order": null,
            "overflow": null,
            "overflow_x": null,
            "overflow_y": null,
            "padding": null,
            "right": null,
            "top": null,
            "visibility": null,
            "width": "20px"
          }
        },
        "17a6490910f44be795d6d74811cf19bb": {
          "model_module": "@jupyter-widgets/controls",
          "model_name": "ProgressStyleModel",
          "model_module_version": "1.5.0",
          "state": {
            "_model_module": "@jupyter-widgets/controls",
            "_model_module_version": "1.5.0",
            "_model_name": "ProgressStyleModel",
            "_view_count": null,
            "_view_module": "@jupyter-widgets/base",
            "_view_module_version": "1.2.0",
            "_view_name": "StyleView",
            "bar_color": null,
            "description_width": ""
          }
        },
        "5f5606e02d9b4d5583e14e26fbd345d1": {
          "model_module": "@jupyter-widgets/base",
          "model_name": "LayoutModel",
          "model_module_version": "1.2.0",
          "state": {
            "_model_module": "@jupyter-widgets/base",
            "_model_module_version": "1.2.0",
            "_model_name": "LayoutModel",
            "_view_count": null,
            "_view_module": "@jupyter-widgets/base",
            "_view_module_version": "1.2.0",
            "_view_name": "LayoutView",
            "align_content": null,
            "align_items": null,
            "align_self": null,
            "border": null,
            "bottom": null,
            "display": null,
            "flex": null,
            "flex_flow": null,
            "grid_area": null,
            "grid_auto_columns": null,
            "grid_auto_flow": null,
            "grid_auto_rows": null,
            "grid_column": null,
            "grid_gap": null,
            "grid_row": null,
            "grid_template_areas": null,
            "grid_template_columns": null,
            "grid_template_rows": null,
            "height": null,
            "justify_content": null,
            "justify_items": null,
            "left": null,
            "margin": null,
            "max_height": null,
            "max_width": null,
            "min_height": null,
            "min_width": null,
            "object_fit": null,
            "object_position": null,
            "order": null,
            "overflow": null,
            "overflow_x": null,
            "overflow_y": null,
            "padding": null,
            "right": null,
            "top": null,
            "visibility": null,
            "width": null
          }
        },
        "5cdb35089cb7466eaeeb4ef91a8ba46b": {
          "model_module": "@jupyter-widgets/controls",
          "model_name": "DescriptionStyleModel",
          "model_module_version": "1.5.0",
          "state": {
            "_model_module": "@jupyter-widgets/controls",
            "_model_module_version": "1.5.0",
            "_model_name": "DescriptionStyleModel",
            "_view_count": null,
            "_view_module": "@jupyter-widgets/base",
            "_view_module_version": "1.2.0",
            "_view_name": "StyleView",
            "description_width": ""
          }
        },
        "428ef05e4ad546acbb89d120fa5afb2f": {
          "model_module": "@jupyter-widgets/controls",
          "model_name": "HBoxModel",
          "model_module_version": "1.5.0",
          "state": {
            "_dom_classes": [],
            "_model_module": "@jupyter-widgets/controls",
            "_model_module_version": "1.5.0",
            "_model_name": "HBoxModel",
            "_view_count": null,
            "_view_module": "@jupyter-widgets/controls",
            "_view_module_version": "1.5.0",
            "_view_name": "HBoxView",
            "box_style": "",
            "children": [
              "IPY_MODEL_2eec9d922f964ff68f4dec7ad115519a",
              "IPY_MODEL_edd8f2666d3347ff8960b4e5e84b66be",
              "IPY_MODEL_d03ac40ebd13441083247d6e0d4d36e1"
            ],
            "layout": "IPY_MODEL_07e276cf6aa34db19257c82cde4528d8"
          }
        },
        "2eec9d922f964ff68f4dec7ad115519a": {
          "model_module": "@jupyter-widgets/controls",
          "model_name": "HTMLModel",
          "model_module_version": "1.5.0",
          "state": {
            "_dom_classes": [],
            "_model_module": "@jupyter-widgets/controls",
            "_model_module_version": "1.5.0",
            "_model_name": "HTMLModel",
            "_view_count": null,
            "_view_module": "@jupyter-widgets/controls",
            "_view_module_version": "1.5.0",
            "_view_name": "HTMLView",
            "description": "",
            "description_tooltip": null,
            "layout": "IPY_MODEL_1c79c25e446844e99c7e39f10c4213bf",
            "placeholder": "​",
            "style": "IPY_MODEL_7dcd0686416b4c20b1855b1c9836dfa1",
            "value": "100%"
          }
        },
        "edd8f2666d3347ff8960b4e5e84b66be": {
          "model_module": "@jupyter-widgets/controls",
          "model_name": "FloatProgressModel",
          "model_module_version": "1.5.0",
          "state": {
            "_dom_classes": [],
            "_model_module": "@jupyter-widgets/controls",
            "_model_module_version": "1.5.0",
            "_model_name": "FloatProgressModel",
            "_view_count": null,
            "_view_module": "@jupyter-widgets/controls",
            "_view_module_version": "1.5.0",
            "_view_name": "ProgressView",
            "bar_style": "danger",
            "description": "",
            "description_tooltip": null,
            "layout": "IPY_MODEL_0c337f5335d248efa277723d42f1c36b",
            "max": 120000,
            "min": 0,
            "orientation": "horizontal",
            "style": "IPY_MODEL_4d1d8327afd2400787dca645be6ca78a",
            "value": 119999
          }
        },
        "d03ac40ebd13441083247d6e0d4d36e1": {
          "model_module": "@jupyter-widgets/controls",
          "model_name": "HTMLModel",
          "model_module_version": "1.5.0",
          "state": {
            "_dom_classes": [],
            "_model_module": "@jupyter-widgets/controls",
            "_model_module_version": "1.5.0",
            "_model_name": "HTMLModel",
            "_view_count": null,
            "_view_module": "@jupyter-widgets/controls",
            "_view_module_version": "1.5.0",
            "_view_name": "HTMLView",
            "description": "",
            "description_tooltip": null,
            "layout": "IPY_MODEL_f5e27c74dc4b4939ab8a5daab6d70cd1",
            "placeholder": "​",
            "style": "IPY_MODEL_c23a8765a6564adda2d2c2aa19f1d7bf",
            "value": " 119999/120000 [00:01&lt;00:00, 165471.84 examples/s]"
          }
        },
        "07e276cf6aa34db19257c82cde4528d8": {
          "model_module": "@jupyter-widgets/base",
          "model_name": "LayoutModel",
          "model_module_version": "1.2.0",
          "state": {
            "_model_module": "@jupyter-widgets/base",
            "_model_module_version": "1.2.0",
            "_model_name": "LayoutModel",
            "_view_count": null,
            "_view_module": "@jupyter-widgets/base",
            "_view_module_version": "1.2.0",
            "_view_name": "LayoutView",
            "align_content": null,
            "align_items": null,
            "align_self": null,
            "border": null,
            "bottom": null,
            "display": null,
            "flex": null,
            "flex_flow": null,
            "grid_area": null,
            "grid_auto_columns": null,
            "grid_auto_flow": null,
            "grid_auto_rows": null,
            "grid_column": null,
            "grid_gap": null,
            "grid_row": null,
            "grid_template_areas": null,
            "grid_template_columns": null,
            "grid_template_rows": null,
            "height": null,
            "justify_content": null,
            "justify_items": null,
            "left": null,
            "margin": null,
            "max_height": null,
            "max_width": null,
            "min_height": null,
            "min_width": null,
            "object_fit": null,
            "object_position": null,
            "order": null,
            "overflow": null,
            "overflow_x": null,
            "overflow_y": null,
            "padding": null,
            "right": null,
            "top": null,
            "visibility": null,
            "width": null
          }
        },
        "1c79c25e446844e99c7e39f10c4213bf": {
          "model_module": "@jupyter-widgets/base",
          "model_name": "LayoutModel",
          "model_module_version": "1.2.0",
          "state": {
            "_model_module": "@jupyter-widgets/base",
            "_model_module_version": "1.2.0",
            "_model_name": "LayoutModel",
            "_view_count": null,
            "_view_module": "@jupyter-widgets/base",
            "_view_module_version": "1.2.0",
            "_view_name": "LayoutView",
            "align_content": null,
            "align_items": null,
            "align_self": null,
            "border": null,
            "bottom": null,
            "display": null,
            "flex": null,
            "flex_flow": null,
            "grid_area": null,
            "grid_auto_columns": null,
            "grid_auto_flow": null,
            "grid_auto_rows": null,
            "grid_column": null,
            "grid_gap": null,
            "grid_row": null,
            "grid_template_areas": null,
            "grid_template_columns": null,
            "grid_template_rows": null,
            "height": null,
            "justify_content": null,
            "justify_items": null,
            "left": null,
            "margin": null,
            "max_height": null,
            "max_width": null,
            "min_height": null,
            "min_width": null,
            "object_fit": null,
            "object_position": null,
            "order": null,
            "overflow": null,
            "overflow_x": null,
            "overflow_y": null,
            "padding": null,
            "right": null,
            "top": null,
            "visibility": null,
            "width": null
          }
        },
        "7dcd0686416b4c20b1855b1c9836dfa1": {
          "model_module": "@jupyter-widgets/controls",
          "model_name": "DescriptionStyleModel",
          "model_module_version": "1.5.0",
          "state": {
            "_model_module": "@jupyter-widgets/controls",
            "_model_module_version": "1.5.0",
            "_model_name": "DescriptionStyleModel",
            "_view_count": null,
            "_view_module": "@jupyter-widgets/base",
            "_view_module_version": "1.2.0",
            "_view_name": "StyleView",
            "description_width": ""
          }
        },
        "0c337f5335d248efa277723d42f1c36b": {
          "model_module": "@jupyter-widgets/base",
          "model_name": "LayoutModel",
          "model_module_version": "1.2.0",
          "state": {
            "_model_module": "@jupyter-widgets/base",
            "_model_module_version": "1.2.0",
            "_model_name": "LayoutModel",
            "_view_count": null,
            "_view_module": "@jupyter-widgets/base",
            "_view_module_version": "1.2.0",
            "_view_name": "LayoutView",
            "align_content": null,
            "align_items": null,
            "align_self": null,
            "border": null,
            "bottom": null,
            "display": null,
            "flex": null,
            "flex_flow": null,
            "grid_area": null,
            "grid_auto_columns": null,
            "grid_auto_flow": null,
            "grid_auto_rows": null,
            "grid_column": null,
            "grid_gap": null,
            "grid_row": null,
            "grid_template_areas": null,
            "grid_template_columns": null,
            "grid_template_rows": null,
            "height": null,
            "justify_content": null,
            "justify_items": null,
            "left": null,
            "margin": null,
            "max_height": null,
            "max_width": null,
            "min_height": null,
            "min_width": null,
            "object_fit": null,
            "object_position": null,
            "order": null,
            "overflow": null,
            "overflow_x": null,
            "overflow_y": null,
            "padding": null,
            "right": null,
            "top": null,
            "visibility": null,
            "width": null
          }
        },
        "4d1d8327afd2400787dca645be6ca78a": {
          "model_module": "@jupyter-widgets/controls",
          "model_name": "ProgressStyleModel",
          "model_module_version": "1.5.0",
          "state": {
            "_model_module": "@jupyter-widgets/controls",
            "_model_module_version": "1.5.0",
            "_model_name": "ProgressStyleModel",
            "_view_count": null,
            "_view_module": "@jupyter-widgets/base",
            "_view_module_version": "1.2.0",
            "_view_name": "StyleView",
            "bar_color": null,
            "description_width": ""
          }
        },
        "f5e27c74dc4b4939ab8a5daab6d70cd1": {
          "model_module": "@jupyter-widgets/base",
          "model_name": "LayoutModel",
          "model_module_version": "1.2.0",
          "state": {
            "_model_module": "@jupyter-widgets/base",
            "_model_module_version": "1.2.0",
            "_model_name": "LayoutModel",
            "_view_count": null,
            "_view_module": "@jupyter-widgets/base",
            "_view_module_version": "1.2.0",
            "_view_name": "LayoutView",
            "align_content": null,
            "align_items": null,
            "align_self": null,
            "border": null,
            "bottom": null,
            "display": null,
            "flex": null,
            "flex_flow": null,
            "grid_area": null,
            "grid_auto_columns": null,
            "grid_auto_flow": null,
            "grid_auto_rows": null,
            "grid_column": null,
            "grid_gap": null,
            "grid_row": null,
            "grid_template_areas": null,
            "grid_template_columns": null,
            "grid_template_rows": null,
            "height": null,
            "justify_content": null,
            "justify_items": null,
            "left": null,
            "margin": null,
            "max_height": null,
            "max_width": null,
            "min_height": null,
            "min_width": null,
            "object_fit": null,
            "object_position": null,
            "order": null,
            "overflow": null,
            "overflow_x": null,
            "overflow_y": null,
            "padding": null,
            "right": null,
            "top": null,
            "visibility": null,
            "width": null
          }
        },
        "c23a8765a6564adda2d2c2aa19f1d7bf": {
          "model_module": "@jupyter-widgets/controls",
          "model_name": "DescriptionStyleModel",
          "model_module_version": "1.5.0",
          "state": {
            "_model_module": "@jupyter-widgets/controls",
            "_model_module_version": "1.5.0",
            "_model_name": "DescriptionStyleModel",
            "_view_count": null,
            "_view_module": "@jupyter-widgets/base",
            "_view_module_version": "1.2.0",
            "_view_name": "StyleView",
            "description_width": ""
          }
        },
        "397f3f4862d840feaf6aa1633f239871": {
          "model_module": "@jupyter-widgets/controls",
          "model_name": "HBoxModel",
          "model_module_version": "1.5.0",
          "state": {
            "_dom_classes": [],
            "_model_module": "@jupyter-widgets/controls",
            "_model_module_version": "1.5.0",
            "_model_name": "HBoxModel",
            "_view_count": null,
            "_view_module": "@jupyter-widgets/controls",
            "_view_module_version": "1.5.0",
            "_view_name": "HBoxView",
            "box_style": "",
            "children": [
              "IPY_MODEL_e884e0478bf640008cd15880040aacb5",
              "IPY_MODEL_eb534bc62ba24f18b4033051b625fa4f",
              "IPY_MODEL_af7b7f889924473ebfd3356138c2dfdd"
            ],
            "layout": "IPY_MODEL_8d61a644b8a74e8a8b9f27fc546a11f5"
          }
        },
        "e884e0478bf640008cd15880040aacb5": {
          "model_module": "@jupyter-widgets/controls",
          "model_name": "HTMLModel",
          "model_module_version": "1.5.0",
          "state": {
            "_dom_classes": [],
            "_model_module": "@jupyter-widgets/controls",
            "_model_module_version": "1.5.0",
            "_model_name": "HTMLModel",
            "_view_count": null,
            "_view_module": "@jupyter-widgets/controls",
            "_view_module_version": "1.5.0",
            "_view_name": "HTMLView",
            "description": "",
            "description_tooltip": null,
            "layout": "IPY_MODEL_c43bd923f063435ea7db79c3ca7af398",
            "placeholder": "​",
            "style": "IPY_MODEL_bef12a871a2c4a488ef7ccafc1166903",
            "value": ""
          }
        },
        "eb534bc62ba24f18b4033051b625fa4f": {
          "model_module": "@jupyter-widgets/controls",
          "model_name": "FloatProgressModel",
          "model_module_version": "1.5.0",
          "state": {
            "_dom_classes": [],
            "_model_module": "@jupyter-widgets/controls",
            "_model_module_version": "1.5.0",
            "_model_name": "FloatProgressModel",
            "_view_count": null,
            "_view_module": "@jupyter-widgets/controls",
            "_view_module_version": "1.5.0",
            "_view_name": "ProgressView",
            "bar_style": "info",
            "description": "",
            "description_tooltip": null,
            "layout": "IPY_MODEL_cf33fd093d5a43768d9316ece3ee91a4",
            "max": 1,
            "min": 0,
            "orientation": "horizontal",
            "style": "IPY_MODEL_d283e4f1e65742c1a7d3f8812f72ab6e",
            "value": 1
          }
        },
        "af7b7f889924473ebfd3356138c2dfdd": {
          "model_module": "@jupyter-widgets/controls",
          "model_name": "HTMLModel",
          "model_module_version": "1.5.0",
          "state": {
            "_dom_classes": [],
            "_model_module": "@jupyter-widgets/controls",
            "_model_module_version": "1.5.0",
            "_model_name": "HTMLModel",
            "_view_count": null,
            "_view_module": "@jupyter-widgets/controls",
            "_view_module_version": "1.5.0",
            "_view_name": "HTMLView",
            "description": "",
            "description_tooltip": null,
            "layout": "IPY_MODEL_9123849b2f5b4aa6afbd164d08e74fdc",
            "placeholder": "​",
            "style": "IPY_MODEL_f9fa57e792af480b9609e0856b5fd8a8",
            "value": " 7272/0 [00:02&lt;00:00, 3830.13 examples/s]"
          }
        },
        "8d61a644b8a74e8a8b9f27fc546a11f5": {
          "model_module": "@jupyter-widgets/base",
          "model_name": "LayoutModel",
          "model_module_version": "1.2.0",
          "state": {
            "_model_module": "@jupyter-widgets/base",
            "_model_module_version": "1.2.0",
            "_model_name": "LayoutModel",
            "_view_count": null,
            "_view_module": "@jupyter-widgets/base",
            "_view_module_version": "1.2.0",
            "_view_name": "LayoutView",
            "align_content": null,
            "align_items": null,
            "align_self": null,
            "border": null,
            "bottom": null,
            "display": null,
            "flex": null,
            "flex_flow": null,
            "grid_area": null,
            "grid_auto_columns": null,
            "grid_auto_flow": null,
            "grid_auto_rows": null,
            "grid_column": null,
            "grid_gap": null,
            "grid_row": null,
            "grid_template_areas": null,
            "grid_template_columns": null,
            "grid_template_rows": null,
            "height": null,
            "justify_content": null,
            "justify_items": null,
            "left": null,
            "margin": null,
            "max_height": null,
            "max_width": null,
            "min_height": null,
            "min_width": null,
            "object_fit": null,
            "object_position": null,
            "order": null,
            "overflow": null,
            "overflow_x": null,
            "overflow_y": null,
            "padding": null,
            "right": null,
            "top": null,
            "visibility": null,
            "width": null
          }
        },
        "c43bd923f063435ea7db79c3ca7af398": {
          "model_module": "@jupyter-widgets/base",
          "model_name": "LayoutModel",
          "model_module_version": "1.2.0",
          "state": {
            "_model_module": "@jupyter-widgets/base",
            "_model_module_version": "1.2.0",
            "_model_name": "LayoutModel",
            "_view_count": null,
            "_view_module": "@jupyter-widgets/base",
            "_view_module_version": "1.2.0",
            "_view_name": "LayoutView",
            "align_content": null,
            "align_items": null,
            "align_self": null,
            "border": null,
            "bottom": null,
            "display": null,
            "flex": null,
            "flex_flow": null,
            "grid_area": null,
            "grid_auto_columns": null,
            "grid_auto_flow": null,
            "grid_auto_rows": null,
            "grid_column": null,
            "grid_gap": null,
            "grid_row": null,
            "grid_template_areas": null,
            "grid_template_columns": null,
            "grid_template_rows": null,
            "height": null,
            "justify_content": null,
            "justify_items": null,
            "left": null,
            "margin": null,
            "max_height": null,
            "max_width": null,
            "min_height": null,
            "min_width": null,
            "object_fit": null,
            "object_position": null,
            "order": null,
            "overflow": null,
            "overflow_x": null,
            "overflow_y": null,
            "padding": null,
            "right": null,
            "top": null,
            "visibility": null,
            "width": null
          }
        },
        "bef12a871a2c4a488ef7ccafc1166903": {
          "model_module": "@jupyter-widgets/controls",
          "model_name": "DescriptionStyleModel",
          "model_module_version": "1.5.0",
          "state": {
            "_model_module": "@jupyter-widgets/controls",
            "_model_module_version": "1.5.0",
            "_model_name": "DescriptionStyleModel",
            "_view_count": null,
            "_view_module": "@jupyter-widgets/base",
            "_view_module_version": "1.2.0",
            "_view_name": "StyleView",
            "description_width": ""
          }
        },
        "cf33fd093d5a43768d9316ece3ee91a4": {
          "model_module": "@jupyter-widgets/base",
          "model_name": "LayoutModel",
          "model_module_version": "1.2.0",
          "state": {
            "_model_module": "@jupyter-widgets/base",
            "_model_module_version": "1.2.0",
            "_model_name": "LayoutModel",
            "_view_count": null,
            "_view_module": "@jupyter-widgets/base",
            "_view_module_version": "1.2.0",
            "_view_name": "LayoutView",
            "align_content": null,
            "align_items": null,
            "align_self": null,
            "border": null,
            "bottom": null,
            "display": null,
            "flex": null,
            "flex_flow": null,
            "grid_area": null,
            "grid_auto_columns": null,
            "grid_auto_flow": null,
            "grid_auto_rows": null,
            "grid_column": null,
            "grid_gap": null,
            "grid_row": null,
            "grid_template_areas": null,
            "grid_template_columns": null,
            "grid_template_rows": null,
            "height": null,
            "justify_content": null,
            "justify_items": null,
            "left": null,
            "margin": null,
            "max_height": null,
            "max_width": null,
            "min_height": null,
            "min_width": null,
            "object_fit": null,
            "object_position": null,
            "order": null,
            "overflow": null,
            "overflow_x": null,
            "overflow_y": null,
            "padding": null,
            "right": null,
            "top": null,
            "visibility": null,
            "width": "20px"
          }
        },
        "d283e4f1e65742c1a7d3f8812f72ab6e": {
          "model_module": "@jupyter-widgets/controls",
          "model_name": "ProgressStyleModel",
          "model_module_version": "1.5.0",
          "state": {
            "_model_module": "@jupyter-widgets/controls",
            "_model_module_version": "1.5.0",
            "_model_name": "ProgressStyleModel",
            "_view_count": null,
            "_view_module": "@jupyter-widgets/base",
            "_view_module_version": "1.2.0",
            "_view_name": "StyleView",
            "bar_color": null,
            "description_width": ""
          }
        },
        "9123849b2f5b4aa6afbd164d08e74fdc": {
          "model_module": "@jupyter-widgets/base",
          "model_name": "LayoutModel",
          "model_module_version": "1.2.0",
          "state": {
            "_model_module": "@jupyter-widgets/base",
            "_model_module_version": "1.2.0",
            "_model_name": "LayoutModel",
            "_view_count": null,
            "_view_module": "@jupyter-widgets/base",
            "_view_module_version": "1.2.0",
            "_view_name": "LayoutView",
            "align_content": null,
            "align_items": null,
            "align_self": null,
            "border": null,
            "bottom": null,
            "display": null,
            "flex": null,
            "flex_flow": null,
            "grid_area": null,
            "grid_auto_columns": null,
            "grid_auto_flow": null,
            "grid_auto_rows": null,
            "grid_column": null,
            "grid_gap": null,
            "grid_row": null,
            "grid_template_areas": null,
            "grid_template_columns": null,
            "grid_template_rows": null,
            "height": null,
            "justify_content": null,
            "justify_items": null,
            "left": null,
            "margin": null,
            "max_height": null,
            "max_width": null,
            "min_height": null,
            "min_width": null,
            "object_fit": null,
            "object_position": null,
            "order": null,
            "overflow": null,
            "overflow_x": null,
            "overflow_y": null,
            "padding": null,
            "right": null,
            "top": null,
            "visibility": null,
            "width": null
          }
        },
        "f9fa57e792af480b9609e0856b5fd8a8": {
          "model_module": "@jupyter-widgets/controls",
          "model_name": "DescriptionStyleModel",
          "model_module_version": "1.5.0",
          "state": {
            "_model_module": "@jupyter-widgets/controls",
            "_model_module_version": "1.5.0",
            "_model_name": "DescriptionStyleModel",
            "_view_count": null,
            "_view_module": "@jupyter-widgets/base",
            "_view_module_version": "1.2.0",
            "_view_name": "StyleView",
            "description_width": ""
          }
        },
        "30a4359f40044d82bc22e3df8c3e4b58": {
          "model_module": "@jupyter-widgets/controls",
          "model_name": "HBoxModel",
          "model_module_version": "1.5.0",
          "state": {
            "_dom_classes": [],
            "_model_module": "@jupyter-widgets/controls",
            "_model_module_version": "1.5.0",
            "_model_name": "HBoxModel",
            "_view_count": null,
            "_view_module": "@jupyter-widgets/controls",
            "_view_module_version": "1.5.0",
            "_view_name": "HBoxView",
            "box_style": "",
            "children": [
              "IPY_MODEL_8920990b7f4d45baaf641b5e317a87f7",
              "IPY_MODEL_e7bc6c858bcf4c2b8da786fdbab5e564",
              "IPY_MODEL_7bcb3ef5b8f64b9581f5b79c5b870164"
            ],
            "layout": "IPY_MODEL_9dd7b109dcd44f6ca62649c939d51421"
          }
        },
        "8920990b7f4d45baaf641b5e317a87f7": {
          "model_module": "@jupyter-widgets/controls",
          "model_name": "HTMLModel",
          "model_module_version": "1.5.0",
          "state": {
            "_dom_classes": [],
            "_model_module": "@jupyter-widgets/controls",
            "_model_module_version": "1.5.0",
            "_model_name": "HTMLModel",
            "_view_count": null,
            "_view_module": "@jupyter-widgets/controls",
            "_view_module_version": "1.5.0",
            "_view_name": "HTMLView",
            "description": "",
            "description_tooltip": null,
            "layout": "IPY_MODEL_ac798f4b079940fc882c579def34b32a",
            "placeholder": "​",
            "style": "IPY_MODEL_e9add222bf4e4b5c831bebda6749ae67",
            "value": "100%"
          }
        },
        "e7bc6c858bcf4c2b8da786fdbab5e564": {
          "model_module": "@jupyter-widgets/controls",
          "model_name": "FloatProgressModel",
          "model_module_version": "1.5.0",
          "state": {
            "_dom_classes": [],
            "_model_module": "@jupyter-widgets/controls",
            "_model_module_version": "1.5.0",
            "_model_name": "FloatProgressModel",
            "_view_count": null,
            "_view_module": "@jupyter-widgets/controls",
            "_view_module_version": "1.5.0",
            "_view_name": "ProgressView",
            "bar_style": "danger",
            "description": "",
            "description_tooltip": null,
            "layout": "IPY_MODEL_6b15f9e0d5aa4764875f6d18b7649194",
            "max": 7600,
            "min": 0,
            "orientation": "horizontal",
            "style": "IPY_MODEL_6186f0cb53ed4bf9bb7215a8d26c96f8",
            "value": 7599
          }
        },
        "7bcb3ef5b8f64b9581f5b79c5b870164": {
          "model_module": "@jupyter-widgets/controls",
          "model_name": "HTMLModel",
          "model_module_version": "1.5.0",
          "state": {
            "_dom_classes": [],
            "_model_module": "@jupyter-widgets/controls",
            "_model_module_version": "1.5.0",
            "_model_name": "HTMLModel",
            "_view_count": null,
            "_view_module": "@jupyter-widgets/controls",
            "_view_module_version": "1.5.0",
            "_view_name": "HTMLView",
            "description": "",
            "description_tooltip": null,
            "layout": "IPY_MODEL_1a6fd41085e04304bf42ea562c3a9ebd",
            "placeholder": "​",
            "style": "IPY_MODEL_ec34a295eedd4ceb85e0bf05c9fba60e",
            "value": " 7599/7600 [00:00&lt;00:00, 48631.00 examples/s]"
          }
        },
        "9dd7b109dcd44f6ca62649c939d51421": {
          "model_module": "@jupyter-widgets/base",
          "model_name": "LayoutModel",
          "model_module_version": "1.2.0",
          "state": {
            "_model_module": "@jupyter-widgets/base",
            "_model_module_version": "1.2.0",
            "_model_name": "LayoutModel",
            "_view_count": null,
            "_view_module": "@jupyter-widgets/base",
            "_view_module_version": "1.2.0",
            "_view_name": "LayoutView",
            "align_content": null,
            "align_items": null,
            "align_self": null,
            "border": null,
            "bottom": null,
            "display": null,
            "flex": null,
            "flex_flow": null,
            "grid_area": null,
            "grid_auto_columns": null,
            "grid_auto_flow": null,
            "grid_auto_rows": null,
            "grid_column": null,
            "grid_gap": null,
            "grid_row": null,
            "grid_template_areas": null,
            "grid_template_columns": null,
            "grid_template_rows": null,
            "height": null,
            "justify_content": null,
            "justify_items": null,
            "left": null,
            "margin": null,
            "max_height": null,
            "max_width": null,
            "min_height": null,
            "min_width": null,
            "object_fit": null,
            "object_position": null,
            "order": null,
            "overflow": null,
            "overflow_x": null,
            "overflow_y": null,
            "padding": null,
            "right": null,
            "top": null,
            "visibility": null,
            "width": null
          }
        },
        "ac798f4b079940fc882c579def34b32a": {
          "model_module": "@jupyter-widgets/base",
          "model_name": "LayoutModel",
          "model_module_version": "1.2.0",
          "state": {
            "_model_module": "@jupyter-widgets/base",
            "_model_module_version": "1.2.0",
            "_model_name": "LayoutModel",
            "_view_count": null,
            "_view_module": "@jupyter-widgets/base",
            "_view_module_version": "1.2.0",
            "_view_name": "LayoutView",
            "align_content": null,
            "align_items": null,
            "align_self": null,
            "border": null,
            "bottom": null,
            "display": null,
            "flex": null,
            "flex_flow": null,
            "grid_area": null,
            "grid_auto_columns": null,
            "grid_auto_flow": null,
            "grid_auto_rows": null,
            "grid_column": null,
            "grid_gap": null,
            "grid_row": null,
            "grid_template_areas": null,
            "grid_template_columns": null,
            "grid_template_rows": null,
            "height": null,
            "justify_content": null,
            "justify_items": null,
            "left": null,
            "margin": null,
            "max_height": null,
            "max_width": null,
            "min_height": null,
            "min_width": null,
            "object_fit": null,
            "object_position": null,
            "order": null,
            "overflow": null,
            "overflow_x": null,
            "overflow_y": null,
            "padding": null,
            "right": null,
            "top": null,
            "visibility": null,
            "width": null
          }
        },
        "e9add222bf4e4b5c831bebda6749ae67": {
          "model_module": "@jupyter-widgets/controls",
          "model_name": "DescriptionStyleModel",
          "model_module_version": "1.5.0",
          "state": {
            "_model_module": "@jupyter-widgets/controls",
            "_model_module_version": "1.5.0",
            "_model_name": "DescriptionStyleModel",
            "_view_count": null,
            "_view_module": "@jupyter-widgets/base",
            "_view_module_version": "1.2.0",
            "_view_name": "StyleView",
            "description_width": ""
          }
        },
        "6b15f9e0d5aa4764875f6d18b7649194": {
          "model_module": "@jupyter-widgets/base",
          "model_name": "LayoutModel",
          "model_module_version": "1.2.0",
          "state": {
            "_model_module": "@jupyter-widgets/base",
            "_model_module_version": "1.2.0",
            "_model_name": "LayoutModel",
            "_view_count": null,
            "_view_module": "@jupyter-widgets/base",
            "_view_module_version": "1.2.0",
            "_view_name": "LayoutView",
            "align_content": null,
            "align_items": null,
            "align_self": null,
            "border": null,
            "bottom": null,
            "display": null,
            "flex": null,
            "flex_flow": null,
            "grid_area": null,
            "grid_auto_columns": null,
            "grid_auto_flow": null,
            "grid_auto_rows": null,
            "grid_column": null,
            "grid_gap": null,
            "grid_row": null,
            "grid_template_areas": null,
            "grid_template_columns": null,
            "grid_template_rows": null,
            "height": null,
            "justify_content": null,
            "justify_items": null,
            "left": null,
            "margin": null,
            "max_height": null,
            "max_width": null,
            "min_height": null,
            "min_width": null,
            "object_fit": null,
            "object_position": null,
            "order": null,
            "overflow": null,
            "overflow_x": null,
            "overflow_y": null,
            "padding": null,
            "right": null,
            "top": null,
            "visibility": null,
            "width": null
          }
        },
        "6186f0cb53ed4bf9bb7215a8d26c96f8": {
          "model_module": "@jupyter-widgets/controls",
          "model_name": "ProgressStyleModel",
          "model_module_version": "1.5.0",
          "state": {
            "_model_module": "@jupyter-widgets/controls",
            "_model_module_version": "1.5.0",
            "_model_name": "ProgressStyleModel",
            "_view_count": null,
            "_view_module": "@jupyter-widgets/base",
            "_view_module_version": "1.2.0",
            "_view_name": "StyleView",
            "bar_color": null,
            "description_width": ""
          }
        },
        "1a6fd41085e04304bf42ea562c3a9ebd": {
          "model_module": "@jupyter-widgets/base",
          "model_name": "LayoutModel",
          "model_module_version": "1.2.0",
          "state": {
            "_model_module": "@jupyter-widgets/base",
            "_model_module_version": "1.2.0",
            "_model_name": "LayoutModel",
            "_view_count": null,
            "_view_module": "@jupyter-widgets/base",
            "_view_module_version": "1.2.0",
            "_view_name": "LayoutView",
            "align_content": null,
            "align_items": null,
            "align_self": null,
            "border": null,
            "bottom": null,
            "display": null,
            "flex": null,
            "flex_flow": null,
            "grid_area": null,
            "grid_auto_columns": null,
            "grid_auto_flow": null,
            "grid_auto_rows": null,
            "grid_column": null,
            "grid_gap": null,
            "grid_row": null,
            "grid_template_areas": null,
            "grid_template_columns": null,
            "grid_template_rows": null,
            "height": null,
            "justify_content": null,
            "justify_items": null,
            "left": null,
            "margin": null,
            "max_height": null,
            "max_width": null,
            "min_height": null,
            "min_width": null,
            "object_fit": null,
            "object_position": null,
            "order": null,
            "overflow": null,
            "overflow_x": null,
            "overflow_y": null,
            "padding": null,
            "right": null,
            "top": null,
            "visibility": null,
            "width": null
          }
        },
        "ec34a295eedd4ceb85e0bf05c9fba60e": {
          "model_module": "@jupyter-widgets/controls",
          "model_name": "DescriptionStyleModel",
          "model_module_version": "1.5.0",
          "state": {
            "_model_module": "@jupyter-widgets/controls",
            "_model_module_version": "1.5.0",
            "_model_name": "DescriptionStyleModel",
            "_view_count": null,
            "_view_module": "@jupyter-widgets/base",
            "_view_module_version": "1.2.0",
            "_view_name": "StyleView",
            "description_width": ""
          }
        }
      }
    }
  },
  "cells": [
    {
      "cell_type": "markdown",
      "source": [
        "#**Deep Learning Homework 2: *Optimize and Train Deep Models***\n",
        "### MSc Computer Science, Data Science, Cybersecurity @UniPD\n",
        "### 2nd semester - 6 ECTS\n",
        "### Prof. Nicolò Navarin & Prof. Alessandro Sperduti\n",
        "---"
      ],
      "metadata": {
        "id": "raUKrVPW0SO1"
      }
    },
    {
      "cell_type": "markdown",
      "metadata": {
        "id": "QUc9frYnVBI_"
      },
      "source": [
        "In this homework, we will explore how to develop a simple Deep Neural Network for a classification problem. We will explore two common libraries: TensorFlow and Keras.\n",
        "Then we will explore how to face a well known problem that is common to encounter during the training phase: the Overfitting.\n",
        "Finally, we will study how to perform a fair model selection.\n",
        "Hint: Before starting the exercise take a look at how Tensorflow and Keras are designed.  https://keras.io/"
      ]
    },
    {
      "cell_type": "markdown",
      "metadata": {
        "id": "e-Nc7mFSVEiU"
      },
      "source": [
        "##Exercise 2.1: Text Classficiation with Tensorflow and Keras\n",
        "\n",
        "In this first exercise we will develop a 3 layers Neural Network to perfrom classification.\n",
        "\n",
        "Let's start importing the libraries we will need and setting a couple of environmental variables.\n"
      ]
    },
    {
      "cell_type": "code",
      "metadata": {
        "id": "bWn9FzneVqJo"
      },
      "source": [
        "import matplotlib as mpl\n",
        "import matplotlib.pyplot as plt\n",
        "import numpy as np\n",
        "import os\n",
        "import pandas as pd\n",
        "import sklearn\n",
        "import sys\n",
        "import tensorflow as tf\n",
        "from tensorflow import keras  # tf.keras\n",
        "import tensorflow_datasets as tfds\n",
        "import time\n",
        "\n",
        "import logging\n",
        "logging.disable(logging.WARNING)\n",
        "os.environ[\"TF_CPP_MIN_LOG_LEVEL\"] = \"3\" \n",
        "\n",
        "tf.random.set_seed(42)\n",
        "# os.environ['TF_DETERMINISTIC_OPS']='1'"
      ],
      "execution_count": 1,
      "outputs": []
    },
    {
      "cell_type": "markdown",
      "metadata": {
        "id": "LT2HMYDEXcx0"
      },
      "source": [
        "### Load Data: AG News Subset\n",
        "\n",
        "In this HW, we use the AG News Subset that is available in Tensorflow Dataset. The AG's news topic classification dataset is constructed by choosing the 4 largest topic classes from a larger news corups. The total number of training samples is 120,000 and testing 7,600. Each class contains 30,000 training samples and 1,900 testing samples. Each sample contains both the title and an excerpt of the article, but in this exercise we will use only the excerpt as input.\n",
        "\n",
        "We will split the training set into two 90%-10% splits in order to have a validation set."
      ]
    },
    {
      "cell_type": "code",
      "source": [
        "### NOTE ### \n",
        "# running this cell might yield download-related errors.\n",
        "# just repeating the execution a couple of times should solve the error.\n",
        "\n",
        "train_ds, valid_ds, test_ds = tfds.load('ag_news_subset',\n",
        "                                        as_supervised=True, # return a set of (text, label) tuples \n",
        "                                        split=['train[:90%]', 'train[-10%:]', 'test'],\n",
        "                                        batch_size=-1)  \n",
        "                                        # ^ using batch_size=-1 returns Tensors instead of Dataset objects"
      ],
      "metadata": {
        "id": "d8xZASzs26zD",
        "colab": {
          "base_uri": "https://localhost:8080/",
          "height": 322,
          "referenced_widgets": [
            "149763f39f2f46b085140fc824d66207",
            "2af5f3759a6746aa9929e5e1bdda99c9",
            "4dcacbfe79d84216b4179b1ee55ea745",
            "dec5461f9ba54822b8e3dabc8d5dedf5",
            "1ae758230f7840e183569ad03209acb8",
            "969d52c1cb7d46d2bc9153e1af691557",
            "d8ab0586d14b4aac9ac1a86e591793fb",
            "ae0a38df6a14498988ed0a69f2cbf284",
            "c2790a5ffb6b406e8e994e655be7ac4b",
            "ee1580c758794d87836b771037065c0b",
            "ac0edf3eb8c641b5990e7d564e56f735",
            "176afa3af2cf49d0b3ceae33d0d4ce64",
            "953c43e08dc84f61878bfe09c3e3d7f2",
            "16e9ff0abeae4fa1a6a7577b88ebb525",
            "3a682b9c740a4ce3aef4fa25b294264a",
            "ac99abc409b84fe499e1b972f5376ea4",
            "1fb12ef5a5914a7c9b6d19dbae91f25f",
            "7cff77cb63e045308adb102a60191a7a",
            "f5f3066b3d3f4ae795bf87a3b3e801dc",
            "3eb91aafbcc94575b582b7e2ac2323d0",
            "b38de047a5c54a9b99ec3106b12e72b6",
            "bc08b75066dc4c55b6ab02262f9b0d82",
            "b52bc2a0357a439fbc6e52ceee65fb6c",
            "dd9b985be52949f78cda62f54070ef84",
            "2133a6178a624c9694434400ed66fc19",
            "29f404eed656464fb31dcc878f558de5",
            "17975eb14d184b08823046ecc93e5f06",
            "61691436b21c421dad739ca181004ec7",
            "36b38db449904c72b769fc35d1f1997c",
            "bed24c0038c44ad5804b263f3194b5e5",
            "15512c5671d14cd4bc7120908488ded9",
            "1118e25fa0304853b5e7c01f0aeab6f9",
            "524693fa0e00451b8d41ad266585c61e",
            "4c3a180fdf1f4cc495beb7c3dddf52c1",
            "c7345eb00ad14e2d9d220a1ca77e3e3d",
            "06b0142c51204d8dba93cb0a277409ef",
            "8d273f7d2fa849ab924956d1edd858aa",
            "acbb40856f204e6faf6b75c5f224c5be",
            "186e080096d04212adc43b2da85d939d",
            "36051b764c334f24bd2d54ae5fead97d",
            "1e3e25671e2b4eccb240357c083a5747",
            "17a6490910f44be795d6d74811cf19bb",
            "5f5606e02d9b4d5583e14e26fbd345d1",
            "5cdb35089cb7466eaeeb4ef91a8ba46b",
            "428ef05e4ad546acbb89d120fa5afb2f",
            "2eec9d922f964ff68f4dec7ad115519a",
            "edd8f2666d3347ff8960b4e5e84b66be",
            "d03ac40ebd13441083247d6e0d4d36e1",
            "07e276cf6aa34db19257c82cde4528d8",
            "1c79c25e446844e99c7e39f10c4213bf",
            "7dcd0686416b4c20b1855b1c9836dfa1",
            "0c337f5335d248efa277723d42f1c36b",
            "4d1d8327afd2400787dca645be6ca78a",
            "f5e27c74dc4b4939ab8a5daab6d70cd1",
            "c23a8765a6564adda2d2c2aa19f1d7bf",
            "397f3f4862d840feaf6aa1633f239871",
            "e884e0478bf640008cd15880040aacb5",
            "eb534bc62ba24f18b4033051b625fa4f",
            "af7b7f889924473ebfd3356138c2dfdd",
            "8d61a644b8a74e8a8b9f27fc546a11f5",
            "c43bd923f063435ea7db79c3ca7af398",
            "bef12a871a2c4a488ef7ccafc1166903",
            "cf33fd093d5a43768d9316ece3ee91a4",
            "d283e4f1e65742c1a7d3f8812f72ab6e",
            "9123849b2f5b4aa6afbd164d08e74fdc",
            "f9fa57e792af480b9609e0856b5fd8a8",
            "30a4359f40044d82bc22e3df8c3e4b58",
            "8920990b7f4d45baaf641b5e317a87f7",
            "e7bc6c858bcf4c2b8da786fdbab5e564",
            "7bcb3ef5b8f64b9581f5b79c5b870164",
            "9dd7b109dcd44f6ca62649c939d51421",
            "ac798f4b079940fc882c579def34b32a",
            "e9add222bf4e4b5c831bebda6749ae67",
            "6b15f9e0d5aa4764875f6d18b7649194",
            "6186f0cb53ed4bf9bb7215a8d26c96f8",
            "1a6fd41085e04304bf42ea562c3a9ebd",
            "ec34a295eedd4ceb85e0bf05c9fba60e"
          ]
        },
        "outputId": "4ad86186-6882-46b5-f7c4-19ac0c870aec"
      },
      "execution_count": 3,
      "outputs": [
        {
          "output_type": "stream",
          "name": "stdout",
          "text": [
            "\u001b[1mDownloading and preparing dataset ag_news_subset/1.0.0 (download: 11.24 MiB, generated: 35.79 MiB, total: 47.03 MiB) to /root/tensorflow_datasets/ag_news_subset/1.0.0...\u001b[0m\n"
          ]
        },
        {
          "output_type": "display_data",
          "data": {
            "text/plain": [
              "Dl Completed...: 0 url [00:00, ? url/s]"
            ],
            "application/vnd.jupyter.widget-view+json": {
              "version_major": 2,
              "version_minor": 0,
              "model_id": "149763f39f2f46b085140fc824d66207"
            }
          },
          "metadata": {}
        },
        {
          "output_type": "display_data",
          "data": {
            "text/plain": [
              "Dl Size...: 0 MiB [00:00, ? MiB/s]"
            ],
            "application/vnd.jupyter.widget-view+json": {
              "version_major": 2,
              "version_minor": 0,
              "model_id": "176afa3af2cf49d0b3ceae33d0d4ce64"
            }
          },
          "metadata": {}
        },
        {
          "output_type": "display_data",
          "data": {
            "text/plain": [
              "Extraction completed...: 0 file [00:00, ? file/s]"
            ],
            "application/vnd.jupyter.widget-view+json": {
              "version_major": 2,
              "version_minor": 0,
              "model_id": "b52bc2a0357a439fbc6e52ceee65fb6c"
            }
          },
          "metadata": {}
        },
        {
          "output_type": "stream",
          "name": "stdout",
          "text": [
            "\n",
            "\n",
            "\n"
          ]
        },
        {
          "output_type": "display_data",
          "data": {
            "text/plain": [
              "0 examples [00:00, ? examples/s]"
            ],
            "application/vnd.jupyter.widget-view+json": {
              "version_major": 2,
              "version_minor": 0,
              "model_id": "4c3a180fdf1f4cc495beb7c3dddf52c1"
            }
          },
          "metadata": {}
        },
        {
          "output_type": "stream",
          "name": "stdout",
          "text": [
            "Shuffling and writing examples to /root/tensorflow_datasets/ag_news_subset/1.0.0.incomplete36IZYD/ag_news_subset-train.tfrecord\n"
          ]
        },
        {
          "output_type": "display_data",
          "data": {
            "text/plain": [
              "  0%|          | 0/120000 [00:00<?, ? examples/s]"
            ],
            "application/vnd.jupyter.widget-view+json": {
              "version_major": 2,
              "version_minor": 0,
              "model_id": "428ef05e4ad546acbb89d120fa5afb2f"
            }
          },
          "metadata": {}
        },
        {
          "output_type": "display_data",
          "data": {
            "text/plain": [
              "0 examples [00:00, ? examples/s]"
            ],
            "application/vnd.jupyter.widget-view+json": {
              "version_major": 2,
              "version_minor": 0,
              "model_id": "397f3f4862d840feaf6aa1633f239871"
            }
          },
          "metadata": {}
        },
        {
          "output_type": "stream",
          "name": "stdout",
          "text": [
            "Shuffling and writing examples to /root/tensorflow_datasets/ag_news_subset/1.0.0.incomplete36IZYD/ag_news_subset-test.tfrecord\n"
          ]
        },
        {
          "output_type": "display_data",
          "data": {
            "text/plain": [
              "  0%|          | 0/7600 [00:00<?, ? examples/s]"
            ],
            "application/vnd.jupyter.widget-view+json": {
              "version_major": 2,
              "version_minor": 0,
              "model_id": "30a4359f40044d82bc22e3df8c3e4b58"
            }
          },
          "metadata": {}
        },
        {
          "output_type": "stream",
          "name": "stdout",
          "text": [
            "\u001b[1mDataset ag_news_subset downloaded and prepared to /root/tensorflow_datasets/ag_news_subset/1.0.0. Subsequent calls will reuse this data.\u001b[0m\n"
          ]
        }
      ]
    },
    {
      "cell_type": "code",
      "source": [
        "# Tensors have two elements, data and labels; let's split them\n",
        "# so we can transform the data\n",
        "X_train, y_train = train_ds\n",
        "X_valid, y_valid = valid_ds\n",
        "X_test, y_test = test_ds"
      ],
      "metadata": {
        "id": "BYkXCTv3NrvC"
      },
      "execution_count": 4,
      "outputs": []
    },
    {
      "cell_type": "markdown",
      "source": [
        "The AG News Subset dataset consists in news articles, each one composed by a sequence of words. In order to encode each article in a single tensor with a fixed number of elements, we will use multi-hot encoding. For testing purposes, we will only consider the first 10,000  most common words. Multi-hot-encoding our lists means turning them into vectors of 0s and 1s. Concretely, this would mean for instance turning the sequence [3, 5] into a 10,000-dimensional vector that would be all-zeros except for indices 3 and 5, which would be ones. The obtained input representation indicates which words are present (at least one time) in the sentence."
      ],
      "metadata": {
        "id": "8prUBtqq8JW7"
      }
    },
    {
      "cell_type": "code",
      "source": [
        "num_words = 1000\n",
        "vectorize_layer = tf.keras.layers.TextVectorization(\n",
        " max_tokens=num_words,\n",
        " standardize=\"lower_and_strip_punctuation\",\n",
        " split=\"whitespace\",\n",
        " output_mode='multi_hot',\n",
        " pad_to_max_tokens=True)\n",
        "\n",
        "vectorize_layer.adapt(X_train)"
      ],
      "metadata": {
        "id": "Brt087tDIDpe"
      },
      "execution_count": 5,
      "outputs": []
    },
    {
      "cell_type": "code",
      "source": [
        "X_train = vectorize_layer(X_train)\n",
        "X_valid = vectorize_layer(X_valid)\n",
        "X_test  = vectorize_layer(X_test)"
      ],
      "metadata": {
        "id": "seuFLH2lNiDT"
      },
      "execution_count": 6,
      "outputs": []
    },
    {
      "cell_type": "markdown",
      "metadata": {
        "id": "jGUg8TexZMNf"
      },
      "source": [
        "### Define the model:\n",
        "\n",
        "Let's build a Sequential model (`keras.models.Sequential`) and add four layers to it by calling its `add()` method:\n",
        "\n",
        "\n",
        "*   a input layer (`tf.keras.Input`) that is the first layer in your model. With this layer you should specify the `input_shape` argument, leaving out the batch size: `(num_words,)`;\n",
        "*  a Dense layer (`keras.layers.Dense`) with 16 neurons, and the \"relu\" activation function;\n",
        "* another Dense layer with 16 neurons, also with the \"relu\" activation function;\n",
        "* a final Dense layer with 4 output neurons, and with the \"softmax\" activation (since we considering a classification task with four classes)."
      ]
    },
    {
      "cell_type": "code",
      "metadata": {
        "id": "OaoEISyaZL56"
      },
      "source": [
        "model = keras.models.Sequential()\n",
        "model.add(tf.keras.Input(shape=(num_words,)))\n",
        "model.add(keras.layers.Dense(16, activation=\"relu\"))\n",
        "model.add(keras.layers.Dense(16, activation=\"relu\"))\n",
        "model.add(keras.layers.Dense(4, activation=\"softmax\"))"
      ],
      "execution_count": 7,
      "outputs": []
    },
    {
      "cell_type": "markdown",
      "metadata": {
        "id": "fYfxUOQVZljh"
      },
      "source": [
        "Call the model's `summary()` method to check if the model has been built correctly. Also, try using `keras.utils.plot_model()` to save an image of your model's architecture."
      ]
    },
    {
      "cell_type": "code",
      "metadata": {
        "id": "IpGkQl5dZoWq",
        "colab": {
          "base_uri": "https://localhost:8080/"
        },
        "outputId": "a11eda64-862f-4256-92e5-d9ba6c05e7ba"
      },
      "source": [
        "model.summary()"
      ],
      "execution_count": 8,
      "outputs": [
        {
          "output_type": "stream",
          "name": "stdout",
          "text": [
            "Model: \"sequential\"\n",
            "_________________________________________________________________\n",
            " Layer (type)                Output Shape              Param #   \n",
            "=================================================================\n",
            " dense (Dense)               (None, 16)                16016     \n",
            "                                                                 \n",
            " dense_1 (Dense)             (None, 16)                272       \n",
            "                                                                 \n",
            " dense_2 (Dense)             (None, 4)                 68        \n",
            "                                                                 \n",
            "=================================================================\n",
            "Total params: 16,356\n",
            "Trainable params: 16,356\n",
            "Non-trainable params: 0\n",
            "_________________________________________________________________\n"
          ]
        }
      ]
    },
    {
      "cell_type": "code",
      "metadata": {
        "id": "b1NbkrXRZwOA",
        "colab": {
          "base_uri": "https://localhost:8080/",
          "height": 422
        },
        "outputId": "18fd3655-f615-4081-f045-21d4fdf45d51"
      },
      "source": [
        "keras.utils.plot_model(model, \"my_model.png\", show_shapes=True)"
      ],
      "execution_count": 9,
      "outputs": [
        {
          "output_type": "execute_result",
          "data": {
            "text/plain": [
              "<IPython.core.display.Image object>"
            ],
            "image/png": "[encoded data removed]"
          },
          "metadata": {},
          "execution_count": 9
        }
      ]
    },
    {
      "cell_type": "markdown",
      "metadata": {
        "id": "Mc3xzuA-33WH"
      },
      "source": [
        "As you can see, the first dimension of each layer is not defined (`None`), indeed this dimension in each layer is variable and depends on the batch size."
      ]
    },
    {
      "cell_type": "markdown",
      "metadata": {
        "id": "6FAjFixuHSA_"
      },
      "source": [
        "Instaed of using `add()` method it is also possibile to define the model using the following syntax"
      ]
    },
    {
      "cell_type": "code",
      "metadata": {
        "id": "yOhr57M9GPHy",
        "colab": {
          "base_uri": "https://localhost:8080/",
          "height": 690
        },
        "outputId": "af66860a-3895-4ca6-89d6-9b8f5e5c0f08"
      },
      "source": [
        "model = keras.models.Sequential([\n",
        "    tf.keras.Input(shape=(num_words,)),\n",
        "    keras.layers.Dense(16, activation=\"relu\"),\n",
        "    keras.layers.Dense(16, activation=\"relu\"),\n",
        "    keras.layers.Dense(4, activation=\"softmax\")\n",
        "])\n",
        "model.summary()\n",
        "keras.utils.plot_model(model, \"my_model.png\", show_shapes=True)"
      ],
      "execution_count": 10,
      "outputs": [
        {
          "output_type": "stream",
          "name": "stdout",
          "text": [
            "Model: \"sequential_1\"\n",
            "_________________________________________________________________\n",
            " Layer (type)                Output Shape              Param #   \n",
            "=================================================================\n",
            " dense_3 (Dense)             (None, 16)                16016     \n",
            "                                                                 \n",
            " dense_4 (Dense)             (None, 16)                272       \n",
            "                                                                 \n",
            " dense_5 (Dense)             (None, 4)                 68        \n",
            "                                                                 \n",
            "=================================================================\n",
            "Total params: 16,356\n",
            "Trainable params: 16,356\n",
            "Non-trainable params: 0\n",
            "_________________________________________________________________\n"
          ]
        },
        {
          "output_type": "execute_result",
          "data": {
            "text/plain": [
              "<IPython.core.display.Image object>"
            ],
            "image/png": "[encoded data removed]"
          },
          "metadata": {},
          "execution_count": 10
        }
      ]
    },
    {
      "cell_type": "markdown",
      "metadata": {
        "id": "2ySdJmzxaSuz"
      },
      "source": [
        "### Optimize the model:\n",
        "\n",
        "After the model has been created, you must call its `compile()` method to specify the loss function and the optimizer to use.\n",
        "\n",
        "Since the model performs a classification task, and we have labels encoded as integers, we use the sparse categorical cross-entropy loss. As optimizer we use Adam.\n",
        "\n",
        "Moreover, you can optionally specify a list of additional metrics that should be measured during training. In this case we specify `metrics=[\"accuracy\"]`."
      ]
    },
    {
      "cell_type": "code",
      "metadata": {
        "id": "x3bbsY3uaeh5"
      },
      "source": [
        "model.compile(loss=\"sparse_categorical_crossentropy\",\n",
        "              optimizer=keras.optimizers.Adam(learning_rate=1e-4),\n",
        "              metrics=[\"accuracy\"])"
      ],
      "execution_count": 11,
      "outputs": []
    },
    {
      "cell_type": "markdown",
      "metadata": {
        "id": "NB9SV0MpaeTg"
      },
      "source": [
        "Now our model is ready to be trained. Call its `fit()` method, passing to it the input features (`X_train`) and the target classes (`y_train`). Set the number of epochs to 20. \n",
        "In order to validate our model we will also pass the validation data by setting `validation_data=(X_valid, y_valid)`. Keras will compute the loss and the additional metrics (the accuracy in this case) on the validation set at the end of each epoch. If the loss on the training set is much lower than the one on the validation set, your model is probably overfitting the training set. Note: the `fit()` method will return a `History` object containing training stats."
      ]
    },
    {
      "cell_type": "code",
      "metadata": {
        "id": "5whx-LU3aoKn",
        "colab": {
          "base_uri": "https://localhost:8080/"
        },
        "outputId": "b1b26ec0-363c-4b06-946d-f6c8f1678a51"
      },
      "source": [
        "history = model.fit(X_train, y_train, epochs=20,\n",
        "                    validation_data=(X_valid, y_valid))"
      ],
      "execution_count": 12,
      "outputs": [
        {
          "output_type": "stream",
          "name": "stdout",
          "text": [
            "Epoch 1/20\n",
            "3375/3375 [==============================] - 17s 4ms/step - loss: 0.8503 - accuracy: 0.6761 - val_loss: 0.5107 - val_accuracy: 0.8314\n",
            "Epoch 2/20\n",
            "3375/3375 [==============================] - 10s 3ms/step - loss: 0.4583 - accuracy: 0.8449 - val_loss: 0.4452 - val_accuracy: 0.8475\n",
            "Epoch 3/20\n",
            "3375/3375 [==============================] - 9s 3ms/step - loss: 0.4222 - accuracy: 0.8546 - val_loss: 0.4318 - val_accuracy: 0.8507\n",
            "Epoch 4/20\n",
            "3375/3375 [==============================] - 9s 3ms/step - loss: 0.4089 - accuracy: 0.8573 - val_loss: 0.4241 - val_accuracy: 0.8509\n",
            "Epoch 5/20\n",
            "3375/3375 [==============================] - 10s 3ms/step - loss: 0.4012 - accuracy: 0.8590 - val_loss: 0.4210 - val_accuracy: 0.8525\n",
            "Epoch 6/20\n",
            "3375/3375 [==============================] - 9s 3ms/step - loss: 0.3959 - accuracy: 0.8601 - val_loss: 0.4175 - val_accuracy: 0.8531\n",
            "Epoch 7/20\n",
            "3375/3375 [==============================] - 9s 3ms/step - loss: 0.3917 - accuracy: 0.8615 - val_loss: 0.4149 - val_accuracy: 0.8535\n",
            "Epoch 8/20\n",
            "3375/3375 [==============================] - 10s 3ms/step - loss: 0.3882 - accuracy: 0.8617 - val_loss: 0.4132 - val_accuracy: 0.8550\n",
            "Epoch 9/20\n",
            "3375/3375 [==============================] - 9s 3ms/step - loss: 0.3851 - accuracy: 0.8627 - val_loss: 0.4109 - val_accuracy: 0.8540\n",
            "Epoch 10/20\n",
            "3375/3375 [==============================] - 9s 3ms/step - loss: 0.3825 - accuracy: 0.8629 - val_loss: 0.4096 - val_accuracy: 0.8534\n",
            "Epoch 11/20\n",
            "3375/3375 [==============================] - 10s 3ms/step - loss: 0.3799 - accuracy: 0.8637 - val_loss: 0.4081 - val_accuracy: 0.8539\n",
            "Epoch 12/20\n",
            "3375/3375 [==============================] - 10s 3ms/step - loss: 0.3775 - accuracy: 0.8638 - val_loss: 0.4064 - val_accuracy: 0.8543\n",
            "Epoch 13/20\n",
            "3375/3375 [==============================] - 11s 3ms/step - loss: 0.3753 - accuracy: 0.8645 - val_loss: 0.4051 - val_accuracy: 0.8538\n",
            "Epoch 14/20\n",
            "3375/3375 [==============================] - 9s 3ms/step - loss: 0.3731 - accuracy: 0.8649 - val_loss: 0.4053 - val_accuracy: 0.8543\n",
            "Epoch 15/20\n",
            "3375/3375 [==============================] - 9s 3ms/step - loss: 0.3709 - accuracy: 0.8660 - val_loss: 0.4035 - val_accuracy: 0.8553\n",
            "Epoch 16/20\n",
            "3375/3375 [==============================] - 9s 3ms/step - loss: 0.3689 - accuracy: 0.8661 - val_loss: 0.4027 - val_accuracy: 0.8553\n",
            "Epoch 17/20\n",
            "3375/3375 [==============================] - 9s 3ms/step - loss: 0.3669 - accuracy: 0.8668 - val_loss: 0.4011 - val_accuracy: 0.8565\n",
            "Epoch 18/20\n",
            "3375/3375 [==============================] - 9s 3ms/step - loss: 0.3649 - accuracy: 0.8672 - val_loss: 0.4003 - val_accuracy: 0.8554\n",
            "Epoch 19/20\n",
            "3375/3375 [==============================] - 9s 3ms/step - loss: 0.3630 - accuracy: 0.8679 - val_loss: 0.3992 - val_accuracy: 0.8559\n",
            "Epoch 20/20\n",
            "3375/3375 [==============================] - 9s 3ms/step - loss: 0.3612 - accuracy: 0.8684 - val_loss: 0.3993 - val_accuracy: 0.8564\n"
          ]
        }
      ]
    },
    {
      "cell_type": "markdown",
      "metadata": {
        "id": "EPxiw8iCADr-"
      },
      "source": [
        "Let's plot the loss and the accuracy trends on both training and validation sets. We define the `plot_learning_acc_and_loss` function because we will reuse it in the next steps."
      ]
    },
    {
      "cell_type": "code",
      "metadata": {
        "id": "AJg-F7mUa7st",
        "colab": {
          "base_uri": "https://localhost:8080/",
          "height": 320
        },
        "outputId": "a3a1770c-310a-4556-b28c-300ef3d046c6"
      },
      "source": [
        "def plot_learning_acc_and_loss(history):\n",
        "    pd.DataFrame(history.history).plot(figsize=(8, 5))\n",
        "    plt.grid(True)\n",
        "    plt.show()\n",
        "plot_learning_acc_and_loss(history)"
      ],
      "execution_count": 13,
      "outputs": [
        {
          "output_type": "display_data",
          "data": {
            "text/plain": [
              "<Figure size 576x360 with 1 Axes>"
            ],
            "image/png": "[encoded data removed]"
          },
          "metadata": {
            "needs_background": "light"
          }
        }
      ]
    },
    {
      "cell_type": "markdown",
      "metadata": {
        "id": "9O3-sLmxansJ"
      },
      "source": [
        "### [TO COMPLETE] Evaluate the model:\n",
        "\n",
        "Now, our model has been optimized on the training set, and as you can see the performance on the validation set in quite similar (so it does not overfit the training data). Let's now evaluate the performance of our model using the test set."
      ]
    },
    {
      "cell_type": "code",
      "metadata": {
        "id": "q-ZvJEcObdyB",
        "colab": {
          "base_uri": "https://localhost:8080/"
        },
        "outputId": "88aa6c45-df91-4275-d05e-e766a796728b"
      },
      "source": [
        "model.evaluate(X_test, y_test)"
      ],
      "execution_count": 14,
      "outputs": [
        {
          "output_type": "stream",
          "name": "stdout",
          "text": [
            "238/238 [==============================] - 1s 3ms/step - loss: 0.4093 - accuracy: 0.8521\n"
          ]
        },
        {
          "output_type": "execute_result",
          "data": {
            "text/plain": [
              "[0.40926671028137207, 0.8521052598953247]"
            ]
          },
          "metadata": {},
          "execution_count": 14
        }
      ]
    },
    {
      "cell_type": "markdown",
      "metadata": {
        "id": "KTSxlnwrII-n"
      },
      "source": [
        "[TO COMPLETE] Explain why it is important to use test and validation, and why it is important to evaluate the model on the test set instead of the validation set. Finally, explain what is the usefulness of the validation set. Insert the discussion in this cell.\n",
        "\n",
        "**Discussion**: First, we need a test set to obviously test how our model performs on unseen data. Otherwise, if test our model on the training set, then the model would seem to be a perfect model as it has already seen all data in the training set and therefore will \"predict\" correctly, giving an impression that the model is 100% accurate. The reason why we need a validation set is to validate the performance of our model during training. This is neccesary to determine the optimal parameters of the model. \n",
        "\n",
        "The model is evaluated on the test set because we need unseen data (new data) to test the performance and evaluate the model. Additionally, the validation set is usually much smaller than the test set and therefore would not be able to evaluate the model in a more comprehensive manner.\n",
        "\n",
        "As stated before, the validation set is very important in tuning the hyperparameters of the model. Otherwise, the model wouldnt know which hyperparameters perform better. In a way, it is like a guide that ensures the training happens in the right direction."
      ]
    },
    {
      "cell_type": "markdown",
      "metadata": {
        "id": "aeGlzKe864Gq"
      },
      "source": [
        "## [TO COMPLETE] Exercise 2.2: Overfiting\n",
        "\n",
        "A common problem that occurs when you train a deep neural network is overfittig. Overfitting occurs when you achieve a good fit of your model on the training data, while it does not generalize well on new, unseen data. In other words, the model learned patterns specific to the training data, which are irrelevant in other data.\n",
        "As we have seen in the previous exercise, our model does not overfit the training data. In this exercise, we try to modify the training parameters in order to have a model that overfits.\n",
        "Overfitting can have many causes and usually is a combination of some of them, for instance: too many parameters/ layers, too few training samples, wrong learning rate (usualy too high), etc..\n",
        "\n",
        "[TO COMPLETE] In the next cell define a new model (similar to the previuos one) that overfits the training data; then plot the trend of the loss in training and validation set."
      ]
    },
    {
      "cell_type": "code",
      "metadata": {
        "id": "T2B2DFEC8f88",
        "colab": {
          "base_uri": "https://localhost:8080/"
        },
        "outputId": "13d6d404-f059-42af-d2ed-7551e88518e6"
      },
      "source": [
        "model = keras.models.Sequential()\n",
        "#[TO COMPLETE] modify the previuos model in order to obtain a new model that overfits the training data\n",
        "model.add(tf.keras.Input(shape=(num_words,)))\n",
        "model.add(keras.layers.Dense(16, activation=\"relu\"))\n",
        "model.add(keras.layers.Dense(16, activation=\"relu\"))\n",
        "model.add(keras.layers.Dense(4, activation=\"softmax\"))\n",
        "\n",
        "model.compile(loss=\"sparse_categorical_crossentropy\",\n",
        "              optimizer=keras.optimizers.Adam(learning_rate=0.01),#[TO COMPLETE] learning rate\n",
        "              metrics=[\"accuracy\"])\n",
        "\n",
        "\n",
        "history = model.fit(X_train, y_train, epochs=24,#[TO COMPLETE] epochs\n",
        "                    validation_data=(X_valid, y_valid))\n",
        "\n",
        "print(\"Model Evaluation\")\n",
        "model.evaluate(X_test, y_test)"
      ],
      "execution_count": 15,
      "outputs": [
        {
          "output_type": "stream",
          "name": "stdout",
          "text": [
            "Epoch 1/24\n",
            "3375/3375 [==============================] - 10s 3ms/step - loss: 0.4643 - accuracy: 0.8320 - val_loss: 0.4258 - val_accuracy: 0.8480\n",
            "Epoch 2/24\n",
            "3375/3375 [==============================] - 9s 3ms/step - loss: 0.4101 - accuracy: 0.8502 - val_loss: 0.4180 - val_accuracy: 0.8505\n",
            "Epoch 3/24\n",
            "3375/3375 [==============================] - 9s 3ms/step - loss: 0.3887 - accuracy: 0.8585 - val_loss: 0.4224 - val_accuracy: 0.8477\n",
            "Epoch 4/24\n",
            "3375/3375 [==============================] - 10s 3ms/step - loss: 0.3722 - accuracy: 0.8644 - val_loss: 0.4160 - val_accuracy: 0.8537\n",
            "Epoch 5/24\n",
            "3375/3375 [==============================] - 10s 3ms/step - loss: 0.3619 - accuracy: 0.8689 - val_loss: 0.4357 - val_accuracy: 0.8457\n",
            "Epoch 6/24\n",
            "3375/3375 [==============================] - 9s 3ms/step - loss: 0.3513 - accuracy: 0.8721 - val_loss: 0.4233 - val_accuracy: 0.8515\n",
            "Epoch 7/24\n",
            "3375/3375 [==============================] - 9s 3ms/step - loss: 0.3446 - accuracy: 0.8750 - val_loss: 0.4375 - val_accuracy: 0.8457\n",
            "Epoch 8/24\n",
            "3375/3375 [==============================] - 9s 3ms/step - loss: 0.3378 - accuracy: 0.8780 - val_loss: 0.4310 - val_accuracy: 0.8458\n",
            "Epoch 9/24\n",
            "3375/3375 [==============================] - 9s 3ms/step - loss: 0.3329 - accuracy: 0.8795 - val_loss: 0.4503 - val_accuracy: 0.8445\n",
            "Epoch 10/24\n",
            "3375/3375 [==============================] - 9s 3ms/step - loss: 0.3280 - accuracy: 0.8815 - val_loss: 0.4741 - val_accuracy: 0.8451\n",
            "Epoch 11/24\n",
            "3375/3375 [==============================] - 9s 3ms/step - loss: 0.3237 - accuracy: 0.8828 - val_loss: 0.4584 - val_accuracy: 0.8418\n",
            "Epoch 12/24\n",
            "3375/3375 [==============================] - 9s 3ms/step - loss: 0.3188 - accuracy: 0.8841 - val_loss: 0.4730 - val_accuracy: 0.8445\n",
            "Epoch 13/24\n",
            "3375/3375 [==============================] - 9s 3ms/step - loss: 0.3166 - accuracy: 0.8856 - val_loss: 0.4677 - val_accuracy: 0.8453\n",
            "Epoch 14/24\n",
            "3375/3375 [==============================] - 9s 3ms/step - loss: 0.3130 - accuracy: 0.8869 - val_loss: 0.4851 - val_accuracy: 0.8448\n",
            "Epoch 15/24\n",
            "3375/3375 [==============================] - 9s 3ms/step - loss: 0.3094 - accuracy: 0.8877 - val_loss: 0.4905 - val_accuracy: 0.8449\n",
            "Epoch 16/24\n",
            "3375/3375 [==============================] - 9s 3ms/step - loss: 0.3082 - accuracy: 0.8886 - val_loss: 0.4716 - val_accuracy: 0.8425\n",
            "Epoch 17/24\n",
            "3375/3375 [==============================] - 9s 3ms/step - loss: 0.3051 - accuracy: 0.8899 - val_loss: 0.5115 - val_accuracy: 0.8437\n",
            "Epoch 18/24\n",
            "3375/3375 [==============================] - 9s 3ms/step - loss: 0.3020 - accuracy: 0.8913 - val_loss: 0.4867 - val_accuracy: 0.8428\n",
            "Epoch 19/24\n",
            "3375/3375 [==============================] - 9s 3ms/step - loss: 0.3000 - accuracy: 0.8917 - val_loss: 0.5054 - val_accuracy: 0.8377\n",
            "Epoch 20/24\n",
            "3375/3375 [==============================] - 9s 3ms/step - loss: 0.2979 - accuracy: 0.8926 - val_loss: 0.5226 - val_accuracy: 0.8318\n",
            "Epoch 21/24\n",
            "3375/3375 [==============================] - 9s 3ms/step - loss: 0.2965 - accuracy: 0.8930 - val_loss: 0.5287 - val_accuracy: 0.8372\n",
            "Epoch 22/24\n",
            "3375/3375 [==============================] - 8s 2ms/step - loss: 0.2947 - accuracy: 0.8940 - val_loss: 0.5425 - val_accuracy: 0.8316\n",
            "Epoch 23/24\n",
            "3375/3375 [==============================] - 9s 3ms/step - loss: 0.2933 - accuracy: 0.8944 - val_loss: 0.5324 - val_accuracy: 0.8358\n",
            "Epoch 24/24\n",
            "3375/3375 [==============================] - 9s 3ms/step - loss: 0.2918 - accuracy: 0.8954 - val_loss: 0.5381 - val_accuracy: 0.8372\n",
            "Model Evaluation\n",
            "238/238 [==============================] - 1s 3ms/step - loss: 0.5138 - accuracy: 0.8447\n"
          ]
        },
        {
          "output_type": "execute_result",
          "data": {
            "text/plain": [
              "[0.5138357281684875, 0.8447368144989014]"
            ]
          },
          "metadata": {},
          "execution_count": 15
        }
      ]
    },
    {
      "cell_type": "markdown",
      "metadata": {
        "id": "MS0fujEqh_m3"
      },
      "source": [
        "Define the `plot_learning_curves` function that plots only the losses (not the accuracy)."
      ]
    },
    {
      "cell_type": "code",
      "metadata": {
        "id": "q5EsklC0DZYH",
        "colab": {
          "base_uri": "https://localhost:8080/",
          "height": 336
        },
        "outputId": "4bef6bf9-7ea3-4ad2-fee1-45d4d0d0ed2a"
      },
      "source": [
        "def plot_learning_curves(history):\n",
        "    plt.figure(figsize=(8, 5))\n",
        "    plt.plot(history.epoch,history.history['loss'], label='train loss')\n",
        "    plt.plot(history.epoch,history.history['val_loss'], label='valid loss')\n",
        "    plt.legend()\n",
        "    plt.title('loss')\n",
        "    plt.grid(True)\n",
        "    plt.show()\n",
        "plot_learning_curves(history)"
      ],
      "execution_count": 16,
      "outputs": [
        {
          "output_type": "display_data",
          "data": {
            "text/plain": [
              "<Figure size 576x360 with 1 Axes>"
            ],
            "image/png": "[encoded data removed]"
          },
          "metadata": {
            "needs_background": "light"
          }
        }
      ]
    },
    {
      "cell_type": "markdown",
      "metadata": {
        "id": "OW4Kf4fgDfOs"
      },
      "source": [
        "### [TO COMPLETE] L1 norm\n",
        "\n",
        "One possible way to solve the overitting issue is by using regularization methods. The two most common regularization methods in Deep Learning are the L1-norm regularization and the L2-norm regularization. Both These techniques are based on limiting the capacity of models, by adding a parameter norm penalty to the objective function $\\mathcal{J}$:\n",
        "$$\n",
        "\\hat{\\mathcal{J}}(\\theta,\\mathbf{X},\\mathbf{y}) = \\mathcal{J}(\\theta,\\mathbf{X},\\mathbf{y}) + \\alpha \\Omega(\\theta)\n",
        "$$\n",
        "where $\\alpha$ is a hyperparameter that weighs the relative contribution of the norm penalty $\\Omega$.\n",
        "Lets start by considering the L1-norm regularization where the regularization term is defined as:\n",
        "$$\n",
        " \\Omega(\\theta)=||\\mathbf{W}||_1=\\sum_i |\\mathbf{w}|\n",
        "$$\n",
        "Let's find the values for the $\\alpha$ parameters that allow to remove the overfitting effect."
      ]
    },
    {
      "cell_type": "code",
      "metadata": {
        "id": "QzD8520dDgw3",
        "colab": {
          "base_uri": "https://localhost:8080/",
          "height": 1000
        },
        "outputId": "050fcf9c-5f0d-40df-9889-4b2cdbedb145"
      },
      "source": [
        "#In Keras is neccesary to add the regularizer by using the attribute kernel_regularizer\n",
        "#to each layer whose weights will be considered in the Omega function.\n",
        "#is it also possibile to consider the bias by using the attribute bias_regularizer \n",
        "#tf.keras.regularizers.l1(alpha) perfroms the L1-norm regularization\n",
        "\n",
        "#[TO COMPLETE] copy the model that you previously defined that overfits the \n",
        "#training data, and add the L1-norm regularization. Use a proper value for the\n",
        "#alpha hyper-parameter, that prevents the model from overfitting. The results  \n",
        "#reached by the model in terms of loss and accuracy (in all data sets) should be\n",
        "#comparable with the ones obtained by the initial model defined in Exercise 2.1 \n",
        "\n",
        "#In general, a layer that exploits L1-norm regularization is defined as follows:\n",
        "\n",
        "#model.add(keras.layers.Dense(units=[TO COMPLETE], activation=[TO COMPLETE], kernel_regularizer=tf.keras.regularizers.l1([TO COMPLETE]))) \n",
        "\n",
        "model = keras.models.Sequential()\n",
        "#[TO COMPLETE]\n",
        "model = keras.models.Sequential()\n",
        "model.add(tf.keras.Input(shape=(num_words,)))\n",
        "model.add(keras.layers.Dense(16, activation=\"relu\", kernel_regularizer=tf.keras.regularizers.l1(0.001)))\n",
        "model.add(keras.layers.Dense(16, activation=\"relu\", kernel_regularizer=tf.keras.regularizers.l1(0.001)))\n",
        "model.add(keras.layers.Dense(4, activation=\"softmax\", kernel_regularizer=tf.keras.regularizers.l1(0.001)))\n",
        "\n",
        "\n",
        "model.compile(loss=\"sparse_categorical_crossentropy\",\n",
        "              optimizer=keras.optimizers.Adam(learning_rate=0.001),#[TO COMPLETE] learning rate\n",
        "              metrics=[\"accuracy\"])\n",
        "\n",
        "history = model.fit(X_train, y_train, epochs=24,#[TO COMPLETE] epochs\n",
        "                    validation_data=(X_valid, y_valid))\n",
        "\n",
        "print(\"Model Evaluation\")\n",
        "model.evaluate(X_test, y_test)\n",
        "plot_learning_curves(history)"
      ],
      "execution_count": 23,
      "outputs": [
        {
          "output_type": "stream",
          "name": "stdout",
          "text": [
            "Epoch 1/24\n",
            "3375/3375 [==============================] - 11s 3ms/step - loss: 0.8122 - accuracy: 0.8143 - val_loss: 0.7265 - val_accuracy: 0.8338\n",
            "Epoch 2/24\n",
            "3375/3375 [==============================] - 9s 3ms/step - loss: 0.6871 - accuracy: 0.8389 - val_loss: 0.6670 - val_accuracy: 0.8425\n",
            "Epoch 3/24\n",
            "3375/3375 [==============================] - 10s 3ms/step - loss: 0.6497 - accuracy: 0.8420 - val_loss: 0.6454 - val_accuracy: 0.8401\n",
            "Epoch 4/24\n",
            "3375/3375 [==============================] - 10s 3ms/step - loss: 0.6277 - accuracy: 0.8435 - val_loss: 0.6368 - val_accuracy: 0.8328\n",
            "Epoch 5/24\n",
            "3375/3375 [==============================] - 9s 3ms/step - loss: 0.6141 - accuracy: 0.8433 - val_loss: 0.6172 - val_accuracy: 0.8397\n",
            "Epoch 6/24\n",
            "3375/3375 [==============================] - 10s 3ms/step - loss: 0.6077 - accuracy: 0.8444 - val_loss: 0.6151 - val_accuracy: 0.8419\n",
            "Epoch 7/24\n",
            "3375/3375 [==============================] - 10s 3ms/step - loss: 0.6036 - accuracy: 0.8450 - val_loss: 0.6176 - val_accuracy: 0.8407\n",
            "Epoch 8/24\n",
            "3375/3375 [==============================] - 10s 3ms/step - loss: 0.6012 - accuracy: 0.8433 - val_loss: 0.6029 - val_accuracy: 0.8444\n",
            "Epoch 9/24\n",
            "3375/3375 [==============================] - 9s 3ms/step - loss: 0.5972 - accuracy: 0.8444 - val_loss: 0.6091 - val_accuracy: 0.8379\n",
            "Epoch 10/24\n",
            "3375/3375 [==============================] - 9s 3ms/step - loss: 0.5938 - accuracy: 0.8436 - val_loss: 0.6047 - val_accuracy: 0.8413\n",
            "Epoch 11/24\n",
            "3375/3375 [==============================] - 10s 3ms/step - loss: 0.5914 - accuracy: 0.8439 - val_loss: 0.5953 - val_accuracy: 0.8404\n",
            "Epoch 12/24\n",
            "3375/3375 [==============================] - 9s 3ms/step - loss: 0.5893 - accuracy: 0.8436 - val_loss: 0.5922 - val_accuracy: 0.8439\n",
            "Epoch 13/24\n",
            "3375/3375 [==============================] - 9s 3ms/step - loss: 0.5886 - accuracy: 0.8438 - val_loss: 0.5883 - val_accuracy: 0.8428\n",
            "Epoch 14/24\n",
            "3375/3375 [==============================] - 9s 3ms/step - loss: 0.5864 - accuracy: 0.8448 - val_loss: 0.5974 - val_accuracy: 0.8377\n",
            "Epoch 15/24\n",
            "3375/3375 [==============================] - 8s 3ms/step - loss: 0.5863 - accuracy: 0.8432 - val_loss: 0.5886 - val_accuracy: 0.8410\n",
            "Epoch 16/24\n",
            "3375/3375 [==============================] - 9s 3ms/step - loss: 0.5850 - accuracy: 0.8436 - val_loss: 0.5903 - val_accuracy: 0.8411\n",
            "Epoch 17/24\n",
            "3375/3375 [==============================] - 9s 3ms/step - loss: 0.5836 - accuracy: 0.8439 - val_loss: 0.5884 - val_accuracy: 0.8445\n",
            "Epoch 18/24\n",
            "3375/3375 [==============================] - 10s 3ms/step - loss: 0.5829 - accuracy: 0.8438 - val_loss: 0.5857 - val_accuracy: 0.8400\n",
            "Epoch 19/24\n",
            "3375/3375 [==============================] - 9s 3ms/step - loss: 0.5822 - accuracy: 0.8437 - val_loss: 0.5848 - val_accuracy: 0.8417\n",
            "Epoch 20/24\n",
            "3375/3375 [==============================] - 13s 4ms/step - loss: 0.5808 - accuracy: 0.8438 - val_loss: 0.5938 - val_accuracy: 0.8423\n",
            "Epoch 21/24\n",
            "3375/3375 [==============================] - 9s 3ms/step - loss: 0.5804 - accuracy: 0.8442 - val_loss: 0.5883 - val_accuracy: 0.8412\n",
            "Epoch 22/24\n",
            "3375/3375 [==============================] - 9s 3ms/step - loss: 0.5798 - accuracy: 0.8436 - val_loss: 0.5921 - val_accuracy: 0.8352\n",
            "Epoch 23/24\n",
            "3375/3375 [==============================] - 12s 4ms/step - loss: 0.5780 - accuracy: 0.8437 - val_loss: 0.5815 - val_accuracy: 0.8427\n",
            "Epoch 24/24\n",
            "3375/3375 [==============================] - 9s 3ms/step - loss: 0.5777 - accuracy: 0.8430 - val_loss: 0.5809 - val_accuracy: 0.8410\n",
            "Model Evaluation\n",
            "238/238 [==============================] - 1s 3ms/step - loss: 0.5917 - accuracy: 0.8386\n"
          ]
        },
        {
          "output_type": "display_data",
          "data": {
            "text/plain": [
              "<Figure size 576x360 with 1 Axes>"
            ],
            "image/png": "[encoded data removed]"
          },
          "metadata": {
            "needs_background": "light"
          }
        }
      ]
    },
    {
      "cell_type": "markdown",
      "metadata": {
        "id": "CgnCGYUvDqbC"
      },
      "source": [
        "### [TO COMPLETE] L2-norm\n",
        "\n",
        "L2-norm regularization is also known as weight decay. This strategy drives the weights closer to the origin by adding the regularization term omega which is defined as:\n",
        "$$\n",
        " \\Omega(\\theta)=\\frac{1}{2}||\\mathbf{W}||_2^2\n",
        "$$\n",
        "\n",
        "Let's find the values for the $\\alpha$ parameters that allow removing remove the overfitting effect with L2-norm."
      ]
    },
    {
      "cell_type": "code",
      "metadata": {
        "id": "qqNhu350DtJo",
        "colab": {
          "base_uri": "https://localhost:8080/",
          "height": 1000
        },
        "outputId": "7702c377-5c31-40db-d335-a8bff9f9487c"
      },
      "source": [
        "#[TO COMPLETE] insert the model that you previously defined that overfit the \n",
        "#trainig data, and add the L2-norm regularization. Use proper values for the\n",
        "#alpha hyper-parameters, that prevents the model from overfitting. The results  \n",
        "#reached by the model in terms of loss and accuracy (in all data sets) should be\n",
        "#comparable with the ones obtained by the initial model defined in Exercise 2.1\n",
        "\n",
        "#In general, a layer that exploits L2-norm regularization is defined as follow:\n",
        "\n",
        "#model.add(keras.layers.Dense(units=[TO COMPLETE], activation=[TO COMPLETE],kernel_regularizer=tf.keras.regularizers.l2([TO COMPLETE]))) \n",
        "\n",
        "model = keras.models.Sequential()\n",
        "#[TO COMPLETE]\n",
        "model = keras.models.Sequential()\n",
        "model.add(tf.keras.Input(shape=(num_words,)))\n",
        "model.add(keras.layers.Dense(16, activation=\"relu\", kernel_regularizer=tf.keras.regularizers.l2(0.001)))\n",
        "model.add(keras.layers.Dense(16, activation=\"relu\", kernel_regularizer=tf.keras.regularizers.l2(0.001)))\n",
        "model.add(keras.layers.Dense(4, activation=\"softmax\", kernel_regularizer=tf.keras.regularizers.l2(0.001)))\n",
        "\n",
        "\n",
        "model.compile(loss=\"sparse_categorical_crossentropy\",\n",
        "              optimizer=keras.optimizers.Adam(learning_rate=0.005),#[TO COMPLETE] learning rate\n",
        "              metrics=[\"accuracy\"])\n",
        "\n",
        "history = model.fit(X_train, y_train, epochs=24,#[TO COMPLETE] epochs\n",
        "                    validation_data=(X_valid, y_valid))\n",
        "\n",
        "print(\"Model Evaluation\")\n",
        "model.evaluate(X_test, y_test)\n",
        "plot_learning_curves(history)"
      ],
      "execution_count": 31,
      "outputs": [
        {
          "output_type": "stream",
          "name": "stdout",
          "text": [
            "Epoch 1/24\n",
            "3375/3375 [==============================] - 11s 3ms/step - loss: 0.6133 - accuracy: 0.8185 - val_loss: 0.5911 - val_accuracy: 0.8278\n",
            "Epoch 2/24\n",
            "3375/3375 [==============================] - 10s 3ms/step - loss: 0.5811 - accuracy: 0.8296 - val_loss: 0.5651 - val_accuracy: 0.8333\n",
            "Epoch 3/24\n",
            "3375/3375 [==============================] - 9s 3ms/step - loss: 0.5664 - accuracy: 0.8331 - val_loss: 0.5751 - val_accuracy: 0.8280\n",
            "Epoch 4/24\n",
            "3375/3375 [==============================] - 9s 3ms/step - loss: 0.5661 - accuracy: 0.8323 - val_loss: 0.5706 - val_accuracy: 0.8295\n",
            "Epoch 5/24\n",
            "3375/3375 [==============================] - 9s 3ms/step - loss: 0.5645 - accuracy: 0.8313 - val_loss: 0.5702 - val_accuracy: 0.8278\n",
            "Epoch 6/24\n",
            "3375/3375 [==============================] - 9s 3ms/step - loss: 0.5630 - accuracy: 0.8327 - val_loss: 0.5663 - val_accuracy: 0.8331\n",
            "Epoch 7/24\n",
            "3375/3375 [==============================] - 10s 3ms/step - loss: 0.5621 - accuracy: 0.8333 - val_loss: 0.5722 - val_accuracy: 0.8288\n",
            "Epoch 8/24\n",
            "3375/3375 [==============================] - 10s 3ms/step - loss: 0.5587 - accuracy: 0.8328 - val_loss: 0.5583 - val_accuracy: 0.8367\n",
            "Epoch 9/24\n",
            "3375/3375 [==============================] - 9s 3ms/step - loss: 0.5551 - accuracy: 0.8353 - val_loss: 0.5577 - val_accuracy: 0.8358\n",
            "Epoch 10/24\n",
            "3375/3375 [==============================] - 9s 3ms/step - loss: 0.5555 - accuracy: 0.8341 - val_loss: 0.5699 - val_accuracy: 0.8293\n",
            "Epoch 11/24\n",
            "3375/3375 [==============================] - 10s 3ms/step - loss: 0.5539 - accuracy: 0.8345 - val_loss: 0.5565 - val_accuracy: 0.8326\n",
            "Epoch 12/24\n",
            "3375/3375 [==============================] - 9s 3ms/step - loss: 0.5535 - accuracy: 0.8343 - val_loss: 0.5570 - val_accuracy: 0.8346\n",
            "Epoch 13/24\n",
            "3375/3375 [==============================] - 10s 3ms/step - loss: 0.5532 - accuracy: 0.8347 - val_loss: 0.5449 - val_accuracy: 0.8389\n",
            "Epoch 14/24\n",
            "3375/3375 [==============================] - 9s 3ms/step - loss: 0.5496 - accuracy: 0.8353 - val_loss: 0.5669 - val_accuracy: 0.8267\n",
            "Epoch 15/24\n",
            "3375/3375 [==============================] - 10s 3ms/step - loss: 0.5486 - accuracy: 0.8353 - val_loss: 0.5487 - val_accuracy: 0.8382\n",
            "Epoch 16/24\n",
            "3375/3375 [==============================] - 10s 3ms/step - loss: 0.5474 - accuracy: 0.8354 - val_loss: 0.5512 - val_accuracy: 0.8334\n",
            "Epoch 17/24\n",
            "3375/3375 [==============================] - 10s 3ms/step - loss: 0.5471 - accuracy: 0.8362 - val_loss: 0.5458 - val_accuracy: 0.8402\n",
            "Epoch 18/24\n",
            "3375/3375 [==============================] - 10s 3ms/step - loss: 0.5463 - accuracy: 0.8364 - val_loss: 0.5450 - val_accuracy: 0.8363\n",
            "Epoch 19/24\n",
            "3375/3375 [==============================] - 10s 3ms/step - loss: 0.5467 - accuracy: 0.8354 - val_loss: 0.5445 - val_accuracy: 0.8366\n",
            "Epoch 20/24\n",
            "3375/3375 [==============================] - 9s 3ms/step - loss: 0.5466 - accuracy: 0.8358 - val_loss: 0.5601 - val_accuracy: 0.8283\n",
            "Epoch 21/24\n",
            "3375/3375 [==============================] - 9s 3ms/step - loss: 0.5461 - accuracy: 0.8359 - val_loss: 0.5545 - val_accuracy: 0.8349\n",
            "Epoch 22/24\n",
            "3375/3375 [==============================] - 9s 3ms/step - loss: 0.5470 - accuracy: 0.8362 - val_loss: 0.5545 - val_accuracy: 0.8345\n",
            "Epoch 23/24\n",
            "3375/3375 [==============================] - 9s 3ms/step - loss: 0.5447 - accuracy: 0.8361 - val_loss: 0.5493 - val_accuracy: 0.8353\n",
            "Epoch 24/24\n",
            "3375/3375 [==============================] - 9s 3ms/step - loss: 0.5452 - accuracy: 0.8357 - val_loss: 0.5511 - val_accuracy: 0.8332\n",
            "Model Evaluation\n",
            "238/238 [==============================] - 1s 3ms/step - loss: 0.5619 - accuracy: 0.8305\n"
          ]
        },
        {
          "output_type": "display_data",
          "data": {
            "text/plain": [
              "<Figure size 576x360 with 1 Axes>"
            ],
            "image/png": "[encoded data removed]"
          },
          "metadata": {
            "needs_background": "light"
          }
        }
      ]
    },
    {
      "cell_type": "markdown",
      "metadata": {
        "id": "xvyKPb4DD25G"
      },
      "source": [
        "###[TO COMPLETE] Early stopping\n",
        "\n",
        "Early Stopping is a form of regularization used to avoid overfitting. It is designed to monitor the generalization error of one model and stop training when generalization error begins to degrade. In order to evaluate the generalization error, early stopping requires that a validation dataset is evaluated during training. Then, when the validation error does not improve for a specific number of epochs (`patience` hyper-parameter), it stops the training phase."
      ]
    },
    {
      "cell_type": "code",
      "metadata": {
        "id": "MqNOOZ11D7cq",
        "colab": {
          "base_uri": "https://localhost:8080/",
          "height": 677
        },
        "outputId": "fe70785a-3c9d-4115-8c44-3657b16718f9"
      },
      "source": [
        "#[TO COMPLETE] insert the model that you previously defined that overfit the \n",
        "#trainnig data\n",
        "model = keras.models.Sequential()\n",
        "\n",
        "model = keras.models.Sequential()\n",
        "model.add(tf.keras.Input(shape=(num_words,)))\n",
        "model.add(keras.layers.Dense(16, activation=\"relu\"))\n",
        "model.add(keras.layers.Dense(16, activation=\"relu\"))\n",
        "model.add(keras.layers.Dense(4, activation=\"softmax\"))\n",
        "\n",
        "\n",
        "model.compile(loss=\"sparse_categorical_crossentropy\",\n",
        "              optimizer=keras.optimizers.Adam(learning_rate=0.001),#[TO COMPLETE] learning rate\n",
        "\n",
        "              metrics=[\"accuracy\"])\n",
        "\n",
        "#Let's define a log dir in order to save the checkpoint file\n",
        "logdir = os.path.join(os.curdir, \"my_logs\", \"run_{}\".format(time.time()))\n",
        "\n",
        "#In Keras the early stopping is manage by using the callbacks argument.\n",
        "callbacks = [\n",
        "    keras.callbacks.TensorBoard(logdir),\n",
        "    keras.callbacks.EarlyStopping(patience=3),#[TO COMPLETE] play with patience and find the value that prevents the model from overfitting.\n",
        "\n",
        "\n",
        "    #Saving the checkpoints file allows to load the \"best\" model when the Early \n",
        "    #stopping detect that the generalization error degrade (after 'patience' epochs)\n",
        "    keras.callbacks.ModelCheckpoint(\"my_mnist_model.h5\", save_best_only=True),\n",
        "]\n",
        "\n",
        "history = model.fit(X_train, y_train, epochs=24,#[TO COMPLETE] epochs\n",
        "                    validation_data=(X_valid, y_valid),\n",
        "                    callbacks=callbacks)\n",
        "\n",
        "print(\"Model Evaluation\")\n",
        "#The early stopping stopped training after few epochs without progress, so your\n",
        "#model may already have started to overfit the training set. Since the \n",
        "#ModelCheckpoint callback only saved the best models (on the validation set) the\n",
        "#last saved model is the best on the validation set.\n",
        "model = keras.models.load_model(\"my_mnist_model.h5\")\n",
        "model.evaluate(X_test, y_test)\n",
        "plot_learning_curves(history)"
      ],
      "execution_count": 37,
      "outputs": [
        {
          "output_type": "stream",
          "name": "stdout",
          "text": [
            "Epoch 1/24\n",
            "3375/3375 [==============================] - 9s 3ms/step - loss: 0.4773 - accuracy: 0.8268 - val_loss: 0.4162 - val_accuracy: 0.8496\n",
            "Epoch 2/24\n",
            "3375/3375 [==============================] - 8s 3ms/step - loss: 0.3982 - accuracy: 0.8544 - val_loss: 0.4070 - val_accuracy: 0.8518\n",
            "Epoch 3/24\n",
            "3375/3375 [==============================] - 9s 3ms/step - loss: 0.3798 - accuracy: 0.8603 - val_loss: 0.3992 - val_accuracy: 0.8550\n",
            "Epoch 4/24\n",
            "3375/3375 [==============================] - 9s 3ms/step - loss: 0.3653 - accuracy: 0.8647 - val_loss: 0.3957 - val_accuracy: 0.8553\n",
            "Epoch 5/24\n",
            "3375/3375 [==============================] - 9s 3ms/step - loss: 0.3534 - accuracy: 0.8692 - val_loss: 0.3938 - val_accuracy: 0.8563\n",
            "Epoch 6/24\n",
            "3375/3375 [==============================] - 9s 3ms/step - loss: 0.3432 - accuracy: 0.8729 - val_loss: 0.3979 - val_accuracy: 0.8559\n",
            "Epoch 7/24\n",
            "3375/3375 [==============================] - 9s 3ms/step - loss: 0.3343 - accuracy: 0.8766 - val_loss: 0.4029 - val_accuracy: 0.8552\n",
            "Epoch 8/24\n",
            "3375/3375 [==============================] - 9s 3ms/step - loss: 0.3270 - accuracy: 0.8790 - val_loss: 0.3987 - val_accuracy: 0.8567\n",
            "Model Evaluation\n",
            "238/238 [==============================] - 1s 2ms/step - loss: 0.4023 - accuracy: 0.8514\n"
          ]
        },
        {
          "output_type": "display_data",
          "data": {
            "text/plain": [
              "<Figure size 576x360 with 1 Axes>"
            ],
            "image/png": "[encoded data removed]"
          },
          "metadata": {
            "needs_background": "light"
          }
        }
      ]
    },
    {
      "cell_type": "markdown",
      "metadata": {
        "id": "DCV8pwVzl9GK"
      },
      "source": [
        "\n",
        "## Exercise 2.3: Model Selection\n",
        "\n",
        "Hyperparameters are the parameters of the learning method itself which we have to specify a priori, i.e., before model fitting. In contrast, model parameters are parameters which arise as a result of the fit (the network weights). The aim of model selection is selecting the best hyperparameters for our deep network. Finding the right hyperparameters for a model can be crucial for the model performance on given data. For istance lets consider our model trained by using different values for the learning rate: "
      ]
    },
    {
      "cell_type": "code",
      "metadata": {
        "id": "Fw8Hs-AEmLKh"
      },
      "source": [
        "learning_rates = [1e-4, 1e-2, 1e-1]"
      ],
      "execution_count": 33,
      "outputs": []
    },
    {
      "cell_type": "code",
      "metadata": {
        "id": "mym4GOgUmWqD",
        "colab": {
          "base_uri": "https://localhost:8080/"
        },
        "outputId": "82340107-1011-412f-cee7-e16c1aaeee8f"
      },
      "source": [
        "histories = []\n",
        "for learning_rate in learning_rates:\n",
        "    model = keras.models.Sequential([\n",
        "                                    tf.keras.Input(shape=(num_words,)),\n",
        "                                    keras.layers.Dense(16, activation=\"relu\"),\n",
        "                                    keras.layers.Dense(16, activation=\"relu\"),\n",
        "                                    keras.layers.Dense(4, activation=\"softmax\")\n",
        "                                     ])\n",
        "    model.compile(loss=\"sparse_categorical_crossentropy\",\n",
        "              optimizer=keras.optimizers.Adam(learning_rate=learning_rate),\n",
        "              metrics=[\"accuracy\"])\n",
        "              \n",
        "    callbacks = [keras.callbacks.EarlyStopping(patience=2)]\n",
        "\n",
        "    history = model.fit(X_train, y_train,\n",
        "                        validation_data=(X_valid, y_valid), epochs=10,\n",
        "                        callbacks=callbacks)\n",
        "    histories.append(history)\n",
        "    print(\"evaluation on test set\")\n",
        "    model.evaluate(X_test, y_test)"
      ],
      "execution_count": 34,
      "outputs": [
        {
          "output_type": "stream",
          "name": "stdout",
          "text": [
            "Epoch 1/10\n",
            "3375/3375 [==============================] - 10s 3ms/step - loss: 0.8215 - accuracy: 0.7198 - val_loss: 0.5035 - val_accuracy: 0.8313\n",
            "Epoch 2/10\n",
            "3375/3375 [==============================] - 9s 3ms/step - loss: 0.4556 - accuracy: 0.8440 - val_loss: 0.4444 - val_accuracy: 0.8462\n",
            "Epoch 3/10\n",
            "3375/3375 [==============================] - 9s 3ms/step - loss: 0.4202 - accuracy: 0.8535 - val_loss: 0.4298 - val_accuracy: 0.8497\n",
            "Epoch 4/10\n",
            "3375/3375 [==============================] - 9s 3ms/step - loss: 0.4061 - accuracy: 0.8567 - val_loss: 0.4212 - val_accuracy: 0.8511\n",
            "Epoch 5/10\n",
            "3375/3375 [==============================] - 9s 3ms/step - loss: 0.3978 - accuracy: 0.8588 - val_loss: 0.4178 - val_accuracy: 0.8502\n",
            "Epoch 6/10\n",
            "3375/3375 [==============================] - 9s 3ms/step - loss: 0.3920 - accuracy: 0.8600 - val_loss: 0.4141 - val_accuracy: 0.8507\n",
            "Epoch 7/10\n",
            "3375/3375 [==============================] - 9s 3ms/step - loss: 0.3874 - accuracy: 0.8614 - val_loss: 0.4115 - val_accuracy: 0.8523\n",
            "Epoch 8/10\n",
            "3375/3375 [==============================] - 9s 3ms/step - loss: 0.3834 - accuracy: 0.8622 - val_loss: 0.4098 - val_accuracy: 0.8529\n",
            "Epoch 9/10\n",
            "3375/3375 [==============================] - 9s 3ms/step - loss: 0.3797 - accuracy: 0.8633 - val_loss: 0.4073 - val_accuracy: 0.8526\n",
            "Epoch 10/10\n",
            "3375/3375 [==============================] - 9s 3ms/step - loss: 0.3766 - accuracy: 0.8640 - val_loss: 0.4064 - val_accuracy: 0.8547\n",
            "evaluation on test set\n",
            "238/238 [==============================] - 1s 3ms/step - loss: 0.4154 - accuracy: 0.8467\n",
            "Epoch 1/10\n",
            "3375/3375 [==============================] - 10s 3ms/step - loss: 0.4621 - accuracy: 0.8324 - val_loss: 0.4357 - val_accuracy: 0.8451\n",
            "Epoch 2/10\n",
            "3375/3375 [==============================] - 10s 3ms/step - loss: 0.4080 - accuracy: 0.8517 - val_loss: 0.4198 - val_accuracy: 0.8491\n",
            "Epoch 3/10\n",
            "3375/3375 [==============================] - 10s 3ms/step - loss: 0.3874 - accuracy: 0.8595 - val_loss: 0.4153 - val_accuracy: 0.8503\n",
            "Epoch 4/10\n",
            "3375/3375 [==============================] - 9s 3ms/step - loss: 0.3714 - accuracy: 0.8647 - val_loss: 0.4207 - val_accuracy: 0.8509\n",
            "Epoch 5/10\n",
            "3375/3375 [==============================] - 9s 3ms/step - loss: 0.3593 - accuracy: 0.8693 - val_loss: 0.4309 - val_accuracy: 0.8462\n",
            "evaluation on test set\n",
            "238/238 [==============================] - 1s 2ms/step - loss: 0.4406 - accuracy: 0.8437\n",
            "Epoch 1/10\n",
            "3375/3375 [==============================] - 10s 3ms/step - loss: 0.6693 - accuracy: 0.7700 - val_loss: 0.6299 - val_accuracy: 0.7889\n",
            "Epoch 2/10\n",
            "3375/3375 [==============================] - 9s 3ms/step - loss: 0.8167 - accuracy: 0.6580 - val_loss: 0.8499 - val_accuracy: 0.6357\n",
            "Epoch 3/10\n",
            "3375/3375 [==============================] - 9s 3ms/step - loss: 0.8406 - accuracy: 0.6305 - val_loss: 0.9573 - val_accuracy: 0.5279\n",
            "evaluation on test set\n",
            "238/238 [==============================] - 1s 2ms/step - loss: 0.9477 - accuracy: 0.5259\n"
          ]
        }
      ]
    },
    {
      "cell_type": "markdown",
      "metadata": {
        "id": "RzTSjfwptkHJ"
      },
      "source": [
        "Let's plot the results"
      ]
    },
    {
      "cell_type": "code",
      "metadata": {
        "id": "cIlN1vlioIYh",
        "colab": {
          "base_uri": "https://localhost:8080/",
          "height": 980
        },
        "outputId": "41596e86-9c0c-4cc3-a538-acac96e2571f"
      },
      "source": [
        "for learning_rate, history in zip(learning_rates, histories):\n",
        "    print(\"Learning rate:\", learning_rate)\n",
        "    plot_learning_acc_and_loss(history)"
      ],
      "execution_count": 35,
      "outputs": [
        {
          "output_type": "stream",
          "name": "stdout",
          "text": [
            "Learning rate: 0.0001\n"
          ]
        },
        {
          "output_type": "display_data",
          "data": {
            "text/plain": [
              "<Figure size 576x360 with 1 Axes>"
            ],
            "image/png": "[encoded data removed]"
          },
          "metadata": {
            "needs_background": "light"
          }
        },
        {
          "output_type": "stream",
          "name": "stdout",
          "text": [
            "Learning rate: 0.01\n"
          ]
        },
        {
          "output_type": "display_data",
          "data": {
            "text/plain": [
              "<Figure size 576x360 with 1 Axes>"
            ],
            "image/png": "[encoded data removed]"
          },
          "metadata": {
            "needs_background": "light"
          }
        },
        {
          "output_type": "stream",
          "name": "stdout",
          "text": [
            "Learning rate: 0.1\n"
          ]
        },
        {
          "output_type": "display_data",
          "data": {
            "text/plain": [
              "<Figure size 576x360 with 1 Axes>"
            ],
            "image/png": "[encoded data removed]"
          },
          "metadata": {
            "needs_background": "light"
          }
        }
      ]
    },
    {
      "cell_type": "markdown",
      "metadata": {
        "id": "_JntujSWq3e5"
      },
      "source": [
        "### [TO COMPLETE] GRID Search:\n",
        "\n",
        "Since a deep net has many hyperparameters, in order to find the best ones, we have to consider all the possible combinations of all of the possible values. One common method to perform this complex task is Grid-Search.\n",
        "Given a set of values for each hyper-parameter, Grid-Search will build a model on each parameter combination possible. It iterates through every parameter combination and stores a model for each combination. Finally, the model that obtained the best result on the validation set will be select.\n",
        "\n",
        "In order to perfrom Grid-Search we will use the `GridSearchCV` class from `scikit-learn`."
      ]
    },
    {
      "cell_type": "markdown",
      "metadata": {
        "id": "CPz629YSrDhN"
      },
      "source": [
        "Let's Create a `build_model()` function that takes two arguments, `n_neurons` and `learning_rate`, and builds, compiles and returns a model with the given number of of neurons and the given learning rate.\n",
        "In order to limit the time requirements of the process we will consider only these two hyper-paramters.\n",
        "\n",
        "[TO COMPLETE] in the following code cell define the `build_model` function."
      ]
    },
    {
      "cell_type": "code",
      "metadata": {
        "id": "oGSKWTTtqxZ4",
        "colab": {
          "base_uri": "https://localhost:8080/"
        },
        "outputId": "c12c3acd-8050-457c-eb36-abe087f78e93"
      },
      "source": [
        "def build_model(n_units=30, learning_rate=1e-3):\n",
        "    # The function has to build a model similar to the ones we used in previuous execises:\n",
        "    #- a input layer \n",
        "    #- one or two Dense layers composed of n_units and that exploit Relu activation function \n",
        "    #- the output layer that uses the softmax activation function\n",
        "    # Then, the model has to be compiled.\n",
        "\n",
        "    model = keras.models.Sequential([\n",
        "                                    tf.keras.Input(shape=(num_words,)),\n",
        "                                    keras.layers.Dense(n_units, activation=\"relu\"),\n",
        "                                    keras.layers.Dense(n_units, activation=\"relu\"),\n",
        "                                    keras.layers.Dense(4, activation=\"softmax\")\n",
        "                                     ])\n",
        "    \n",
        "    # [TO COMPLETE] Then, the model has to be compiled.\n",
        "    model.compile(loss=\"sparse_categorical_crossentropy\",\n",
        "              optimizer=keras.optimizers.Adam(learning_rate=learning_rate),\n",
        "              metrics=[\"accuracy\"])\n",
        "    \n",
        "    \n",
        "\n",
        "    \n",
        "    return model\n",
        "\n",
        "    \n",
        "#Create a keras.wrappers.scikit_learn.KerasRegressor and pass the build_model \n",
        "#function to the constructor. This gives you a Scikit-Learn compatible predictor\n",
        "keras_reg = keras.wrappers.scikit_learn.KerasRegressor(build_model)"
      ],
      "execution_count": 38,
      "outputs": [
        {
          "output_type": "stream",
          "name": "stderr",
          "text": [
            "/usr/local/lib/python3.7/dist-packages/ipykernel_launcher.py:28: DeprecationWarning: KerasRegressor is deprecated, use Sci-Keras (https://github.com/adriangb/scikeras) instead. See https://www.adriangb.com/scikeras/stable/migration.html for help migrating.\n"
          ]
        }
      ]
    },
    {
      "cell_type": "markdown",
      "metadata": {
        "id": "PS6W3A2LxDg5"
      },
      "source": [
        "Let's define the lists of hyper-parameters' values. Also in this case, we use a very limited size lists, but in a real-world scenario a reasonable amount of possible values should be considered (try to add some values and check how much the time required to perform the Grid-Search increases)"
      ]
    },
    {
      "cell_type": "code",
      "metadata": {
        "id": "y-uldCW3ru24"
      },
      "source": [
        "param_distribs = {\n",
        "    \"n_units\": [16,32, 64],# [TO COMPLETE] insert a list that contains few (2 or 3) reasonable value\n",
        "    \"learning_rate\": [1e-4, 1e-2, 1e-1] #[TO COMPLETE] insert a list that contains few (2 or 3) reasonable values\n",
        "    #Check how the time required to perform GRID search increases when increasing the number of values for each hyper-parameter.\n",
        "}"
      ],
      "execution_count": 39,
      "outputs": []
    },
    {
      "cell_type": "markdown",
      "metadata": {
        "id": "bEiBxVYtx_sK"
      },
      "source": [
        "Use a `sklearn.model_selection.GridSearchCV` to search the hyperparameter space of your `KerasRegressor`"
      ]
    },
    {
      "cell_type": "code",
      "metadata": {
        "id": "iobF2Bvdr9ER"
      },
      "source": [
        "from sklearn.model_selection import GridSearchCV\n",
        "\n",
        "grid_search = GridSearchCV(keras_reg, param_distribs)"
      ],
      "execution_count": 40,
      "outputs": []
    },
    {
      "cell_type": "markdown",
      "metadata": {
        "id": "LVGMcZz_yKSX"
      },
      "source": [
        "Run the Grid-Search"
      ]
    },
    {
      "cell_type": "code",
      "metadata": {
        "id": "-BA3vgTjr-hw",
        "colab": {
          "base_uri": "https://localhost:8080/"
        },
        "outputId": "43cf59f4-ddeb-4a60-c227-95a6417581a7"
      },
      "source": [
        "\n",
        "grid_search.fit(X_train.numpy(), y_train.numpy(), epochs=5,#The number of epochs can be modified (check what happens by increasing it)\n",
        "                validation_data=(X_valid.numpy(), y_valid.numpy()))"
      ],
      "execution_count": 41,
      "outputs": [
        {
          "output_type": "stream",
          "name": "stdout",
          "text": [
            "Epoch 1/5\n",
            "2700/2700 [==============================] - 8s 3ms/step - loss: 0.8623 - accuracy: 0.6948 - val_loss: 0.5476 - val_accuracy: 0.8214\n",
            "Epoch 2/5\n",
            "2700/2700 [==============================] - 8s 3ms/step - loss: 0.4877 - accuracy: 0.8366 - val_loss: 0.4671 - val_accuracy: 0.8410\n",
            "Epoch 3/5\n",
            "2700/2700 [==============================] - 8s 3ms/step - loss: 0.4393 - accuracy: 0.8489 - val_loss: 0.4436 - val_accuracy: 0.8464\n",
            "Epoch 4/5\n",
            "2700/2700 [==============================] - 8s 3ms/step - loss: 0.4186 - accuracy: 0.8549 - val_loss: 0.4308 - val_accuracy: 0.8505\n",
            "Epoch 5/5\n",
            "2700/2700 [==============================] - 8s 3ms/step - loss: 0.4065 - accuracy: 0.8577 - val_loss: 0.4243 - val_accuracy: 0.8520\n",
            "675/675 [==============================] - 1s 2ms/step - loss: 0.4100 - accuracy: 0.8554\n",
            "Epoch 1/5\n",
            "2700/2700 [==============================] - 8s 3ms/step - loss: 0.8945 - accuracy: 0.6868 - val_loss: 0.5696 - val_accuracy: 0.8173\n",
            "Epoch 2/5\n",
            "2700/2700 [==============================] - 8s 3ms/step - loss: 0.4926 - accuracy: 0.8374 - val_loss: 0.4663 - val_accuracy: 0.8402\n",
            "Epoch 3/5\n",
            "2700/2700 [==============================] - 8s 3ms/step - loss: 0.4361 - accuracy: 0.8502 - val_loss: 0.4433 - val_accuracy: 0.8465\n",
            "Epoch 4/5\n",
            "2700/2700 [==============================] - 8s 3ms/step - loss: 0.4166 - accuracy: 0.8549 - val_loss: 0.4326 - val_accuracy: 0.8491\n",
            "Epoch 5/5\n",
            "2700/2700 [==============================] - 7s 3ms/step - loss: 0.4062 - accuracy: 0.8573 - val_loss: 0.4276 - val_accuracy: 0.8488\n",
            "675/675 [==============================] - 1s 2ms/step - loss: 0.4210 - accuracy: 0.8506\n",
            "Epoch 1/5\n",
            "2700/2700 [==============================] - 7s 3ms/step - loss: 0.8856 - accuracy: 0.6806 - val_loss: 0.5353 - val_accuracy: 0.8246\n",
            "Epoch 2/5\n",
            "2700/2700 [==============================] - 8s 3ms/step - loss: 0.4688 - accuracy: 0.8419 - val_loss: 0.4562 - val_accuracy: 0.8436\n",
            "Epoch 3/5\n",
            "2700/2700 [==============================] - 7s 3ms/step - loss: 0.4240 - accuracy: 0.8529 - val_loss: 0.4372 - val_accuracy: 0.8481\n",
            "Epoch 4/5\n",
            "2700/2700 [==============================] - 7s 3ms/step - loss: 0.4070 - accuracy: 0.8581 - val_loss: 0.4282 - val_accuracy: 0.8499\n",
            "Epoch 5/5\n",
            "2700/2700 [==============================] - 7s 3ms/step - loss: 0.3976 - accuracy: 0.8598 - val_loss: 0.4226 - val_accuracy: 0.8518\n",
            "675/675 [==============================] - 1s 2ms/step - loss: 0.4290 - accuracy: 0.8450\n",
            "Epoch 1/5\n",
            "2700/2700 [==============================] - 9s 3ms/step - loss: 0.9239 - accuracy: 0.6600 - val_loss: 0.5649 - val_accuracy: 0.8176\n",
            "Epoch 2/5\n",
            "2700/2700 [==============================] - 8s 3ms/step - loss: 0.4931 - accuracy: 0.8343 - val_loss: 0.4686 - val_accuracy: 0.8405\n",
            "Epoch 3/5\n",
            "2700/2700 [==============================] - 8s 3ms/step - loss: 0.4403 - accuracy: 0.8475 - val_loss: 0.4462 - val_accuracy: 0.8469\n",
            "Epoch 4/5\n",
            "2700/2700 [==============================] - 7s 3ms/step - loss: 0.4212 - accuracy: 0.8530 - val_loss: 0.4358 - val_accuracy: 0.8487\n",
            "Epoch 5/5\n",
            "2700/2700 [==============================] - 8s 3ms/step - loss: 0.4107 - accuracy: 0.8556 - val_loss: 0.4291 - val_accuracy: 0.8500\n",
            "675/675 [==============================] - 1s 2ms/step - loss: 0.4161 - accuracy: 0.8559\n",
            "Epoch 1/5\n",
            "2700/2700 [==============================] - 8s 3ms/step - loss: 0.9075 - accuracy: 0.6721 - val_loss: 0.5442 - val_accuracy: 0.8255\n",
            "Epoch 2/5\n",
            "2700/2700 [==============================] - 8s 3ms/step - loss: 0.4766 - accuracy: 0.8413 - val_loss: 0.4627 - val_accuracy: 0.8425\n",
            "Epoch 3/5\n",
            "2700/2700 [==============================] - 8s 3ms/step - loss: 0.4314 - accuracy: 0.8516 - val_loss: 0.4444 - val_accuracy: 0.8489\n",
            "Epoch 4/5\n",
            "2700/2700 [==============================] - 8s 3ms/step - loss: 0.4149 - accuracy: 0.8555 - val_loss: 0.4362 - val_accuracy: 0.8503\n",
            "Epoch 5/5\n",
            "2700/2700 [==============================] - 7s 3ms/step - loss: 0.4061 - accuracy: 0.8573 - val_loss: 0.4318 - val_accuracy: 0.8484\n",
            "675/675 [==============================] - 1s 2ms/step - loss: 0.4296 - accuracy: 0.8494\n",
            "Epoch 1/5\n",
            "2700/2700 [==============================] - 21s 4ms/step - loss: 0.7646 - accuracy: 0.7356 - val_loss: 0.4826 - val_accuracy: 0.8365\n",
            "Epoch 2/5\n",
            "2700/2700 [==============================] - 9s 3ms/step - loss: 0.4444 - accuracy: 0.8478 - val_loss: 0.4376 - val_accuracy: 0.8465\n",
            "Epoch 3/5\n",
            "2700/2700 [==============================] - 9s 3ms/step - loss: 0.4151 - accuracy: 0.8547 - val_loss: 0.4267 - val_accuracy: 0.8506\n",
            "Epoch 4/5\n",
            "2700/2700 [==============================] - 9s 3ms/step - loss: 0.4025 - accuracy: 0.8575 - val_loss: 0.4192 - val_accuracy: 0.8505\n",
            "Epoch 5/5\n",
            "2700/2700 [==============================] - 8s 3ms/step - loss: 0.3946 - accuracy: 0.8595 - val_loss: 0.4161 - val_accuracy: 0.8506\n",
            "675/675 [==============================] - 1s 2ms/step - loss: 0.4053 - accuracy: 0.8569\n",
            "Epoch 1/5\n",
            "2700/2700 [==============================] - 9s 3ms/step - loss: 0.7809 - accuracy: 0.7238 - val_loss: 0.4836 - val_accuracy: 0.8365\n",
            "Epoch 2/5\n",
            "2700/2700 [==============================] - 8s 3ms/step - loss: 0.4421 - accuracy: 0.8477 - val_loss: 0.4418 - val_accuracy: 0.8487\n",
            "Epoch 3/5\n",
            "2700/2700 [==============================] - 9s 3ms/step - loss: 0.4138 - accuracy: 0.8547 - val_loss: 0.4312 - val_accuracy: 0.8512\n",
            "Epoch 4/5\n",
            "2700/2700 [==============================] - 9s 3ms/step - loss: 0.4016 - accuracy: 0.8580 - val_loss: 0.4244 - val_accuracy: 0.8520\n",
            "Epoch 5/5\n",
            "2700/2700 [==============================] - 9s 3ms/step - loss: 0.3938 - accuracy: 0.8600 - val_loss: 0.4205 - val_accuracy: 0.8524\n",
            "675/675 [==============================] - 1s 2ms/step - loss: 0.4126 - accuracy: 0.8524\n",
            "Epoch 1/5\n",
            "2700/2700 [==============================] - 9s 3ms/step - loss: 0.7730 - accuracy: 0.7287 - val_loss: 0.4817 - val_accuracy: 0.8348\n",
            "Epoch 2/5\n",
            "2700/2700 [==============================] - 8s 3ms/step - loss: 0.4393 - accuracy: 0.8484 - val_loss: 0.4393 - val_accuracy: 0.8468\n",
            "Epoch 3/5\n",
            "2700/2700 [==============================] - 9s 3ms/step - loss: 0.4117 - accuracy: 0.8555 - val_loss: 0.4298 - val_accuracy: 0.8487\n",
            "Epoch 4/5\n",
            "2700/2700 [==============================] - 9s 3ms/step - loss: 0.4001 - accuracy: 0.8586 - val_loss: 0.4251 - val_accuracy: 0.8472\n",
            "Epoch 5/5\n",
            "2700/2700 [==============================] - 9s 3ms/step - loss: 0.3929 - accuracy: 0.8605 - val_loss: 0.4206 - val_accuracy: 0.8504\n",
            "675/675 [==============================] - 1s 2ms/step - loss: 0.4267 - accuracy: 0.8458\n",
            "Epoch 1/5\n",
            "2700/2700 [==============================] - 10s 3ms/step - loss: 0.7645 - accuracy: 0.7310 - val_loss: 0.4798 - val_accuracy: 0.8362\n",
            "Epoch 2/5\n",
            "2700/2700 [==============================] - 9s 3ms/step - loss: 0.4418 - accuracy: 0.8462 - val_loss: 0.4374 - val_accuracy: 0.8482\n",
            "Epoch 3/5\n",
            "2700/2700 [==============================] - 9s 3ms/step - loss: 0.4135 - accuracy: 0.8540 - val_loss: 0.4266 - val_accuracy: 0.8517\n",
            "Epoch 4/5\n",
            "2700/2700 [==============================] - 9s 3ms/step - loss: 0.4016 - accuracy: 0.8572 - val_loss: 0.4223 - val_accuracy: 0.8517\n",
            "Epoch 5/5\n",
            "2700/2700 [==============================] - 8s 3ms/step - loss: 0.3945 - accuracy: 0.8589 - val_loss: 0.4164 - val_accuracy: 0.8533\n",
            "675/675 [==============================] - 1s 2ms/step - loss: 0.4062 - accuracy: 0.8559\n",
            "Epoch 1/5\n",
            "2700/2700 [==============================] - 9s 3ms/step - loss: 0.7855 - accuracy: 0.7203 - val_loss: 0.4843 - val_accuracy: 0.8366\n",
            "Epoch 2/5\n",
            "2700/2700 [==============================] - 8s 3ms/step - loss: 0.4422 - accuracy: 0.8481 - val_loss: 0.4375 - val_accuracy: 0.8478\n",
            "Epoch 3/5\n",
            "2700/2700 [==============================] - 9s 3ms/step - loss: 0.4118 - accuracy: 0.8556 - val_loss: 0.4255 - val_accuracy: 0.8500\n",
            "Epoch 4/5\n",
            "2700/2700 [==============================] - 9s 3ms/step - loss: 0.3988 - accuracy: 0.8582 - val_loss: 0.4202 - val_accuracy: 0.8521\n",
            "Epoch 5/5\n",
            "2700/2700 [==============================] - 9s 3ms/step - loss: 0.3909 - accuracy: 0.8602 - val_loss: 0.4163 - val_accuracy: 0.8522\n",
            "675/675 [==============================] - 1s 2ms/step - loss: 0.4173 - accuracy: 0.8524\n",
            "Epoch 1/5\n",
            "2700/2700 [==============================] - 11s 4ms/step - loss: 0.6808 - accuracy: 0.7579 - val_loss: 0.4558 - val_accuracy: 0.8418\n",
            "Epoch 2/5\n",
            "2700/2700 [==============================] - 10s 4ms/step - loss: 0.4251 - accuracy: 0.8516 - val_loss: 0.4295 - val_accuracy: 0.8497\n",
            "Epoch 3/5\n",
            "2700/2700 [==============================] - 10s 4ms/step - loss: 0.4048 - accuracy: 0.8572 - val_loss: 0.4241 - val_accuracy: 0.8511\n",
            "Epoch 4/5\n",
            "2700/2700 [==============================] - 11s 4ms/step - loss: 0.3946 - accuracy: 0.8596 - val_loss: 0.4184 - val_accuracy: 0.8518\n",
            "Epoch 5/5\n",
            "2700/2700 [==============================] - 11s 4ms/step - loss: 0.3865 - accuracy: 0.8613 - val_loss: 0.4153 - val_accuracy: 0.8532\n",
            "675/675 [==============================] - 1s 2ms/step - loss: 0.4010 - accuracy: 0.8556\n",
            "Epoch 1/5\n",
            "2700/2700 [==============================] - 11s 4ms/step - loss: 0.6794 - accuracy: 0.7601 - val_loss: 0.4538 - val_accuracy: 0.8434\n",
            "Epoch 2/5\n",
            "2700/2700 [==============================] - 10s 4ms/step - loss: 0.4224 - accuracy: 0.8527 - val_loss: 0.4287 - val_accuracy: 0.8492\n",
            "Epoch 3/5\n",
            "2700/2700 [==============================] - 10s 4ms/step - loss: 0.4025 - accuracy: 0.8579 - val_loss: 0.4234 - val_accuracy: 0.8496\n",
            "Epoch 4/5\n",
            "2700/2700 [==============================] - 10s 4ms/step - loss: 0.3927 - accuracy: 0.8602 - val_loss: 0.4178 - val_accuracy: 0.8497\n",
            "Epoch 5/5\n",
            "2700/2700 [==============================] - 11s 4ms/step - loss: 0.3854 - accuracy: 0.8617 - val_loss: 0.4151 - val_accuracy: 0.8506\n",
            "675/675 [==============================] - 2s 2ms/step - loss: 0.4088 - accuracy: 0.8517\n",
            "Epoch 1/5\n",
            "2700/2700 [==============================] - 11s 4ms/step - loss: 0.6752 - accuracy: 0.7632 - val_loss: 0.4561 - val_accuracy: 0.8456\n",
            "Epoch 2/5\n",
            "2700/2700 [==============================] - 10s 4ms/step - loss: 0.4213 - accuracy: 0.8532 - val_loss: 0.4301 - val_accuracy: 0.8489\n",
            "Epoch 3/5\n",
            "2700/2700 [==============================] - 11s 4ms/step - loss: 0.4015 - accuracy: 0.8582 - val_loss: 0.4232 - val_accuracy: 0.8506\n",
            "Epoch 4/5\n",
            "2700/2700 [==============================] - 10s 4ms/step - loss: 0.3911 - accuracy: 0.8614 - val_loss: 0.4200 - val_accuracy: 0.8487\n",
            "Epoch 5/5\n",
            "2700/2700 [==============================] - 10s 4ms/step - loss: 0.3834 - accuracy: 0.8633 - val_loss: 0.4144 - val_accuracy: 0.8523\n",
            "675/675 [==============================] - 2s 3ms/step - loss: 0.4234 - accuracy: 0.8476\n",
            "Epoch 1/5\n",
            "2700/2700 [==============================] - 11s 4ms/step - loss: 0.6794 - accuracy: 0.7606 - val_loss: 0.4539 - val_accuracy: 0.8429\n",
            "Epoch 2/5\n",
            "2700/2700 [==============================] - 10s 4ms/step - loss: 0.4238 - accuracy: 0.8512 - val_loss: 0.4283 - val_accuracy: 0.8489\n",
            "Epoch 3/5\n",
            "2700/2700 [==============================] - 10s 4ms/step - loss: 0.4037 - accuracy: 0.8556 - val_loss: 0.4217 - val_accuracy: 0.8515\n",
            "Epoch 4/5\n",
            "2700/2700 [==============================] - 10s 4ms/step - loss: 0.3934 - accuracy: 0.8590 - val_loss: 0.4198 - val_accuracy: 0.8507\n",
            "Epoch 5/5\n",
            "2700/2700 [==============================] - 10s 4ms/step - loss: 0.3857 - accuracy: 0.8612 - val_loss: 0.4138 - val_accuracy: 0.8519\n",
            "675/675 [==============================] - 1s 2ms/step - loss: 0.4023 - accuracy: 0.8563\n",
            "Epoch 1/5\n",
            "2700/2700 [==============================] - 12s 4ms/step - loss: 0.6808 - accuracy: 0.7658 - val_loss: 0.4593 - val_accuracy: 0.8420\n",
            "Epoch 2/5\n",
            "2700/2700 [==============================] - 10s 4ms/step - loss: 0.4225 - accuracy: 0.8522 - val_loss: 0.4328 - val_accuracy: 0.8475\n",
            "Epoch 3/5\n",
            "2700/2700 [==============================] - 10s 4ms/step - loss: 0.4022 - accuracy: 0.8580 - val_loss: 0.4242 - val_accuracy: 0.8502\n",
            "Epoch 4/5\n",
            "2700/2700 [==============================] - 10s 4ms/step - loss: 0.3914 - accuracy: 0.8601 - val_loss: 0.4192 - val_accuracy: 0.8509\n",
            "Epoch 5/5\n",
            "2700/2700 [==============================] - 9s 4ms/step - loss: 0.3836 - accuracy: 0.8624 - val_loss: 0.4153 - val_accuracy: 0.8510\n",
            "675/675 [==============================] - 1s 2ms/step - loss: 0.4164 - accuracy: 0.8521\n",
            "Epoch 1/5\n",
            "2700/2700 [==============================] - 9s 3ms/step - loss: 0.4763 - accuracy: 0.8257 - val_loss: 0.4484 - val_accuracy: 0.8390\n",
            "Epoch 2/5\n",
            "2700/2700 [==============================] - 8s 3ms/step - loss: 0.4113 - accuracy: 0.8508 - val_loss: 0.4318 - val_accuracy: 0.8474\n",
            "Epoch 3/5\n",
            "2700/2700 [==============================] - 8s 3ms/step - loss: 0.3865 - accuracy: 0.8602 - val_loss: 0.4302 - val_accuracy: 0.8482\n",
            "Epoch 4/5\n",
            "2700/2700 [==============================] - 9s 3ms/step - loss: 0.3699 - accuracy: 0.8671 - val_loss: 0.4311 - val_accuracy: 0.8508\n",
            "Epoch 5/5\n",
            "2700/2700 [==============================] - 9s 3ms/step - loss: 0.3557 - accuracy: 0.8711 - val_loss: 0.4447 - val_accuracy: 0.8464\n",
            "675/675 [==============================] - 1s 2ms/step - loss: 0.4299 - accuracy: 0.8514\n",
            "Epoch 1/5\n",
            "2700/2700 [==============================] - 9s 3ms/step - loss: 0.4713 - accuracy: 0.8285 - val_loss: 0.4353 - val_accuracy: 0.8450\n",
            "Epoch 2/5\n",
            "2700/2700 [==============================] - 8s 3ms/step - loss: 0.4102 - accuracy: 0.8514 - val_loss: 0.4317 - val_accuracy: 0.8456\n",
            "Epoch 3/5\n",
            "2700/2700 [==============================] - 8s 3ms/step - loss: 0.3880 - accuracy: 0.8593 - val_loss: 0.4301 - val_accuracy: 0.8499\n",
            "Epoch 4/5\n",
            "2700/2700 [==============================] - 8s 3ms/step - loss: 0.3719 - accuracy: 0.8652 - val_loss: 0.4277 - val_accuracy: 0.8499\n",
            "Epoch 5/5\n",
            "2700/2700 [==============================] - 9s 3ms/step - loss: 0.3569 - accuracy: 0.8699 - val_loss: 0.4329 - val_accuracy: 0.8473\n",
            "675/675 [==============================] - 1s 2ms/step - loss: 0.4282 - accuracy: 0.8483\n",
            "Epoch 1/5\n",
            "2700/2700 [==============================] - 8s 3ms/step - loss: 0.4681 - accuracy: 0.8308 - val_loss: 0.4332 - val_accuracy: 0.8462\n",
            "Epoch 2/5\n",
            "2700/2700 [==============================] - 8s 3ms/step - loss: 0.4056 - accuracy: 0.8522 - val_loss: 0.4183 - val_accuracy: 0.8510\n",
            "Epoch 3/5\n",
            "2700/2700 [==============================] - 8s 3ms/step - loss: 0.3829 - accuracy: 0.8604 - val_loss: 0.4167 - val_accuracy: 0.8522\n",
            "Epoch 4/5\n",
            "2700/2700 [==============================] - 8s 3ms/step - loss: 0.3645 - accuracy: 0.8679 - val_loss: 0.4187 - val_accuracy: 0.8525\n",
            "Epoch 5/5\n",
            "2700/2700 [==============================] - 8s 3ms/step - loss: 0.3491 - accuracy: 0.8730 - val_loss: 0.4401 - val_accuracy: 0.8514\n",
            "675/675 [==============================] - 1s 2ms/step - loss: 0.4461 - accuracy: 0.8450\n",
            "Epoch 1/5\n",
            "2700/2700 [==============================] - 9s 3ms/step - loss: 0.4736 - accuracy: 0.8277 - val_loss: 0.4519 - val_accuracy: 0.8348\n",
            "Epoch 2/5\n",
            "2700/2700 [==============================] - 8s 3ms/step - loss: 0.4117 - accuracy: 0.8496 - val_loss: 0.4204 - val_accuracy: 0.8487\n",
            "Epoch 3/5\n",
            "2700/2700 [==============================] - 8s 3ms/step - loss: 0.3890 - accuracy: 0.8585 - val_loss: 0.4166 - val_accuracy: 0.8520\n",
            "Epoch 4/5\n",
            "2700/2700 [==============================] - 8s 3ms/step - loss: 0.3739 - accuracy: 0.8641 - val_loss: 0.4211 - val_accuracy: 0.8480\n",
            "Epoch 5/5\n",
            "2700/2700 [==============================] - 8s 3ms/step - loss: 0.3602 - accuracy: 0.8687 - val_loss: 0.4157 - val_accuracy: 0.8480\n",
            "675/675 [==============================] - 1s 2ms/step - loss: 0.4134 - accuracy: 0.8558\n",
            "Epoch 1/5\n",
            "2700/2700 [==============================] - 9s 3ms/step - loss: 0.4707 - accuracy: 0.8302 - val_loss: 0.4380 - val_accuracy: 0.8404\n",
            "Epoch 2/5\n",
            "2700/2700 [==============================] - 8s 3ms/step - loss: 0.4089 - accuracy: 0.8511 - val_loss: 0.4278 - val_accuracy: 0.8459\n",
            "Epoch 3/5\n",
            "2700/2700 [==============================] - 8s 3ms/step - loss: 0.3871 - accuracy: 0.8592 - val_loss: 0.4121 - val_accuracy: 0.8551\n",
            "Epoch 4/5\n",
            "2700/2700 [==============================] - 8s 3ms/step - loss: 0.3700 - accuracy: 0.8674 - val_loss: 0.4260 - val_accuracy: 0.8487\n",
            "Epoch 5/5\n",
            "2700/2700 [==============================] - 8s 3ms/step - loss: 0.3563 - accuracy: 0.8710 - val_loss: 0.4278 - val_accuracy: 0.8506\n",
            "675/675 [==============================] - 1s 2ms/step - loss: 0.4324 - accuracy: 0.8473\n",
            "Epoch 1/5\n",
            "2700/2700 [==============================] - 12s 4ms/step - loss: 0.4760 - accuracy: 0.8280 - val_loss: 0.4630 - val_accuracy: 0.8339\n",
            "Epoch 2/5\n",
            "2700/2700 [==============================] - 9s 3ms/step - loss: 0.4078 - accuracy: 0.8533 - val_loss: 0.4299 - val_accuracy: 0.8487\n",
            "Epoch 3/5\n",
            "2700/2700 [==============================] - 9s 3ms/step - loss: 0.3765 - accuracy: 0.8636 - val_loss: 0.4405 - val_accuracy: 0.8486\n",
            "Epoch 4/5\n",
            "2700/2700 [==============================] - 8s 3ms/step - loss: 0.3527 - accuracy: 0.8733 - val_loss: 0.4339 - val_accuracy: 0.8497\n",
            "Epoch 5/5\n",
            "2700/2700 [==============================] - 9s 3ms/step - loss: 0.3290 - accuracy: 0.8798 - val_loss: 0.4437 - val_accuracy: 0.8452\n",
            "675/675 [==============================] - 1s 2ms/step - loss: 0.4267 - accuracy: 0.8483\n",
            "Epoch 1/5\n",
            "2700/2700 [==============================] - 10s 4ms/step - loss: 0.4701 - accuracy: 0.8287 - val_loss: 0.4350 - val_accuracy: 0.8450\n",
            "Epoch 2/5\n",
            "2700/2700 [==============================] - 10s 4ms/step - loss: 0.4036 - accuracy: 0.8542 - val_loss: 0.4346 - val_accuracy: 0.8435\n",
            "Epoch 3/5\n",
            "2700/2700 [==============================] - 9s 3ms/step - loss: 0.3704 - accuracy: 0.8655 - val_loss: 0.4329 - val_accuracy: 0.8489\n",
            "Epoch 4/5\n",
            "2700/2700 [==============================] - 9s 3ms/step - loss: 0.3445 - accuracy: 0.8753 - val_loss: 0.4328 - val_accuracy: 0.8445\n",
            "Epoch 5/5\n",
            "2700/2700 [==============================] - 9s 3ms/step - loss: 0.3215 - accuracy: 0.8830 - val_loss: 0.4505 - val_accuracy: 0.8427\n",
            "675/675 [==============================] - 2s 2ms/step - loss: 0.4407 - accuracy: 0.8443\n",
            "Epoch 1/5\n",
            "2700/2700 [==============================] - 10s 4ms/step - loss: 0.4688 - accuracy: 0.8311 - val_loss: 0.4356 - val_accuracy: 0.8447\n",
            "Epoch 2/5\n",
            "2700/2700 [==============================] - 9s 3ms/step - loss: 0.4017 - accuracy: 0.8542 - val_loss: 0.4197 - val_accuracy: 0.8514\n",
            "Epoch 3/5\n",
            "2700/2700 [==============================] - 9s 3ms/step - loss: 0.3700 - accuracy: 0.8673 - val_loss: 0.4258 - val_accuracy: 0.8503\n",
            "Epoch 4/5\n",
            "2700/2700 [==============================] - 9s 3ms/step - loss: 0.3421 - accuracy: 0.8762 - val_loss: 0.4291 - val_accuracy: 0.8515\n",
            "Epoch 5/5\n",
            "2700/2700 [==============================] - 9s 3ms/step - loss: 0.3189 - accuracy: 0.8836 - val_loss: 0.4395 - val_accuracy: 0.8528\n",
            "675/675 [==============================] - 1s 2ms/step - loss: 0.4546 - accuracy: 0.8440\n",
            "Epoch 1/5\n",
            "2700/2700 [==============================] - 10s 3ms/step - loss: 0.4742 - accuracy: 0.8272 - val_loss: 0.4464 - val_accuracy: 0.8382\n",
            "Epoch 2/5\n",
            "2700/2700 [==============================] - 9s 3ms/step - loss: 0.4074 - accuracy: 0.8524 - val_loss: 0.4242 - val_accuracy: 0.8466\n",
            "Epoch 3/5\n",
            "2700/2700 [==============================] - 9s 3ms/step - loss: 0.3741 - accuracy: 0.8658 - val_loss: 0.4287 - val_accuracy: 0.8506\n",
            "Epoch 4/5\n",
            "2700/2700 [==============================] - 9s 3ms/step - loss: 0.3479 - accuracy: 0.8757 - val_loss: 0.4247 - val_accuracy: 0.8512\n",
            "Epoch 5/5\n",
            "2700/2700 [==============================] - 9s 3ms/step - loss: 0.3232 - accuracy: 0.8842 - val_loss: 0.4333 - val_accuracy: 0.8503\n",
            "675/675 [==============================] - 1s 2ms/step - loss: 0.4345 - accuracy: 0.8484\n",
            "Epoch 1/5\n",
            "2700/2700 [==============================] - 10s 3ms/step - loss: 0.4719 - accuracy: 0.8304 - val_loss: 0.4302 - val_accuracy: 0.8461\n",
            "Epoch 2/5\n",
            "2700/2700 [==============================] - 9s 3ms/step - loss: 0.4013 - accuracy: 0.8541 - val_loss: 0.4254 - val_accuracy: 0.8493\n",
            "Epoch 3/5\n",
            "2700/2700 [==============================] - 9s 3ms/step - loss: 0.3666 - accuracy: 0.8675 - val_loss: 0.4228 - val_accuracy: 0.8547\n",
            "Epoch 4/5\n",
            "2700/2700 [==============================] - 10s 4ms/step - loss: 0.3379 - accuracy: 0.8776 - val_loss: 0.4316 - val_accuracy: 0.8475\n",
            "Epoch 5/5\n",
            "2700/2700 [==============================] - 9s 3ms/step - loss: 0.3133 - accuracy: 0.8876 - val_loss: 0.4380 - val_accuracy: 0.8504\n",
            "675/675 [==============================] - 1s 2ms/step - loss: 0.4459 - accuracy: 0.8478\n",
            "Epoch 1/5\n",
            "2700/2700 [==============================] - 12s 4ms/step - loss: 0.4783 - accuracy: 0.8271 - val_loss: 0.4526 - val_accuracy: 0.8386\n",
            "Epoch 2/5\n",
            "2700/2700 [==============================] - 11s 4ms/step - loss: 0.3997 - accuracy: 0.8555 - val_loss: 0.4253 - val_accuracy: 0.8496\n",
            "Epoch 3/5\n",
            "2700/2700 [==============================] - 10s 4ms/step - loss: 0.3541 - accuracy: 0.8712 - val_loss: 0.4307 - val_accuracy: 0.8528\n",
            "Epoch 4/5\n",
            "2700/2700 [==============================] - 11s 4ms/step - loss: 0.3141 - accuracy: 0.8862 - val_loss: 0.4339 - val_accuracy: 0.8506\n",
            "Epoch 5/5\n",
            "2700/2700 [==============================] - 12s 4ms/step - loss: 0.2792 - accuracy: 0.8996 - val_loss: 0.4897 - val_accuracy: 0.8438\n",
            "675/675 [==============================] - 2s 2ms/step - loss: 0.4772 - accuracy: 0.8453\n",
            "Epoch 1/5\n",
            "2700/2700 [==============================] - 12s 4ms/step - loss: 0.4757 - accuracy: 0.8274 - val_loss: 0.4311 - val_accuracy: 0.8443\n",
            "Epoch 2/5\n",
            "2700/2700 [==============================] - 10s 4ms/step - loss: 0.3991 - accuracy: 0.8560 - val_loss: 0.4290 - val_accuracy: 0.8492\n",
            "Epoch 3/5\n",
            "2700/2700 [==============================] - 10s 4ms/step - loss: 0.3569 - accuracy: 0.8703 - val_loss: 0.4401 - val_accuracy: 0.8497\n",
            "Epoch 4/5\n",
            "2700/2700 [==============================] - 10s 4ms/step - loss: 0.3197 - accuracy: 0.8840 - val_loss: 0.4470 - val_accuracy: 0.8475\n",
            "Epoch 5/5\n",
            "2700/2700 [==============================] - 11s 4ms/step - loss: 0.2847 - accuracy: 0.8972 - val_loss: 0.4649 - val_accuracy: 0.8465\n",
            "675/675 [==============================] - 2s 3ms/step - loss: 0.4661 - accuracy: 0.8442\n",
            "Epoch 1/5\n",
            "2700/2700 [==============================] - 11s 4ms/step - loss: 0.4726 - accuracy: 0.8297 - val_loss: 0.4323 - val_accuracy: 0.8441\n",
            "Epoch 2/5\n",
            "2700/2700 [==============================] - 10s 4ms/step - loss: 0.3972 - accuracy: 0.8558 - val_loss: 0.4265 - val_accuracy: 0.8457\n",
            "Epoch 3/5\n",
            "2700/2700 [==============================] - 11s 4ms/step - loss: 0.3572 - accuracy: 0.8706 - val_loss: 0.4190 - val_accuracy: 0.8503\n",
            "Epoch 4/5\n",
            "2700/2700 [==============================] - 11s 4ms/step - loss: 0.3204 - accuracy: 0.8858 - val_loss: 0.4475 - val_accuracy: 0.8456\n",
            "Epoch 5/5\n",
            "2700/2700 [==============================] - 11s 4ms/step - loss: 0.2856 - accuracy: 0.8979 - val_loss: 0.4684 - val_accuracy: 0.8488\n",
            "675/675 [==============================] - 2s 2ms/step - loss: 0.4897 - accuracy: 0.8396\n",
            "Epoch 1/5\n",
            "2700/2700 [==============================] - 12s 4ms/step - loss: 0.4774 - accuracy: 0.8280 - val_loss: 0.4486 - val_accuracy: 0.8425\n",
            "Epoch 2/5\n",
            "2700/2700 [==============================] - 11s 4ms/step - loss: 0.4033 - accuracy: 0.8542 - val_loss: 0.4178 - val_accuracy: 0.8495\n",
            "Epoch 3/5\n",
            "2700/2700 [==============================] - 11s 4ms/step - loss: 0.3603 - accuracy: 0.8705 - val_loss: 0.4306 - val_accuracy: 0.8462\n",
            "Epoch 4/5\n",
            "2700/2700 [==============================] - 12s 4ms/step - loss: 0.3224 - accuracy: 0.8840 - val_loss: 0.4555 - val_accuracy: 0.8433\n",
            "Epoch 5/5\n",
            "2700/2700 [==============================] - 10s 4ms/step - loss: 0.2886 - accuracy: 0.8960 - val_loss: 0.4621 - val_accuracy: 0.8475\n",
            "675/675 [==============================] - 2s 2ms/step - loss: 0.4563 - accuracy: 0.8494\n",
            "Epoch 1/5\n",
            "2700/2700 [==============================] - 11s 4ms/step - loss: 0.4748 - accuracy: 0.8292 - val_loss: 0.4522 - val_accuracy: 0.8365\n",
            "Epoch 2/5\n",
            "2700/2700 [==============================] - 10s 4ms/step - loss: 0.3957 - accuracy: 0.8569 - val_loss: 0.4272 - val_accuracy: 0.8490\n",
            "Epoch 3/5\n",
            "2700/2700 [==============================] - 13s 5ms/step - loss: 0.3517 - accuracy: 0.8742 - val_loss: 0.4258 - val_accuracy: 0.8519\n",
            "Epoch 4/5\n",
            "2700/2700 [==============================] - 11s 4ms/step - loss: 0.3113 - accuracy: 0.8888 - val_loss: 0.4494 - val_accuracy: 0.8432\n",
            "Epoch 5/5\n",
            "2700/2700 [==============================] - 11s 4ms/step - loss: 0.2746 - accuracy: 0.9016 - val_loss: 0.4737 - val_accuracy: 0.8447\n",
            "675/675 [==============================] - 2s 2ms/step - loss: 0.4903 - accuracy: 0.8451\n",
            "Epoch 1/5\n",
            "2700/2700 [==============================] - 9s 3ms/step - loss: 0.6718 - accuracy: 0.7713 - val_loss: 0.7039 - val_accuracy: 0.7703\n",
            "Epoch 2/5\n",
            "2700/2700 [==============================] - 9s 3ms/step - loss: 0.6381 - accuracy: 0.7852 - val_loss: 0.6564 - val_accuracy: 0.7806\n",
            "Epoch 3/5\n",
            "2700/2700 [==============================] - 8s 3ms/step - loss: 0.6446 - accuracy: 0.7811 - val_loss: 0.6777 - val_accuracy: 0.7888\n",
            "Epoch 4/5\n",
            "2700/2700 [==============================] - 9s 3ms/step - loss: 0.7390 - accuracy: 0.7284 - val_loss: 0.8355 - val_accuracy: 0.6371\n",
            "Epoch 5/5\n",
            "2700/2700 [==============================] - 9s 3ms/step - loss: 0.8296 - accuracy: 0.6384 - val_loss: 0.9336 - val_accuracy: 0.6440\n",
            "675/675 [==============================] - 1s 2ms/step - loss: 0.9021 - accuracy: 0.6408\n",
            "Epoch 1/5\n",
            "2700/2700 [==============================] - 10s 4ms/step - loss: 0.7031 - accuracy: 0.7685 - val_loss: 0.6843 - val_accuracy: 0.7864\n",
            "Epoch 2/5\n",
            "2700/2700 [==============================] - 9s 3ms/step - loss: 0.6734 - accuracy: 0.7873 - val_loss: 0.6671 - val_accuracy: 0.7858\n",
            "Epoch 3/5\n",
            "2700/2700 [==============================] - 9s 3ms/step - loss: 0.7254 - accuracy: 0.7446 - val_loss: 0.8601 - val_accuracy: 0.6261\n",
            "Epoch 4/5\n",
            "2700/2700 [==============================] - 9s 3ms/step - loss: 0.9192 - accuracy: 0.6053 - val_loss: 0.9330 - val_accuracy: 0.6311\n",
            "Epoch 5/5\n",
            "2700/2700 [==============================] - 9s 3ms/step - loss: 0.8978 - accuracy: 0.6219 - val_loss: 0.8870 - val_accuracy: 0.6407\n",
            "675/675 [==============================] - 1s 2ms/step - loss: 0.8705 - accuracy: 0.6386\n",
            "Epoch 1/5\n",
            "2700/2700 [==============================] - 10s 3ms/step - loss: 0.6739 - accuracy: 0.7649 - val_loss: 0.6553 - val_accuracy: 0.7645\n",
            "Epoch 2/5\n",
            "2700/2700 [==============================] - 10s 4ms/step - loss: 0.6510 - accuracy: 0.7853 - val_loss: 0.7166 - val_accuracy: 0.7769\n",
            "Epoch 3/5\n",
            "2700/2700 [==============================] - 9s 3ms/step - loss: 0.6752 - accuracy: 0.7755 - val_loss: 0.8683 - val_accuracy: 0.6056\n",
            "Epoch 4/5\n",
            "2700/2700 [==============================] - 8s 3ms/step - loss: 0.8557 - accuracy: 0.6265 - val_loss: 0.8601 - val_accuracy: 0.6486\n",
            "Epoch 5/5\n",
            "2700/2700 [==============================] - 9s 3ms/step - loss: 0.8556 - accuracy: 0.6272 - val_loss: 0.8300 - val_accuracy: 0.6353\n",
            "675/675 [==============================] - 1s 2ms/step - loss: 0.8228 - accuracy: 0.6319\n",
            "Epoch 1/5\n",
            "2700/2700 [==============================] - 9s 3ms/step - loss: 0.6951 - accuracy: 0.7647 - val_loss: 0.7382 - val_accuracy: 0.7823\n",
            "Epoch 2/5\n",
            "2700/2700 [==============================] - 8s 3ms/step - loss: 0.7060 - accuracy: 0.7815 - val_loss: 0.6643 - val_accuracy: 0.7989\n",
            "Epoch 3/5\n",
            "2700/2700 [==============================] - 8s 3ms/step - loss: 0.6968 - accuracy: 0.7859 - val_loss: 0.7163 - val_accuracy: 0.7738\n",
            "Epoch 4/5\n",
            "2700/2700 [==============================] - 8s 3ms/step - loss: 0.7338 - accuracy: 0.7639 - val_loss: 1.0269 - val_accuracy: 0.6029\n",
            "Epoch 5/5\n",
            "2700/2700 [==============================] - 8s 3ms/step - loss: 0.9263 - accuracy: 0.5994 - val_loss: 0.9182 - val_accuracy: 0.5981\n",
            "675/675 [==============================] - 1s 2ms/step - loss: 0.9064 - accuracy: 0.6112\n",
            "Epoch 1/5\n",
            "2700/2700 [==============================] - 9s 3ms/step - loss: 0.6646 - accuracy: 0.7726 - val_loss: 0.7019 - val_accuracy: 0.7816\n",
            "Epoch 2/5\n",
            "2700/2700 [==============================] - 9s 3ms/step - loss: 0.6382 - accuracy: 0.7802 - val_loss: 0.6589 - val_accuracy: 0.7965\n",
            "Epoch 3/5\n",
            "2700/2700 [==============================] - 8s 3ms/step - loss: 0.8224 - accuracy: 0.6619 - val_loss: 0.8466 - val_accuracy: 0.6302\n",
            "Epoch 4/5\n",
            "2700/2700 [==============================] - 8s 3ms/step - loss: 0.8698 - accuracy: 0.6313 - val_loss: 0.8552 - val_accuracy: 0.6324\n",
            "Epoch 5/5\n",
            "2700/2700 [==============================] - 8s 3ms/step - loss: 1.0034 - accuracy: 0.4775 - val_loss: 1.0093 - val_accuracy: 0.4577\n",
            "675/675 [==============================] - 2s 2ms/step - loss: 1.0075 - accuracy: 0.4597\n",
            "Epoch 1/5\n",
            "2700/2700 [==============================] - 11s 4ms/step - loss: 0.8253 - accuracy: 0.6562 - val_loss: 0.8349 - val_accuracy: 0.7070\n",
            "Epoch 2/5\n",
            "2700/2700 [==============================] - 10s 4ms/step - loss: 0.7493 - accuracy: 0.7208 - val_loss: 0.8223 - val_accuracy: 0.7408\n",
            "Epoch 3/5\n",
            "2700/2700 [==============================] - 11s 4ms/step - loss: 0.7589 - accuracy: 0.7182 - val_loss: 0.7729 - val_accuracy: 0.7329\n",
            "Epoch 4/5\n",
            "2700/2700 [==============================] - 11s 4ms/step - loss: 0.7631 - accuracy: 0.7181 - val_loss: 0.7278 - val_accuracy: 0.7426\n",
            "Epoch 5/5\n",
            "2700/2700 [==============================] - 10s 4ms/step - loss: 0.7549 - accuracy: 0.7211 - val_loss: 0.8485 - val_accuracy: 0.7544\n",
            "675/675 [==============================] - 2s 2ms/step - loss: 0.8076 - accuracy: 0.7528\n",
            "Epoch 1/5\n",
            "2700/2700 [==============================] - 10s 3ms/step - loss: 0.6719 - accuracy: 0.7793 - val_loss: 0.6457 - val_accuracy: 0.7829\n",
            "Epoch 2/5\n",
            "2700/2700 [==============================] - 10s 4ms/step - loss: 0.6378 - accuracy: 0.7994 - val_loss: 0.6304 - val_accuracy: 0.7862\n",
            "Epoch 3/5\n",
            "2700/2700 [==============================] - 9s 3ms/step - loss: 0.7208 - accuracy: 0.7760 - val_loss: 0.8199 - val_accuracy: 0.7857\n",
            "Epoch 4/5\n",
            "2700/2700 [==============================] - 9s 3ms/step - loss: 0.7074 - accuracy: 0.7826 - val_loss: 0.6753 - val_accuracy: 0.7940\n",
            "Epoch 5/5\n",
            "2700/2700 [==============================] - 10s 4ms/step - loss: 0.8536 - accuracy: 0.6338 - val_loss: 0.8699 - val_accuracy: 0.6426\n",
            "675/675 [==============================] - 2s 2ms/step - loss: 0.8589 - accuracy: 0.6363\n",
            "Epoch 1/5\n",
            "2700/2700 [==============================] - 10s 4ms/step - loss: 0.6703 - accuracy: 0.7821 - val_loss: 0.6637 - val_accuracy: 0.7795\n",
            "Epoch 2/5\n",
            "2700/2700 [==============================] - 9s 3ms/step - loss: 0.7051 - accuracy: 0.7888 - val_loss: 0.6355 - val_accuracy: 0.7807\n",
            "Epoch 3/5\n",
            "2700/2700 [==============================] - 9s 3ms/step - loss: 0.6735 - accuracy: 0.7923 - val_loss: 0.6219 - val_accuracy: 0.7898\n",
            "Epoch 4/5\n",
            "2700/2700 [==============================] - 8s 3ms/step - loss: 0.6606 - accuracy: 0.7961 - val_loss: 0.7287 - val_accuracy: 0.7941\n",
            "Epoch 5/5\n",
            "2700/2700 [==============================] - 9s 3ms/step - loss: 0.7756 - accuracy: 0.7132 - val_loss: 0.8955 - val_accuracy: 0.6258\n",
            "675/675 [==============================] - 1s 2ms/step - loss: 0.8907 - accuracy: 0.6218\n",
            "Epoch 1/5\n",
            "2700/2700 [==============================] - 12s 4ms/step - loss: 0.6858 - accuracy: 0.7634 - val_loss: 0.6794 - val_accuracy: 0.7757\n",
            "Epoch 2/5\n",
            "2700/2700 [==============================] - 9s 3ms/step - loss: 0.6460 - accuracy: 0.7928 - val_loss: 0.6819 - val_accuracy: 0.8030\n",
            "Epoch 3/5\n",
            "2700/2700 [==============================] - 10s 4ms/step - loss: 0.6737 - accuracy: 0.7900 - val_loss: 1.0718 - val_accuracy: 0.6113\n",
            "Epoch 4/5\n",
            "2700/2700 [==============================] - 11s 4ms/step - loss: 0.8912 - accuracy: 0.6241 - val_loss: 1.0186 - val_accuracy: 0.7444\n",
            "Epoch 5/5\n",
            "2700/2700 [==============================] - 9s 3ms/step - loss: 0.8405 - accuracy: 0.6905 - val_loss: 0.9639 - val_accuracy: 0.4951\n",
            "675/675 [==============================] - 1s 2ms/step - loss: 0.9647 - accuracy: 0.4958\n",
            "Epoch 1/5\n",
            "2700/2700 [==============================] - 11s 4ms/step - loss: 0.7200 - accuracy: 0.7531 - val_loss: 0.7164 - val_accuracy: 0.7722\n",
            "Epoch 2/5\n",
            "2700/2700 [==============================] - 9s 3ms/step - loss: 0.6627 - accuracy: 0.7773 - val_loss: 0.6925 - val_accuracy: 0.7916\n",
            "Epoch 3/5\n",
            "2700/2700 [==============================] - 10s 4ms/step - loss: 0.6450 - accuracy: 0.7830 - val_loss: 0.6066 - val_accuracy: 0.7958\n",
            "Epoch 4/5\n",
            "2700/2700 [==============================] - 10s 4ms/step - loss: 0.8091 - accuracy: 0.6621 - val_loss: 0.9201 - val_accuracy: 0.6482\n",
            "Epoch 5/5\n",
            "2700/2700 [==============================] - 10s 4ms/step - loss: 0.7634 - accuracy: 0.7334 - val_loss: 0.6803 - val_accuracy: 0.7909\n",
            "675/675 [==============================] - 2s 2ms/step - loss: 0.6951 - accuracy: 0.7902\n",
            "Epoch 1/5\n",
            "2700/2700 [==============================] - 11s 4ms/step - loss: 0.7555 - accuracy: 0.7374 - val_loss: 0.7460 - val_accuracy: 0.7102\n",
            "Epoch 2/5\n",
            "2700/2700 [==============================] - 11s 4ms/step - loss: 0.8032 - accuracy: 0.6578 - val_loss: 0.7719 - val_accuracy: 0.6524\n",
            "Epoch 3/5\n",
            "2700/2700 [==============================] - 10s 4ms/step - loss: 0.7825 - accuracy: 0.6410 - val_loss: 0.7741 - val_accuracy: 0.6578\n",
            "Epoch 4/5\n",
            "2700/2700 [==============================] - 10s 4ms/step - loss: 0.7676 - accuracy: 0.6487 - val_loss: 0.8102 - val_accuracy: 0.6156\n",
            "Epoch 5/5\n",
            "2700/2700 [==============================] - 11s 4ms/step - loss: 0.7620 - accuracy: 0.6469 - val_loss: 0.8548 - val_accuracy: 0.6587\n",
            "675/675 [==============================] - 2s 2ms/step - loss: 0.8335 - accuracy: 0.6594\n",
            "Epoch 1/5\n",
            "2700/2700 [==============================] - 11s 4ms/step - loss: 0.7284 - accuracy: 0.7587 - val_loss: 0.6486 - val_accuracy: 0.7855\n",
            "Epoch 2/5\n",
            "2700/2700 [==============================] - 10s 4ms/step - loss: 0.6721 - accuracy: 0.7874 - val_loss: 0.6833 - val_accuracy: 0.7949\n",
            "Epoch 3/5\n",
            "2700/2700 [==============================] - 10s 4ms/step - loss: 0.6694 - accuracy: 0.7923 - val_loss: 0.7077 - val_accuracy: 0.7997\n",
            "Epoch 4/5\n",
            "2700/2700 [==============================] - 10s 4ms/step - loss: 0.7140 - accuracy: 0.7675 - val_loss: 0.9168 - val_accuracy: 0.5869\n",
            "Epoch 5/5\n",
            "2700/2700 [==============================] - 10s 4ms/step - loss: 0.7870 - accuracy: 0.7543 - val_loss: 0.9012 - val_accuracy: 0.7763\n",
            "675/675 [==============================] - 1s 2ms/step - loss: 0.8340 - accuracy: 0.7742\n",
            "Epoch 1/5\n",
            "2700/2700 [==============================] - 11s 4ms/step - loss: 0.8122 - accuracy: 0.7311 - val_loss: 0.6568 - val_accuracy: 0.7958\n",
            "Epoch 2/5\n",
            "2700/2700 [==============================] - 10s 4ms/step - loss: 0.7600 - accuracy: 0.7741 - val_loss: 0.6735 - val_accuracy: 0.7857\n",
            "Epoch 3/5\n",
            "2700/2700 [==============================] - 11s 4ms/step - loss: 0.6997 - accuracy: 0.7844 - val_loss: 0.7308 - val_accuracy: 0.7891\n",
            "Epoch 4/5\n",
            "2700/2700 [==============================] - 10s 4ms/step - loss: 0.7582 - accuracy: 0.7407 - val_loss: 0.8349 - val_accuracy: 0.7225\n",
            "Epoch 5/5\n",
            "2700/2700 [==============================] - 9s 3ms/step - loss: 0.8129 - accuracy: 0.7512 - val_loss: 0.7700 - val_accuracy: 0.7825\n",
            "675/675 [==============================] - 2s 2ms/step - loss: 0.7556 - accuracy: 0.7808\n",
            "Epoch 1/5\n",
            "2700/2700 [==============================] - 11s 4ms/step - loss: 0.7255 - accuracy: 0.7575 - val_loss: 0.7028 - val_accuracy: 0.7442\n",
            "Epoch 2/5\n",
            "2700/2700 [==============================] - 10s 4ms/step - loss: 0.7081 - accuracy: 0.7786 - val_loss: 0.9132 - val_accuracy: 0.6165\n",
            "Epoch 3/5\n",
            "2700/2700 [==============================] - 11s 4ms/step - loss: 0.8954 - accuracy: 0.6268 - val_loss: 1.0048 - val_accuracy: 0.6010\n",
            "Epoch 4/5\n",
            "2700/2700 [==============================] - 11s 4ms/step - loss: 0.8849 - accuracy: 0.6140 - val_loss: 0.9101 - val_accuracy: 0.6068\n",
            "Epoch 5/5\n",
            "2700/2700 [==============================] - 10s 4ms/step - loss: 0.8674 - accuracy: 0.6179 - val_loss: 0.8972 - val_accuracy: 0.5978\n",
            "675/675 [==============================] - 2s 2ms/step - loss: 0.8848 - accuracy: 0.6001\n",
            "Epoch 1/5\n",
            "2700/2700 [==============================] - 12s 4ms/step - loss: 0.7186 - accuracy: 0.7616 - val_loss: 0.6933 - val_accuracy: 0.7542\n",
            "Epoch 2/5\n",
            "2700/2700 [==============================] - 11s 4ms/step - loss: 0.7897 - accuracy: 0.6717 - val_loss: 0.7728 - val_accuracy: 0.6990\n",
            "Epoch 3/5\n",
            "2700/2700 [==============================] - 10s 4ms/step - loss: 0.7829 - accuracy: 0.6938 - val_loss: 0.7664 - val_accuracy: 0.7255\n",
            "Epoch 4/5\n",
            "2700/2700 [==============================] - 10s 4ms/step - loss: 0.8207 - accuracy: 0.6968 - val_loss: 0.8001 - val_accuracy: 0.6843\n",
            "Epoch 5/5\n",
            "2700/2700 [==============================] - 10s 4ms/step - loss: 0.8475 - accuracy: 0.6723 - val_loss: 0.9060 - val_accuracy: 0.6026\n",
            "675/675 [==============================] - 2s 2ms/step - loss: 0.9012 - accuracy: 0.6099\n",
            "Epoch 1/5\n",
            "3375/3375 [==============================] - 14s 4ms/step - loss: 0.6378 - accuracy: 0.7781 - val_loss: 0.4411 - val_accuracy: 0.8478\n",
            "Epoch 2/5\n",
            "3375/3375 [==============================] - 13s 4ms/step - loss: 0.4149 - accuracy: 0.8543 - val_loss: 0.4216 - val_accuracy: 0.8516\n",
            "Epoch 3/5\n",
            "3375/3375 [==============================] - 13s 4ms/step - loss: 0.3985 - accuracy: 0.8589 - val_loss: 0.4167 - val_accuracy: 0.8509\n",
            "Epoch 4/5\n",
            "3375/3375 [==============================] - 13s 4ms/step - loss: 0.3892 - accuracy: 0.8609 - val_loss: 0.4101 - val_accuracy: 0.8530\n",
            "Epoch 5/5\n",
            "3375/3375 [==============================] - 14s 4ms/step - loss: 0.3819 - accuracy: 0.8633 - val_loss: 0.4072 - val_accuracy: 0.8530\n"
          ]
        },
        {
          "output_type": "execute_result",
          "data": {
            "text/plain": [
              "GridSearchCV(estimator=<keras.wrappers.scikit_learn.KerasRegressor object at 0x7f8a2f9436d0>,\n",
              "             param_grid={'learning_rate': [0.0001, 0.01, 0.1],\n",
              "                         'n_units': [16, 32, 64]})"
            ]
          },
          "metadata": {},
          "execution_count": 41
        }
      ]
    },
    {
      "cell_type": "markdown",
      "metadata": {
        "id": "aadmkiOoyM94"
      },
      "source": [
        "Print the best hyper-parameters, and evealuate the best model on the test set."
      ]
    },
    {
      "cell_type": "code",
      "metadata": {
        "id": "b0nL5OZkylNX",
        "colab": {
          "base_uri": "https://localhost:8080/"
        },
        "outputId": "06f40e10-0ffa-4072-dd19-626e51c3ea3f"
      },
      "source": [
        "print(grid_search.best_params_)\n",
        "\n",
        "model = grid_search.best_estimator_.model\n",
        "model.evaluate(X_test, y_test)"
      ],
      "execution_count": 42,
      "outputs": [
        {
          "output_type": "stream",
          "name": "stdout",
          "text": [
            "{'learning_rate': 0.0001, 'n_units': 64}\n",
            "238/238 [==============================] - 1s 3ms/step - loss: 0.4154 - accuracy: 0.8512\n"
          ]
        },
        {
          "output_type": "execute_result",
          "data": {
            "text/plain": [
              "[0.4154057502746582, 0.8511841893196106]"
            ]
          },
          "metadata": {},
          "execution_count": 42
        }
      ]
    },
    {
      "cell_type": "code",
      "source": [
        ""
      ],
      "metadata": {
        "id": "3UbfbEkdrkD1"
      },
      "execution_count": null,
      "outputs": []
    }
  ]
}